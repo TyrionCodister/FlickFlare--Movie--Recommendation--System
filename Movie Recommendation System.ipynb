{
 "cells": [
  {
   "cell_type": "markdown",
   "id": "16c7d370-1b19-491d-af8f-7cccab8d3bb3",
   "metadata": {},
   "source": [
    "# **FLICKFLARE**\n",
    "\n",
    "\n",
    
 

    "\n",
    "\n",
    "\n",
    "\n",
    "\n",
    "\n",
    "\n"
   ]
  },
  {
   "cell_type": "markdown",
   "id": "21f42321-8185-40c5-ac9c-a0c6699b52f9",
   "metadata": {},
   "source": [
    "### **Project Phase 4**\n",
    "\n",
    "Authors\n",
    "\n",
    "#### Kelvin Mwaura\n",
    "#### Abigael Nyabaga\n",
    "#### Prossy Nansubuga"
   ]
  },
  {
   "cell_type": "markdown",
   "id": "04bfcc4f-a72a-4e19-a538-567cd591fef0",
   "metadata": {},
   "source": [
    "FlickFlare Movie Recommender System\n",
    "\n",
    "Overview:\n",
    "\n",
    "FlickFlare is an innovative movie streaming platform  that aims to deliver a diverse array of movies nad films, ranging from classic cinema and indie gems to the latest blockbusters, directly to your screen. To elevate user satisfaction, increase watch time, and improve customer retention, FlickFlare is implementing a sophisticated movie recommendation system. This system will utilize the MovieLens dataset to create a hybrid recommendation engine that provides personalized top 5 movie suggestions for each user based on their previous ratings and preferences.\n",
    "\n",
    "By using collaborative filtering techniques , FlickFlare ensures precise and relevant movie recommendations. This personalized approach aims to reduce content discovery friction, boost average watch time per user by suggesting highly relevant content, and improve customer retention rates through a tailored viewing experience. Additionally, this strategy helps FlickFlare differentiate itself from competitors in the streaming market by offering superior content curation and optimizing content acquisition and production strategies based on user preferences.\n",
    "\n",
    "This project aligns with FlickFlare's broader goal of leveraging data-driven insights to create a more compelling and personalized streaming service, ultimately driving business growth and solidifying its position as a leader in the competitive streaming industry."
   ]
  },
  {
   "cell_type": "markdown",
   "id": "e9e916a6-c4e3-4f05-b6e0-c6b47147bdb5",
   "metadata": {},
   "source": [
    "Business Understanding\n",
    " Problem Statement\n",
    "\n",
    "\n",
    "FlickFlare, a prominent movie streaming platform, faces a critical challenge:\n",
    "\n",
    "• User feedback on Google Play Store indicates dissatisfaction with movie recommendations\n",
    "\n",
    "• Current suggestions fail to align with user interests and preferences\n",
    "\n",
    "• This misalignment is impacting user engagement and retention of customers on the platform, leading to a 25% increase in churn rates over the past six months. \n",
    "\n",
    "\n",
    " FlickFlare has partnered with RODATA, a data analytics firm, to address this issue by Developing a sophisticated movie recommender system that provides personalized  movie recommendations based off individual user ratings and preferred genres.\n",
    " This tailored solution aims to transform FlickFlare's recommendation engine, directly addressing user concerns and boosting overall platform performance."
   ]
  },
  {
   "cell_type": "markdown",
   "id": "24577d77-92e5-48d1-8f2a-18679682ddfd",
   "metadata": {},
   "source": [
    " Objectives\n",
    "\n",
    " Main Objective\n",
    "\n",
    "To build a movie recommender system that suggests top movies to streaming users based on movie ratings\n",
    "\n",
    "Specific Objectives\n",
    "\n",
    "1. To Implement and compare SVD, NMF, and KNN collaborative filtering algorithms for movie recommendation, evaluating their performance using RMSE on a benchmark dataset of user-movie ratings\n",
    "\n",
    "2. To use the model witn the lowest rmse  to generate personalized top-N movie recommendations for streaming users.\n",
    "\n",
    "3.To develop a hybrid recommender system that combines the strengths of SVD, NMF, and KNN models to potentially improve upon the performance of the best single model\n",
    "\n",
    "\n"
   ]
  },
  {
   "cell_type": "markdown",
   "id": "d36da964",
   "metadata": {},
   "source": [
    "\n",
    "Metric for Success\n",
    "\n",
    "\n",
    "\n",
    "\n",
    "Goal: To Achieve at least 80% accuracy in recommending the top five movies.\n",
    "\n",
    "Approach:\n",
    "\n",
    "Model Implementation: To Utilize SVD, NMF, and KNN algorithms to predict user ratings and rank movies accordingly.\n",
    "\n",
    "Evaluation: Measure the accuracy of predictions using RMSE . The goal is to achieve an RMSE that corresponds to at least 80% accuracy in the top five recommendations.\n",
    "\n",
    "Optimization: Continuously tune and validate model parameters to improve accuracy. W e will Use techniques like cross-validation to ensure the robustness of the models"
   ]
  },
  {
   "cell_type": "markdown",
   "id": "361792af",
   "metadata": {},
   "source": [
    "DATA CONSTRAINTS \n",
    "\n",
    "1. Sparsity of the data : Many users rate only a few movies, resulting in a sparse ratings matrix. This makes it challenging to find commonalities between users or movies for collaborative filtering.\n",
    "\n",
    "2. Cold start problem: Difficulty in recommending to new users or items with no rating history.\n",
    "\n",
    "3. Bias in Data: Historical data may contain biases, such as popular movies receiving more ratings. These biases can skew recommendations towards already popular items, limiting diversity.\n",
    "\n",
    "4. Demographic skew: The Dataset may not represent all user groups equally, leading to biased recommendations\n",
    "\n",
    "5. Ensuring there is  a  balance between accuracy and diversity ie offering precise recommendations while at the same time offering a diverse range of options to avoid monotony and  boredom to the users."
   ]
  },
  {
   "cell_type": "markdown",
   "id": "d01c1240-9919-4c67-85ca-508e23622bd7",
   "metadata": {},
   "source": [
    "Data Understanding\n",
    "\n",
    "The data used has been sourced from the MovieLens dataset from the GroupLens research lab at the University of Minnesota.\n",
    "\n",
    "It contains 100,836 ratings and 3,683 tag applications across 9,742 movies. These data were created by 610 users.\n",
    "\n",
    "The dataset is distributed among four CSV files:\n",
    "\n",
    "    links.csv\n",
    "    movies.csv\n",
    "    ratings.csv\n",
    "    tags.csv\n",
    "\n",
    "1. **movies.csv**\n",
    "\n",
    "Each line of this file after the header row represents one movie and has the following columns:\n",
    "\n",
    "    movieId: Unique ID for each movie\n",
    "    title: Name of the movie followed by its year of release\n",
    "    genres: Categories that a movie might fall into, separated by |\n",
    "\n",
    "\n",
    "\n",
    "2. **tags.csv**\n",
    "\n",
    "Each line of this file after the header row represents one tag applied to one movie by one user and has the following columns:\n",
    "\n",
    "    userId: Unique ID for each user\n",
    "    movieId: Unique ID for each movie\n",
    "    tag: User-generated metadata about the movie in the form of short, meaningful phrases\n",
    "    timestamp: Time when the tag was provided by the user\n",
    "\n",
    "3. **ratings.csv**\n",
    "\n",
    "Each line of this file after the header row represents one rating and has the following columns:\n",
    "\n",
    "    userId: Unique ID for each user\n",
    "    movieId: Unique ID for each movie\n",
    "    rating: Rating given by the user for the movie. Ratings are made on a 5-star scale with 0.5 increments\n",
    "    timestamp: Time when the rating was given"
   ]
  },
  {
   "cell_type": "code",
   "execution_count": null,
   "id": "9b24fe7f-2d60-4aa9-9bbb-02d9f5f118a4",
   "metadata": {},
   "outputs": [],
   "source": [
    "import pandas as pd\n",
    "import matplotlib.pyplot as plt\n",
    "import seaborn as sns\n",
    "\n",
    "# Reading the different datasets into pandas DataFrames\n",
    "tags_df = pd.read_csv('tags.csv')\n",
    "movies_df = pd.read_csv('movies.csv')\n",
    "ratings_df = pd.read_csv('ratings.csv')\n",
    "\n",
    "\n",
    "# Displaying the first few rows of each DataFrame to confirm successful loading\n",
    "print(\"Tags DataFrame:\")\n",
    "print(tags_df.head())\n",
    "\n",
    "print(\"\\nMovies DataFrame:\")\n",
    "print(movies_df.head())\n",
    "\n",
    "print(\"\\nRatings DataFrame:\")\n",
    "print(ratings_df.head())\n",
    "\n"
   ]
  },
  {
   "cell_type": "code",
   "execution_count": null,
   "id": "6e2c0d0e",
   "metadata": {},
   "outputs": [
    {
     "name": "stdout",
     "output_type": "stream",
     "text": [
      " movies_df has 9742 records.\n",
      " ratings_df has 100836 records.\n",
      " tags_df has 3683 records.\n"
     ]
    }
   ],
   "source": [
    "# printing the number of records in every dataframe\n",
    "dataframes = [ movies_df, ratings_df, tags_df]\n",
    "dataframe_names = [ 'movies_df', 'ratings_df', 'tags_df']\n",
    "\n",
    "for i in range(len(dataframes)):\n",
    "    print(f\" {dataframe_names[i]} has {dataframes[i].shape[0]} records.\")"
   ]
  },
  {
   "cell_type": "markdown",
   "id": "e0aaf31d-399f-43ca-9867-289949b8838a",
   "metadata": {},
   "source": [
    "### **Inspect and Handle Missing Values**\n",
    "\n",
    "    Check for Missing Values: We will determine if there are any missing values in the DataFrames."
   ]
  },
  {
   "cell_type": "code",
   "execution_count": null,
   "id": "e9fbbc2d-ddce-4dee-b562-e61d1679e2fb",
   "metadata": {},
   "outputs": [
    {
     "name": "stdout",
     "output_type": "stream",
     "text": [
      "Missing values in tags_df:\n",
      "userId       0\n",
      "movieId      0\n",
      "tag          0\n",
      "timestamp    0\n",
      "dtype: int64\n",
      "\n",
      "Missing values in movies_df:\n",
      "movieId    0\n",
      "title      0\n",
      "genres     0\n",
      "dtype: int64\n",
      "\n",
      "Missing values in ratings_df:\n",
      "userId       0\n",
      "movieId      0\n",
      "rating       0\n",
      "timestamp    0\n",
      "dtype: int64\n"
     ]
    }
   ],
   "source": [
    "print(\"Missing values in tags_df:\")\n",
    "print(tags_df.isnull().sum())\n",
    "\n",
    "print(\"\\nMissing values in movies_df:\")\n",
    "print(movies_df.isnull().sum())\n",
    "\n",
    "print(\"\\nMissing values in ratings_df:\")\n",
    "print(ratings_df.isnull().sum())\n",
    "\n",
    "\n"
   ]
  },
  {
   "cell_type": "markdown",
   "id": "d95d9e7c-0698-4b74-ac0f-29132fffc3a5",
   "metadata": {},
   "source": [
    "### **Review Missing Data:**\n",
    "\n",
    "**Implications of Missing tmdbId Values:**\n",
    "\n",
    "1. **Data Integrity:** The missing tmdbId values mean that there are some records where the unique identifier for movies is absent. This can lead to incomplete information when attempting to link or fetch movie details.\n",
    "\n",
    "2. **Potential Issues in Analysis:** If we need to perform operations like merging with other datasets that use tmdbId, these records will not match and may result in missing data or errors in your analysis.\n",
    "\n",
    "3. **Impact on Model Training:** For machine learning models or recommendations, missing identifiers can lead to incomplete data for feature engineering, which can affect model performance and accuracy.\n",
    "\n",
    "**Steps Taken to Handle Missing Values:**\n",
    "\n",
    "1. Identified Missing Records:\n",
    "2. Dropping Rows with Missing tmdbId"
   ]
  },
  {
   "cell_type": "code",
   "execution_count": null,
   "id": "5b6e06ca-af0a-420c-835a-2ad976c74168",
   "metadata": {},
   "outputs": [
    {
     "name": "stdout",
     "output_type": "stream",
     "text": [
      "\n",
      "Missing values in tags_df:\n",
      "userId       0\n",
      "movieId      0\n",
      "tag          0\n",
      "timestamp    0\n",
      "dtype: int64\n",
      "\n",
      "Missing values in movies_df:\n",
      "movieId    0\n",
      "title      0\n",
      "genres     0\n",
      "dtype: int64\n",
      "\n",
      "Missing values in ratings_df:\n",
      "userId       0\n",
      "movieId      0\n",
      "rating       0\n",
      "timestamp    0\n",
      "dtype: int64\n"
     ]
    }
   ],
   "source": [
    "# Check for any remaining missing values in all DataFrames\n",
    "print(\"\\nMissing values in tags_df:\")\n",
    "print(tags_df.isnull().sum())\n",
    "\n",
    "print(\"\\nMissing values in movies_df:\")\n",
    "print(movies_df.isnull().sum())\n",
    "\n",
    "print(\"\\nMissing values in ratings_df:\")\n",
    "print(ratings_df.isnull().sum())\n",
    "\n",
    "\n"
   ]
  },
  {
   "cell_type": "code",
   "execution_count": null,
   "id": "8c28ebf4-f274-4e0a-a437-50e761066e63",
   "metadata": {},
   "outputs": [
    {
     "name": "stdout",
     "output_type": "stream",
     "text": [
      "\n",
      "Duplicates in tags_df:\n",
      "0\n",
      "\n",
      "Duplicates in movies_df:\n",
      "0\n",
      "\n",
      "Duplicates in ratings_df:\n",
      "0\n"
     ]
    }
   ],
   "source": [
    "# Check for duplicates in all DataFrames\n",
    "print(\"\\nDuplicates in tags_df:\")\n",
    "print(tags_df.duplicated().sum())\n",
    "\n",
    "print(\"\\nDuplicates in movies_df:\")\n",
    "print(movies_df.duplicated().sum())\n",
    "\n",
    "print(\"\\nDuplicates in ratings_df:\")\n",
    "print(ratings_df.duplicated().sum())\n",
    "\n",
    "\n",
    "\n",
    "# Remove duplicates if found\n",
    "tags_df.drop_duplicates(inplace=True)\n",
    "movies_df.drop_duplicates(inplace=True)\n",
    "ratings_df.drop_duplicates(inplace=True)\n",
    "\n"
   ]
  },
  {
   "cell_type": "code",
   "execution_count": null,
   "id": "87c8610c",
   "metadata": {},
   "outputs": [
    {
     "data": {
      "text/html": [
       "<div>\n",
       "<style scoped>\n",
       "    .dataframe tbody tr th:only-of-type {\n",
       "        vertical-align: middle;\n",
       "    }\n",
       "\n",
       "    .dataframe tbody tr th {\n",
       "        vertical-align: top;\n",
       "    }\n",
       "\n",
       "    .dataframe thead th {\n",
       "        text-align: right;\n",
       "    }\n",
       "</style>\n",
       "<table border=\"1\" class=\"dataframe\">\n",
       "  <thead>\n",
       "    <tr style=\"text-align: right;\">\n",
       "      <th></th>\n",
       "      <th>movieId</th>\n",
       "      <th>title</th>\n",
       "      <th>genres</th>\n",
       "    </tr>\n",
       "  </thead>\n",
       "  <tbody>\n",
       "    <tr>\n",
       "      <th>0</th>\n",
       "      <td>1</td>\n",
       "      <td>Toy Story (1995)</td>\n",
       "      <td>[Adventure, Animation, Children, Comedy, Fantasy]</td>\n",
       "    </tr>\n",
       "    <tr>\n",
       "      <th>1</th>\n",
       "      <td>2</td>\n",
       "      <td>Jumanji (1995)</td>\n",
       "      <td>[Adventure, Children, Fantasy]</td>\n",
       "    </tr>\n",
       "    <tr>\n",
       "      <th>2</th>\n",
       "      <td>3</td>\n",
       "      <td>Grumpier Old Men (1995)</td>\n",
       "      <td>[Comedy, Romance]</td>\n",
       "    </tr>\n",
       "    <tr>\n",
       "      <th>3</th>\n",
       "      <td>4</td>\n",
       "      <td>Waiting to Exhale (1995)</td>\n",
       "      <td>[Comedy, Drama, Romance]</td>\n",
       "    </tr>\n",
       "    <tr>\n",
       "      <th>4</th>\n",
       "      <td>5</td>\n",
       "      <td>Father of the Bride Part II (1995)</td>\n",
       "      <td>[Comedy]</td>\n",
       "    </tr>\n",
       "    <tr>\n",
       "      <th>...</th>\n",
       "      <td>...</td>\n",
       "      <td>...</td>\n",
       "      <td>...</td>\n",
       "    </tr>\n",
       "    <tr>\n",
       "      <th>9737</th>\n",
       "      <td>193581</td>\n",
       "      <td>Black Butler: Book of the Atlantic (2017)</td>\n",
       "      <td>[Action, Animation, Comedy, Fantasy]</td>\n",
       "    </tr>\n",
       "    <tr>\n",
       "      <th>9738</th>\n",
       "      <td>193583</td>\n",
       "      <td>No Game No Life: Zero (2017)</td>\n",
       "      <td>[Animation, Comedy, Fantasy]</td>\n",
       "    </tr>\n",
       "    <tr>\n",
       "      <th>9739</th>\n",
       "      <td>193585</td>\n",
       "      <td>Flint (2017)</td>\n",
       "      <td>[Drama]</td>\n",
       "    </tr>\n",
       "    <tr>\n",
       "      <th>9740</th>\n",
       "      <td>193587</td>\n",
       "      <td>Bungo Stray Dogs: Dead Apple (2018)</td>\n",
       "      <td>[Action, Animation]</td>\n",
       "    </tr>\n",
       "    <tr>\n",
       "      <th>9741</th>\n",
       "      <td>193609</td>\n",
       "      <td>Andrew Dice Clay: Dice Rules (1991)</td>\n",
       "      <td>[Comedy]</td>\n",
       "    </tr>\n",
       "  </tbody>\n",
       "</table>\n",
       "<p>9742 rows × 3 columns</p>\n",
       "</div>"
      ],
      "text/plain": [
       "      movieId                                      title  \\\n",
       "0           1                           Toy Story (1995)   \n",
       "1           2                             Jumanji (1995)   \n",
       "2           3                    Grumpier Old Men (1995)   \n",
       "3           4                   Waiting to Exhale (1995)   \n",
       "4           5         Father of the Bride Part II (1995)   \n",
       "...       ...                                        ...   \n",
       "9737   193581  Black Butler: Book of the Atlantic (2017)   \n",
       "9738   193583               No Game No Life: Zero (2017)   \n",
       "9739   193585                               Flint (2017)   \n",
       "9740   193587        Bungo Stray Dogs: Dead Apple (2018)   \n",
       "9741   193609        Andrew Dice Clay: Dice Rules (1991)   \n",
       "\n",
       "                                                 genres  \n",
       "0     [Adventure, Animation, Children, Comedy, Fantasy]  \n",
       "1                        [Adventure, Children, Fantasy]  \n",
       "2                                     [Comedy, Romance]  \n",
       "3                              [Comedy, Drama, Romance]  \n",
       "4                                              [Comedy]  \n",
       "...                                                 ...  \n",
       "9737               [Action, Animation, Comedy, Fantasy]  \n",
       "9738                       [Animation, Comedy, Fantasy]  \n",
       "9739                                            [Drama]  \n",
       "9740                                [Action, Animation]  \n",
       "9741                                           [Comedy]  \n",
       "\n",
       "[9742 rows x 3 columns]"
      ]
     },
     "execution_count": 7,
     "metadata": {},
     "output_type": "execute_result"
    }
   ],
   "source": [
    "# Genre Processing: Split the genres in the `movies.csv` dataset into lists for easier analysis\n",
    "\n",
    "movies_df['genres'] = movies_df['genres'].apply(lambda x: x.split('|'))\n",
    "movies_df"
   ]
  },
  {
   "cell_type": "markdown",
   "id": "9ce51382-fd07-46de-92d8-900df6349f85",
   "metadata": {},
   "source": [
    "**Convert timestamp into datetime object**\n",
    "\n",
    "Purpose: Converts timestamps from Unix epoch time (seconds since 1970-01-01) to datetime objects.\n",
    "\n",
    "Parameter unit='s': Specifies that the timestamps are in seconds. If your timestamps are in milliseconds, you would use unit='ms'.\n",
    "\n",
    "The function below is designed to convert timestamp values into datetime objects, which is useful for time-based analysis."
   ]
  },
  {
   "cell_type": "code",
   "execution_count": null,
   "id": "0c42c9c0-139d-4ab5-aaf0-365d7972c3a7",
   "metadata": {},
   "outputs": [],
   "source": [
    "\n",
    "\n",
    "# Convert timestamps to datetime\n",
    "tags_df['timestamp'] = pd.to_datetime(tags_df['timestamp'], unit='s')\n",
    "ratings_df['timestamp'] = pd.to_datetime(ratings_df['timestamp'], unit='s')\n",
    "\n"
   ]
  },
  {
   "cell_type": "markdown",
   "id": "110471d5-a734-492f-9505-ee14e963e037",
   "metadata": {},
   "source": [
    "**Join DataFrames**\n",
    "\n",
    "We shall now join movies_df with tags_df and ratings_df, and include links_df:"
   ]
  },
  {
   "cell_type": "code",
   "execution_count": null,
   "id": "0c83ef00-5425-4e14-8afd-b5222cf8140d",
   "metadata": {},
   "outputs": [
    {
     "name": "stdout",
     "output_type": "stream",
     "text": [
      "\n",
      "Movies and Tags DataFrame:\n",
      "   movieId             title  \\\n",
      "0        1  Toy Story (1995)   \n",
      "1        1  Toy Story (1995)   \n",
      "2        1  Toy Story (1995)   \n",
      "3        2    Jumanji (1995)   \n",
      "4        2    Jumanji (1995)   \n",
      "\n",
      "                                              genres  userId  \\\n",
      "0  [Adventure, Animation, Children, Comedy, Fantasy]   336.0   \n",
      "1  [Adventure, Animation, Children, Comedy, Fantasy]   474.0   \n",
      "2  [Adventure, Animation, Children, Comedy, Fantasy]   567.0   \n",
      "3                     [Adventure, Children, Fantasy]    62.0   \n",
      "4                     [Adventure, Children, Fantasy]    62.0   \n",
      "\n",
      "                tag           timestamp  \n",
      "0             pixar 2006-02-04 09:36:04  \n",
      "1             pixar 2006-01-14 02:47:05  \n",
      "2               fun 2018-05-02 18:33:33  \n",
      "3           fantasy 2018-06-12 22:52:09  \n",
      "4  magic board game 2018-06-12 22:52:12  \n",
      "\n",
      "Movies and Ratings DataFrame:\n",
      "   movieId             title  \\\n",
      "0        1  Toy Story (1995)   \n",
      "1        1  Toy Story (1995)   \n",
      "2        1  Toy Story (1995)   \n",
      "3        1  Toy Story (1995)   \n",
      "4        1  Toy Story (1995)   \n",
      "\n",
      "                                              genres  userId  rating  \\\n",
      "0  [Adventure, Animation, Children, Comedy, Fantasy]     1.0     4.0   \n",
      "1  [Adventure, Animation, Children, Comedy, Fantasy]     5.0     4.0   \n",
      "2  [Adventure, Animation, Children, Comedy, Fantasy]     7.0     4.5   \n",
      "3  [Adventure, Animation, Children, Comedy, Fantasy]    15.0     2.5   \n",
      "4  [Adventure, Animation, Children, Comedy, Fantasy]    17.0     4.5   \n",
      "\n",
      "            timestamp  \n",
      "0 2000-07-30 18:45:03  \n",
      "1 1996-11-08 06:36:02  \n",
      "2 2005-01-25 06:52:26  \n",
      "3 2017-11-13 12:59:30  \n",
      "4 2011-05-18 05:28:03  \n"
     ]
    }
   ],
   "source": [
    "# Join movies_df with tags_df on 'movieId'\n",
    "movies_tags_df = pd.merge(movies_df, tags_df, on='movieId', how='left')\n",
    "\n",
    "# Join movies_df with ratings_df on 'movieId'\n",
    "movies_ratings_df = pd.merge(movies_df, ratings_df, on='movieId', how='left')\n",
    "\n",
    "\n",
    "\n",
    "# Print shapes and sample data for verification\n",
    "print(\"\\nMovies and Tags DataFrame:\")\n",
    "print(movies_tags_df.head())\n",
    "print(\"\\nMovies and Ratings DataFrame:\")\n",
    "print(movies_ratings_df.head())\n",
    "\n",
    "\n"
   ]
  },
  {
   "cell_type": "markdown",
   "id": "802ba18d",
   "metadata": {},
   "source": [
    "we'll drop the tag column  from the tag df due to the following reasons;\n",
    "\n",
    "Tags are sparse and inconsistently used. For instance, in our case  only a small subset of movies have tags and the rest don't, it might be challenging to use this feature effectively in our model.\n",
    "\n",
    "Tags are already represented in other features (e.g., genres), including them might introduce redundancy. \n",
    "\n",
    "Since the tags are user-generated, they bring in noise  and inconsistent information, which might not contribute positively to the recommender system.\n",
    "\n",
    "\n"
   ]
  },
  {
   "cell_type": "code",
   "execution_count": null,
   "id": "23ad1e76",
   "metadata": {},
   "outputs": [
    {
     "data": {
      "text/html": [
       "<div>\n",
       "<style scoped>\n",
       "    .dataframe tbody tr th:only-of-type {\n",
       "        vertical-align: middle;\n",
       "    }\n",
       "\n",
       "    .dataframe tbody tr th {\n",
       "        vertical-align: top;\n",
       "    }\n",
       "\n",
       "    .dataframe thead th {\n",
       "        text-align: right;\n",
       "    }\n",
       "</style>\n",
       "<table border=\"1\" class=\"dataframe\">\n",
       "  <thead>\n",
       "    <tr style=\"text-align: right;\">\n",
       "      <th></th>\n",
       "      <th>movieId</th>\n",
       "      <th>title</th>\n",
       "      <th>genres</th>\n",
       "      <th>timestamp</th>\n",
       "    </tr>\n",
       "  </thead>\n",
       "  <tbody>\n",
       "    <tr>\n",
       "      <th>0</th>\n",
       "      <td>1</td>\n",
       "      <td>Toy Story (1995)</td>\n",
       "      <td>[Adventure, Animation, Children, Comedy, Fantasy]</td>\n",
       "      <td>2006-02-04 09:36:04</td>\n",
       "    </tr>\n",
       "    <tr>\n",
       "      <th>1</th>\n",
       "      <td>1</td>\n",
       "      <td>Toy Story (1995)</td>\n",
       "      <td>[Adventure, Animation, Children, Comedy, Fantasy]</td>\n",
       "      <td>2006-01-14 02:47:05</td>\n",
       "    </tr>\n",
       "    <tr>\n",
       "      <th>2</th>\n",
       "      <td>1</td>\n",
       "      <td>Toy Story (1995)</td>\n",
       "      <td>[Adventure, Animation, Children, Comedy, Fantasy]</td>\n",
       "      <td>2018-05-02 18:33:33</td>\n",
       "    </tr>\n",
       "    <tr>\n",
       "      <th>3</th>\n",
       "      <td>2</td>\n",
       "      <td>Jumanji (1995)</td>\n",
       "      <td>[Adventure, Children, Fantasy]</td>\n",
       "      <td>2018-06-12 22:52:09</td>\n",
       "    </tr>\n",
       "    <tr>\n",
       "      <th>4</th>\n",
       "      <td>2</td>\n",
       "      <td>Jumanji (1995)</td>\n",
       "      <td>[Adventure, Children, Fantasy]</td>\n",
       "      <td>2018-06-12 22:52:12</td>\n",
       "    </tr>\n",
       "    <tr>\n",
       "      <th>...</th>\n",
       "      <td>...</td>\n",
       "      <td>...</td>\n",
       "      <td>...</td>\n",
       "      <td>...</td>\n",
       "    </tr>\n",
       "    <tr>\n",
       "      <th>11848</th>\n",
       "      <td>193581</td>\n",
       "      <td>Black Butler: Book of the Atlantic (2017)</td>\n",
       "      <td>[Action, Animation, Comedy, Fantasy]</td>\n",
       "      <td>NaT</td>\n",
       "    </tr>\n",
       "    <tr>\n",
       "      <th>11849</th>\n",
       "      <td>193583</td>\n",
       "      <td>No Game No Life: Zero (2017)</td>\n",
       "      <td>[Animation, Comedy, Fantasy]</td>\n",
       "      <td>NaT</td>\n",
       "    </tr>\n",
       "    <tr>\n",
       "      <th>11850</th>\n",
       "      <td>193585</td>\n",
       "      <td>Flint (2017)</td>\n",
       "      <td>[Drama]</td>\n",
       "      <td>NaT</td>\n",
       "    </tr>\n",
       "    <tr>\n",
       "      <th>11851</th>\n",
       "      <td>193587</td>\n",
       "      <td>Bungo Stray Dogs: Dead Apple (2018)</td>\n",
       "      <td>[Action, Animation]</td>\n",
       "      <td>NaT</td>\n",
       "    </tr>\n",
       "    <tr>\n",
       "      <th>11852</th>\n",
       "      <td>193609</td>\n",
       "      <td>Andrew Dice Clay: Dice Rules (1991)</td>\n",
       "      <td>[Comedy]</td>\n",
       "      <td>NaT</td>\n",
       "    </tr>\n",
       "  </tbody>\n",
       "</table>\n",
       "<p>11853 rows × 4 columns</p>\n",
       "</div>"
      ],
      "text/plain": [
       "       movieId                                      title  \\\n",
       "0            1                           Toy Story (1995)   \n",
       "1            1                           Toy Story (1995)   \n",
       "2            1                           Toy Story (1995)   \n",
       "3            2                             Jumanji (1995)   \n",
       "4            2                             Jumanji (1995)   \n",
       "...        ...                                        ...   \n",
       "11848   193581  Black Butler: Book of the Atlantic (2017)   \n",
       "11849   193583               No Game No Life: Zero (2017)   \n",
       "11850   193585                               Flint (2017)   \n",
       "11851   193587        Bungo Stray Dogs: Dead Apple (2018)   \n",
       "11852   193609        Andrew Dice Clay: Dice Rules (1991)   \n",
       "\n",
       "                                                  genres           timestamp  \n",
       "0      [Adventure, Animation, Children, Comedy, Fantasy] 2006-02-04 09:36:04  \n",
       "1      [Adventure, Animation, Children, Comedy, Fantasy] 2006-01-14 02:47:05  \n",
       "2      [Adventure, Animation, Children, Comedy, Fantasy] 2018-05-02 18:33:33  \n",
       "3                         [Adventure, Children, Fantasy] 2018-06-12 22:52:09  \n",
       "4                         [Adventure, Children, Fantasy] 2018-06-12 22:52:12  \n",
       "...                                                  ...                 ...  \n",
       "11848               [Action, Animation, Comedy, Fantasy]                 NaT  \n",
       "11849                       [Animation, Comedy, Fantasy]                 NaT  \n",
       "11850                                            [Drama]                 NaT  \n",
       "11851                                [Action, Animation]                 NaT  \n",
       "11852                                           [Comedy]                 NaT  \n",
       "\n",
       "[11853 rows x 4 columns]"
      ]
     },
     "execution_count": 10,
     "metadata": {},
     "output_type": "execute_result"
    }
   ],
   "source": [
    "# Drop the 'tags' column\n",
    "tags_df_dropped = movies_tags_df.drop(columns=['tag', 'userId'])\n",
    "\n",
    "# Display the modified DataFrame\n",
    "tags_df_dropped"
   ]
  },
  {
   "cell_type": "markdown",
   "id": "30d3c63f",
   "metadata": {},
   "source": [
    "we'll also drop the timestamp column from the movies tag due to the following reasons  \n",
    "\n",
    "The timestamp might lead to overfitting if the model starts to consider time-based patterns that aren't generalizable across different time periods or user behavior.\n",
    "\n",
    "\n",
    "since we'll be making a content-based recommendation systems, the focus is on item attributes (like genre, description) rather than the timing of interactions. The timestamp is less relevant in this case "
   ]
  },
  {
   "cell_type": "code",
   "execution_count": null,
   "id": "3c8a8d46",
   "metadata": {},
   "outputs": [
    {
     "name": "stdout",
     "output_type": "stream",
     "text": [
      "Modified movies_ratings_df:\n",
      "   movieId             title  \\\n",
      "0        1  Toy Story (1995)   \n",
      "1        1  Toy Story (1995)   \n",
      "2        1  Toy Story (1995)   \n",
      "3        1  Toy Story (1995)   \n",
      "4        1  Toy Story (1995)   \n",
      "\n",
      "                                              genres  userId  rating  \n",
      "0  [Adventure, Animation, Children, Comedy, Fantasy]     1.0     4.0  \n",
      "1  [Adventure, Animation, Children, Comedy, Fantasy]     5.0     4.0  \n",
      "2  [Adventure, Animation, Children, Comedy, Fantasy]     7.0     4.5  \n",
      "3  [Adventure, Animation, Children, Comedy, Fantasy]    15.0     2.5  \n",
      "4  [Adventure, Animation, Children, Comedy, Fantasy]    17.0     4.5  \n",
      "\n",
      "Modified tags_df_dropped:\n",
      "   movieId             title  \\\n",
      "0        1  Toy Story (1995)   \n",
      "1        1  Toy Story (1995)   \n",
      "2        1  Toy Story (1995)   \n",
      "3        2    Jumanji (1995)   \n",
      "4        2    Jumanji (1995)   \n",
      "\n",
      "                                              genres  \n",
      "0  [Adventure, Animation, Children, Comedy, Fantasy]  \n",
      "1  [Adventure, Animation, Children, Comedy, Fantasy]  \n",
      "2  [Adventure, Animation, Children, Comedy, Fantasy]  \n",
      "3                     [Adventure, Children, Fantasy]  \n",
      "4                     [Adventure, Children, Fantasy]  \n"
     ]
    }
   ],
   "source": [
    "# Remove the 'timestamp' column from movies_ratings_df\n",
    "movies_ratings_df_dropped = movies_ratings_df.drop(columns=['timestamp'])\n",
    "\n",
    "# Remove the 'timestamp' column from tags_df_dropped (assuming it's there)\n",
    "# If tags_df_dropped doesn't have a 'timestamp' column, this operation will be harmless\n",
    "tags_df_dropped = tags_df_dropped.drop(columns=['timestamp'], errors='ignore')\n",
    "\n",
    "# Display the modified DataFrames to confirm the columns are removed\n",
    "print(\"Modified movies_ratings_df:\")\n",
    "print(movies_ratings_df_dropped.head())\n",
    "\n",
    "print(\"\\nModified tags_df_dropped:\")\n",
    "print(tags_df_dropped.head())\n"
   ]
  },
  {
   "cell_type": "code",
   "execution_count": null,
   "id": "e2f2bebe",
   "metadata": {},
   "outputs": [
    {
     "data": {
      "text/html": [
       "<div>\n",
       "<style scoped>\n",
       "    .dataframe tbody tr th:only-of-type {\n",
       "        vertical-align: middle;\n",
       "    }\n",
       "\n",
       "    .dataframe tbody tr th {\n",
       "        vertical-align: top;\n",
       "    }\n",
       "\n",
       "    .dataframe thead th {\n",
       "        text-align: right;\n",
       "    }\n",
       "</style>\n",
       "<table border=\"1\" class=\"dataframe\">\n",
       "  <thead>\n",
       "    <tr style=\"text-align: right;\">\n",
       "      <th></th>\n",
       "      <th>movieId</th>\n",
       "      <th>title</th>\n",
       "      <th>genres</th>\n",
       "      <th>userId</th>\n",
       "      <th>rating</th>\n",
       "    </tr>\n",
       "  </thead>\n",
       "  <tbody>\n",
       "    <tr>\n",
       "      <th>0</th>\n",
       "      <td>1.0</td>\n",
       "      <td>Toy Story (1995)</td>\n",
       "      <td>[Adventure, Animation, Children, Comedy, Fantasy]</td>\n",
       "      <td>1.0</td>\n",
       "      <td>4.0</td>\n",
       "    </tr>\n",
       "    <tr>\n",
       "      <th>1</th>\n",
       "      <td>1.0</td>\n",
       "      <td>Toy Story (1995)</td>\n",
       "      <td>[Adventure, Animation, Children, Comedy, Fantasy]</td>\n",
       "      <td>5.0</td>\n",
       "      <td>4.0</td>\n",
       "    </tr>\n",
       "    <tr>\n",
       "      <th>2</th>\n",
       "      <td>1.0</td>\n",
       "      <td>Toy Story (1995)</td>\n",
       "      <td>[Adventure, Animation, Children, Comedy, Fantasy]</td>\n",
       "      <td>7.0</td>\n",
       "      <td>4.5</td>\n",
       "    </tr>\n",
       "    <tr>\n",
       "      <th>3</th>\n",
       "      <td>2.0</td>\n",
       "      <td>Jumanji (1995)</td>\n",
       "      <td>[Adventure, Children, Fantasy]</td>\n",
       "      <td>15.0</td>\n",
       "      <td>2.5</td>\n",
       "    </tr>\n",
       "    <tr>\n",
       "      <th>4</th>\n",
       "      <td>2.0</td>\n",
       "      <td>Jumanji (1995)</td>\n",
       "      <td>[Adventure, Children, Fantasy]</td>\n",
       "      <td>17.0</td>\n",
       "      <td>4.5</td>\n",
       "    </tr>\n",
       "    <tr>\n",
       "      <th>...</th>\n",
       "      <td>...</td>\n",
       "      <td>...</td>\n",
       "      <td>...</td>\n",
       "      <td>...</td>\n",
       "      <td>...</td>\n",
       "    </tr>\n",
       "    <tr>\n",
       "      <th>100849</th>\n",
       "      <td>NaN</td>\n",
       "      <td>NaN</td>\n",
       "      <td>NaN</td>\n",
       "      <td>184.0</td>\n",
       "      <td>4.0</td>\n",
       "    </tr>\n",
       "    <tr>\n",
       "      <th>100850</th>\n",
       "      <td>NaN</td>\n",
       "      <td>NaN</td>\n",
       "      <td>NaN</td>\n",
       "      <td>184.0</td>\n",
       "      <td>3.5</td>\n",
       "    </tr>\n",
       "    <tr>\n",
       "      <th>100851</th>\n",
       "      <td>NaN</td>\n",
       "      <td>NaN</td>\n",
       "      <td>NaN</td>\n",
       "      <td>184.0</td>\n",
       "      <td>3.5</td>\n",
       "    </tr>\n",
       "    <tr>\n",
       "      <th>100852</th>\n",
       "      <td>NaN</td>\n",
       "      <td>NaN</td>\n",
       "      <td>NaN</td>\n",
       "      <td>184.0</td>\n",
       "      <td>3.5</td>\n",
       "    </tr>\n",
       "    <tr>\n",
       "      <th>100853</th>\n",
       "      <td>NaN</td>\n",
       "      <td>NaN</td>\n",
       "      <td>NaN</td>\n",
       "      <td>331.0</td>\n",
       "      <td>4.0</td>\n",
       "    </tr>\n",
       "  </tbody>\n",
       "</table>\n",
       "<p>100854 rows × 5 columns</p>\n",
       "</div>"
      ],
      "text/plain": [
       "        movieId             title  \\\n",
       "0           1.0  Toy Story (1995)   \n",
       "1           1.0  Toy Story (1995)   \n",
       "2           1.0  Toy Story (1995)   \n",
       "3           2.0    Jumanji (1995)   \n",
       "4           2.0    Jumanji (1995)   \n",
       "...         ...               ...   \n",
       "100849      NaN               NaN   \n",
       "100850      NaN               NaN   \n",
       "100851      NaN               NaN   \n",
       "100852      NaN               NaN   \n",
       "100853      NaN               NaN   \n",
       "\n",
       "                                                   genres  userId  rating  \n",
       "0       [Adventure, Animation, Children, Comedy, Fantasy]     1.0     4.0  \n",
       "1       [Adventure, Animation, Children, Comedy, Fantasy]     5.0     4.0  \n",
       "2       [Adventure, Animation, Children, Comedy, Fantasy]     7.0     4.5  \n",
       "3                          [Adventure, Children, Fantasy]    15.0     2.5  \n",
       "4                          [Adventure, Children, Fantasy]    17.0     4.5  \n",
       "...                                                   ...     ...     ...  \n",
       "100849                                                NaN   184.0     4.0  \n",
       "100850                                                NaN   184.0     3.5  \n",
       "100851                                                NaN   184.0     3.5  \n",
       "100852                                                NaN   184.0     3.5  \n",
       "100853                                                NaN   331.0     4.0  \n",
       "\n",
       "[100854 rows x 5 columns]"
      ]
     },
     "execution_count": 70,
     "metadata": {},
     "output_type": "execute_result"
    }
   ],
   "source": [
    "#This approach ensures that all relevant data from tags_df, ratings_df, is included in final_df, without duplicating columns like movieId, title, and genre.\n",
    "\n",
    "\n",
    "# Drop the unnecessary columns from movies_ratings_df\n",
    "movies_ratings_df_filtered = movies_ratings_df_dropped.drop(columns=['movieId', 'title', 'genres'])\n",
    "\n",
    "# Concatenate movies_tags_df and the filtered movies_ratings_df\n",
    "final_df = pd.concat([tags_df_dropped, movies_ratings_df_filtered], axis=1)\n",
    "\n",
    "# Display the final DataFrame\n",
    "final_df\n"
   ]
  },
  {
   "cell_type": "markdown",
   "id": "7c9aeb89",
   "metadata": {},
   "source": [
    "### **Exploratory Data Analysis (EDA):**\n",
    "Conduct EDA to understand distributions and relationships in your data.\n",
    "\n",
    "\n",
    "**Handling Outliers**\n",
    "\n",
    "To gain deeper insights into our movie dataset, we can extend our analysis to consider outliers in the number of ratings each movie has received. By identifying movies that have an unusually high or low number of ratings, we can uncover patterns related to their popularity. This analysis helps us pinpoint movies that either stand out as exceptionally popular or are less frequently rated, providing valuable information for refining our recommendation system and enhancing user satisfaction.\n",
    "\n",
    "**Purpose of the Analysis:**\n",
    "to identify outliers in the number of ratings each movie has received. This helps understand which movies are unusually popular or less frequently rated."
   ]
  },
  {
   "cell_type": "markdown",
   "id": "fe717f6c",
   "metadata": {},
   "source": [
    "First we will check for outliers in the ratings of  the movies."
   ]
  },
  {
   "cell_type": "code",
   "execution_count": null,
   "id": "f16b1d01",
   "metadata": {},
   "outputs": [
    {
     "data": {
      "image/png": "[encoded data removed]",
      "text/plain": [
       "<Figure size 576x432 with 1 Axes>"
      ]
     },
     "metadata": {
      "needs_background": "light"
     },
     "output_type": "display_data"
    }
   ],
   "source": [
    "\n",
    "\n",
    "# Plotting box plot to check for outliers in ratings\n",
    "plt.figure(figsize=(8, 6))\n",
    "sns.boxplot(x='rating', data=ratings_df)\n",
    "plt.title('Box Plot of Movie Ratings')\n",
    "plt.xlabel('Rating')\n",
    "plt.show()"
   ]
  },
  {
   "cell_type": "markdown",
   "id": "587a62d0",
   "metadata": {},
   "source": [
    "This indicates the presence of outliers in our ratings dataset, specifically with ratings between 0 and 1.5. We will investigate this further by focusing on the ratings for a specific movie and examining the outliers in those ratings."
   ]
  },
  {
   "cell_type": "code",
   "execution_count": null,
   "id": "8b796483",
   "metadata": {},
   "outputs": [
    {
     "name": "stdout",
     "output_type": "stream",
     "text": [
      "   movieId                               title  \\\n",
      "0        1                    Toy Story (1995)   \n",
      "1        2                      Jumanji (1995)   \n",
      "2        3             Grumpier Old Men (1995)   \n",
      "3        4            Waiting to Exhale (1995)   \n",
      "4        5  Father of the Bride Part II (1995)   \n",
      "\n",
      "                                              genres  rating_count  \n",
      "0  [Adventure, Animation, Children, Comedy, Fantasy]           215  \n",
      "1                     [Adventure, Children, Fantasy]           110  \n",
      "2                                  [Comedy, Romance]            52  \n",
      "3                           [Comedy, Drama, Romance]             7  \n",
      "4                                           [Comedy]            49  \n"
     ]
    }
   ],
   "source": [
    "# Calculate the number of ratings each movie has received\n",
    "movie_rating_counts = ratings_df['movieId'].value_counts().reset_index()\n",
    "movie_rating_counts.columns = ['movieId', 'rating_count']\n",
    "\n",
    "# Merge with movies_df to get movie titles\n",
    "movies_with_counts = pd.merge(movies_df, movie_rating_counts, on='movieId')\n",
    "\n",
    "# Display the first few rows\n",
    "print(movies_with_counts.head())"
   ]
  },
  {
   "cell_type": "code",
   "execution_count": null,
   "id": "87d3cd5a",
   "metadata": {},
   "outputs": [
    {
     "name": "stdout",
     "output_type": "stream",
     "text": [
      "Number of outliers: 1179\n",
      "Number of non-outliers: 8545\n"
     ]
    }
   ],
   "source": [
    "# Calculate Q1 (25th percentile) and Q3 (75th percentile) for rating counts\n",
    "Q1 = movies_with_counts['rating_count'].quantile(0.25)\n",
    "Q3 = movies_with_counts['rating_count'].quantile(0.75)\n",
    "\n",
    "# Calculate IQR\n",
    "IQR = Q3 - Q1\n",
    "\n",
    "# Determine the bounds for outliers\n",
    "lower_bound = Q1 - 1.5 * IQR\n",
    "upper_bound = Q3 + 1.5 * IQR\n",
    "\n",
    "# Identify outliers\n",
    "outliers = movies_with_counts[(movies_with_counts['rating_count'] < lower_bound) | (movies_with_counts['rating_count'] > upper_bound)]\n",
    "non_outliers = movies_with_counts[(movies_with_counts['rating_count'] >= lower_bound) & (movies_with_counts['rating_count'] <= upper_bound)]\n",
    "\n",
    "# Count the number of outliers and non-outliers\n",
    "outlier_count = len(outliers)\n",
    "non_outlier_count = len(non_outliers)\n",
    "\n",
    "print(f\"Number of outliers: {outlier_count}\")\n",
    "print(f\"Number of non-outliers: {non_outlier_count}\")"
   ]
  },
  {
   "cell_type": "markdown",
   "id": "0ca9d363",
   "metadata": {},
   "source": [
    "This shows the presence of outliers in our movies_with_counts dataset."
   ]
  },
  {
   "cell_type": "markdown",
   "id": "6d4000f5",
   "metadata": {},
   "source": [
    "While the majority of movie ratings are within a normal range, there are a significant number of outliers, which are further illustrated in the bar graph."
   ]
  },
  {
   "cell_type": "code",
   "execution_count": null,
   "id": "28553ad9",
   "metadata": {},
   "outputs": [
    {
     "data": {
      "image/png": "[encoded data removed]",
      "text/plain": [
       "<Figure size 720x432 with 1 Axes>"
      ]
     },
     "metadata": {
      "needs_background": "light"
     },
     "output_type": "display_data"
    }
   ],
   "source": [
    "# Data for the bar graph\n",
    "data = {'Category': ['Non-Outliers', 'Outliers'], 'Count': [non_outlier_count, outlier_count]}\n",
    "\n",
    "# Create DataFrame for the bar graph\n",
    "outlier_df = pd.DataFrame(data)\n",
    "\n",
    "# Plotting the bar graph\n",
    "plt.figure(figsize=(10, 6))\n",
    "sns.barplot(x='Category', y='Count', data=outlier_df, palette='viridis')\n",
    "plt.title('Count of Outliers vs Non-Outliers in Number of Movie Ratings', fontsize=16)\n",
    "plt.xlabel('Category', fontsize=14)\n",
    "plt.ylabel('Count', fontsize=14)\n",
    "plt.xticks(fontsize=12)\n",
    "plt.yticks(fontsize=12)\n",
    "plt.show()"
   ]
  },
  {
   "cell_type": "markdown",
   "id": "fd4e3494",
   "metadata": {},
   "source": [
    "Our data contains outliers that we cannot remove due to their sensitivity and importance to our analysis. The graph above illustrates the distribution of ratings both with and without these outliers. The distributions appear to be only slightly different, indicating that removing the outliers may not be necessary."
   ]
  },
  {
   "cell_type": "markdown",
   "id": "c9fbd2dd-1df7-4582-9cea-4bc455d04b52",
   "metadata": {},
   "source": [
    "**Univariate Analysis**\n",
    "\n",
    "Our key features for univariate analysis:\n",
    "\n",
    "genres: To analyze the distribution of different genres.\n",
    "\n",
    "rating: To analyze the distribution of ratings given by users.\n",
    "\n",
    "To analyze the top 10 movies based off the number of ratings from users\n",
    "\n",
    "These columns are essential for univariate analysis as they provide valuable insights into the distribution and characteristics of genres,  and ratings within the dataset."
   ]
  },
  {
   "cell_type": "code",
   "execution_count": null,
   "id": "6504d2af",
   "metadata": {},
   "outputs": [
    {
     "data": {
      "image/png": "[encoded data removed]",
      "text/plain": [
       "<Figure size 864x576 with 1 Axes>"
      ]
     },
     "metadata": {
      "needs_background": "light"
     },
     "output_type": "display_data"
    }
   ],
   "source": [
    "# Group by movie title and count the number of ratings\n",
    "movie_rating_counts = movies_ratings_df.groupby('title').size().reset_index(name='count')\n",
    "\n",
    "# Sort movies by the count of ratings in descending order\n",
    "sorted_movies = movie_rating_counts.sort_values(by='count', ascending=False)\n",
    "\n",
    "# : Limit to the top 10 movies based on rating counts\n",
    "top_10_movies = sorted_movies.head(10)\n",
    "\n",
    "# Step 4: Plot the top 10 movies by rating count\n",
    "plt.figure(figsize=(12, 8))\n",
    "sns.barplot(x='count', y='title', data=top_10_movies, palette='viridis')\n",
    "plt.xlabel('Number of Ratings')\n",
    "plt.ylabel('Movie Title')\n",
    "plt.title('Top 10 Movies by Number of Ratings')\n",
    "plt.show()"
   ]
  },
  {
   "cell_type": "markdown",
   "id": "16a4ef61",
   "metadata": {},
   "source": [
    "The visualisation above shows the top 10 movies as per the number of ratings by the users with Forest Gump, Shawshank Reddemption and Pulp Fiction having the most amount of ratings"
   ]
  },
  {
   "cell_type": "code",
   "execution_count": null,
   "id": "89840f9e",
   "metadata": {},
   "outputs": [
    {
     "data": {
      "image/png": "[encoded data removed]",
      "text/plain": [
       "<Figure size 864x576 with 1 Axes>"
      ]
     },
     "metadata": {
      "needs_background": "light"
     },
     "output_type": "display_data"
    }
   ],
   "source": [
    "\n",
    "\n",
    "#  Flatten the lists of genres\n",
    "genres_flat = movies_df['genres'].explode().reset_index(drop=True)\n",
    "\n",
    "# Convert to DataFrame and name the column\n",
    "genres_df = genres_flat.to_frame(name='genre')\n",
    "\n",
    "#  Count the occurrences of each genre\n",
    "genre_counts = genres_df['genre'].value_counts().reset_index()\n",
    "genre_counts.columns = ['genre', 'count']\n",
    "\n",
    "#  Sort genres by count in descending order\n",
    "genre_counts_sorted = genre_counts.sort_values(by='count', ascending=False)\n",
    "\n",
    "# Create a bar plot to show the distribution of genres\n",
    "plt.figure(figsize=(12, 8))\n",
    "sns.barplot(x='count', y='genre', data=genre_counts_sorted, palette='viridis')\n",
    "plt.xlabel('Count')\n",
    "plt.ylabel('Genre')\n",
    "plt.title('Distribution of Genres Based on Counts')\n",
    "plt.show()\n"
   ]
  },
  {
   "cell_type": "markdown",
   "id": "ad23c23a",
   "metadata": {},
   "source": [
    "The genre with the highest number of movies produced is the 'Drama' gener which suggests that it is likely the most watched genre."
   ]
  },
  {
   "cell_type": "code",
   "execution_count": null,
   "id": "3fd8728d",
   "metadata": {},
   "outputs": [
    {
     "data": {
      "image/png": "[encoded data removed]",
      "text/plain": [
       "<Figure size 864x432 with 1 Axes>"
      ]
     },
     "metadata": {
      "needs_background": "light"
     },
     "output_type": "display_data"
    }
   ],
   "source": [
    "\n",
    "\n",
    "# Set the figure size\n",
    "plt.figure(figsize=(12, 6))  # Adjust the width and height as needed\n",
    "\n",
    "# Create the countplot\n",
    "sns.countplot(x='rating', data=ratings_df)\n",
    "\n",
    "# Set the title with a larger font size\n",
    "plt.title(\"Distribution of movie ratings\", fontsize=18)\n",
    "\n",
    "# Show the plot\n",
    "plt.show()\n"
   ]
  },
  {
   "cell_type": "markdown",
   "id": "7c5c6b43",
   "metadata": {},
   "source": [
    "The most common rating is 4.0 stars, with around 27,000 movies receiving this rating.\n",
    "\n",
    "The second most common rating is 3.0 stars, with approximately 20,000 movies.\n",
    "\n",
    "There's a general trend of ratings increasing from 0.5 to 4.0 stars, then decreasing for 4.5 and 5.0 stars.\n",
    "\n",
    "Very low ratings (0.5 and 1.0 stars) are relatively uncommon, with fewer than 5,000 movies for each."
   ]
  },
  {
   "cell_type": "markdown",
   "id": "29830206",
   "metadata": {},
   "source": [
    "Bivariate Analysis\n",
    "\n",
    "1. Ratings vs. Genre:\n",
    "\n",
    "we will  analyze how ratings distribute across different movie genres and identify which genres tend to receive higher or lower ratings.\n",
    "\n",
    "2. visualize the top ten movies: \n",
    "\n",
    "This is done by grouping movies according to their ratings and comparing movie title of top rated movies ie.with a rating of 5, against the number of ratings it was given\n",
    "\n",
    "3. Create a correlation matrix: \n",
    "\n",
    "To show the correlation between movie genres. This would be useful in recommending a different genre of movies to a person if the movie genres have a high positive correlation.\n"
   ]
  },
  {
   "cell_type": "code",
   "execution_count": null,
   "id": "946804f7",
   "metadata": {},
   "outputs": [
    {
     "data": {
      "image/png": "[encoded data removed]",
      "text/plain": [
       "<Figure size 864x576 with 1 Axes>"
      ]
     },
     "metadata": {
      "needs_background": "light"
     },
     "output_type": "display_data"
    }
   ],
   "source": [
    "\n",
    "\n",
    "#  Flatten the lists of genres\n",
    "genres_flat = movies_df[['movieId', 'genres']].explode('genres')\n",
    "\n",
    "#  Merge with ratings data\n",
    "genres_ratings = pd.merge(genres_flat, ratings_df, on='movieId', how='left')\n",
    "\n",
    "#  Aggregate ratings by genre\n",
    "genre_ratings = genres_ratings.groupby('genres')['rating'].agg(['mean', 'count']).reset_index()\n",
    "genre_ratings.columns = ['genre', 'average_rating', 'rating_count']\n",
    "\n",
    "#  Create a bar plot to show average ratings by genre\n",
    "plt.figure(figsize=(12, 8))\n",
    "sns.barplot(x='average_rating', y='genre', data=genre_ratings.sort_values(by='average_rating', ascending=False), palette='viridis')\n",
    "plt.xlabel('Average Rating')\n",
    "plt.ylabel('Genre')\n",
    "plt.title('Average Ratings by Genre')\n",
    "plt.show()\n",
    "\n",
    "\n"
   ]
  },
  {
   "cell_type": "markdown",
   "id": "b9efd9c8",
   "metadata": {},
   "source": [
    "This chart shows the average rating for each movie genre on a scale from 0 to 4.\n",
    "\n",
    "\n",
    "Film-Noir has the highest average rating, followed closely by War and Documentary.\n",
    "\n",
    "Horror and Comedy have the lowest average ratings.\n",
    "\n",
    "Most genres have average ratings between 3.0 and 3.5.\n",
    "\n",
    "There's not a huge variation in average ratings across genres, with all falling between about 3.0 and 3.8."
   ]
  },
  {
   "cell_type": "code",
   "execution_count": null,
   "id": "018837bf",
   "metadata": {},
   "outputs": [
    {
     "data": {
      "image/png": "[encoded data removed]",
      "text/plain": [
       "<Figure size 864x576 with 1 Axes>"
      ]
     },
     "metadata": {
      "needs_background": "light"
     },
     "output_type": "display_data"
    }
   ],
   "source": [
    "#  Create a bar plot to show the number of ratings per genre\n",
    "plt.figure(figsize=(12, 8))\n",
    "sns.barplot(x='rating_count', y='genre', data=genre_ratings.sort_values(by='rating_count', ascending=False), palette='viridis')\n",
    "plt.xlabel('Number of Ratings')\n",
    "plt.ylabel('Genre')\n",
    "plt.title('Number of Ratings by Genre')\n",
    "plt.show()"
   ]
  },
  {
   "cell_type": "markdown",
   "id": "9f240523",
   "metadata": {},
   "source": [
    "This chart displays the total number of ratings each genre has received.\n",
    "\n",
    "Drama is by far the most rated genre, followed by Comedy and Action.\n",
    "\n",
    "Film-Noir, Documentary, and Western are among the least rated genres.\n",
    "\n",
    "There's a significant disparity in the number of ratings across genres, ranging from tens of thousands for popular genres to just a few thousand for less common ones"
   ]
  },
  {
   "cell_type": "markdown",
   "id": "2e7680c5",
   "metadata": {},
   "source": [
    "Insight from the two visualisations: \n",
    "\n",
    " Some genres with fewer ratings (like Film-Noir and War) have higher average ratings, while more frequently rated genres (like Comedy) have lower average ratings. This could suggest that niche genres attract more dedicated fans who rate them highly.\n",
    "\n",
    " The high number of ratings for Drama, Comedy, and Action suggests these are popular genres, but their average ratings are not the highest. This could indicate a more diverse audience with varying opinions.\n",
    "\n",
    " Genres like Documentary and War have high average ratings but fewer total ratings, suggesting they may have a smaller but more appreciative audience.\n",
    "\n",
    "  Genres with high ratings but fewer total ratings (like Film-Noir) might be good candidates for recommendations to users who haven't explored them yet."
   ]
  },
  {
   "cell_type": "code",
   "execution_count": null,
   "id": "f6d73414",
   "metadata": {},
   "outputs": [
    {
     "data": {
      "image/png": "[encoded data removed]",
      "text/plain": [
       "<Figure size 864x576 with 1 Axes>"
      ]
     },
     "metadata": {
      "needs_background": "light"
     },
     "output_type": "display_data"
    }
   ],
   "source": [
    "# Filter movies with a rating of 5\n",
    "top_rated_movies = movies_ratings_df[movies_ratings_df['rating'] == 5]\n",
    "\n",
    "# Group by movie title and count the number of occurrences\n",
    "top_rated_movies_counts = top_rated_movies.groupby('title').size().reset_index(name='count')\n",
    "\n",
    "# Sort movies by count in descending order\n",
    "top_rated_movies_sorted = top_rated_movies_counts.sort_values(by='count', ascending=False)\n",
    "\n",
    "# Limit to top 10 movies\n",
    "top_10_rated_movies = top_rated_movies_sorted.head(10)\n",
    "\n",
    "# Plot the top 10 movies with a rating of 5\n",
    "plt.figure(figsize=(12, 8))\n",
    "sns.barplot(x='count', y='title', data=top_10_rated_movies, palette='viridis')\n",
    "plt.xlabel('Number of 5 Ratings')\n",
    "plt.ylabel('Movie Title')\n",
    "plt.title('Top 10 Movies with Rating of 5')\n",
    "plt.show()"
   ]
  },
  {
   "cell_type": "markdown",
   "id": "58947fd9",
   "metadata": {},
   "source": [
    "This chart displays the top 10 movies that have received a perfect rating of 5, ranked by the number of such ratings they've received. \n",
    "\n",
    " \"The Shawshank Redemption\" (1994) has received the most 5-star ratings, with approximately 145 perfect scores.\n",
    "\n",
    " \"Pulp Fiction\" (1994) follows closely behind, with about 130 5-star ratings.\n",
    "\n",
    " The list includes a variety of genres, from drama (Shawshank Redemption, Schindler's List) to science fiction (The Matrix, Star Wars) to crime (Pulp Fiction, The Godfather).\n",
    "\n",
    "\n",
    " Two Star Wars movies appear on the list, showing the strength of this franchise among viewers who give perfect scores."
   ]
  },
  {
   "cell_type": "markdown",
   "id": "a2dc4e4a",
   "metadata": {},
   "source": [
    "we use the correlation matrix to identify which genres are typically rated similarly by users. For example, if Action and Thriller have a high positive correlation, it might suggest that users who enjoy Action movies also enjoy Thrillers."
   ]
  },
  {
   "cell_type": "code",
   "execution_count": null,
   "id": "158c2dae",
   "metadata": {},
   "outputs": [
    {
     "data": {
      "image/png": "[encoded data removed]",
      "text/plain": [
       "<Figure size 720x576 with 2 Axes>"
      ]
     },
     "metadata": {
      "needs_background": "light"
     },
     "output_type": "display_data"
    },
    {
     "name": "stdout",
     "output_type": "stream",
     "text": [
      "             Action  Adventure    Comedy     Drama  Thriller\n",
      "Action     1.000000  -0.201811 -0.271647 -0.284852 -0.212955\n",
      "Adventure -0.201811   1.000000 -0.235525 -0.246974 -0.184638\n",
      "Comedy    -0.271647  -0.235525  1.000000 -0.332439 -0.248531\n",
      "Drama     -0.284852  -0.246974 -0.332439  1.000000 -0.260612\n",
      "Thriller  -0.212955  -0.184638 -0.248531 -0.260612  1.000000\n"
     ]
    }
   ],
   "source": [
    "\n",
    "\n",
    "\n",
    "# Flatten the lists of genres\n",
    "genres_flat = movies_df[['movieId', 'genres']].explode('genres')\n",
    "\n",
    "# Merge with ratings data\n",
    "genres_ratings = pd.merge(genres_flat, ratings_df, on='movieId', how='left')\n",
    "\n",
    "# Aggregate ratings by genre\n",
    "genre_ratings = genres_ratings.groupby('genres')['rating'].agg(['mean', 'count']).reset_index()\n",
    "genre_ratings.columns = ['genre', 'average_rating', 'rating_count']\n",
    "\n",
    "# Sort genres by rating count and select top 5\n",
    "top_5_genres = genre_ratings.sort_values('rating_count', ascending=False).head(5)['genre'].tolist()\n",
    "\n",
    "# Filter the original data for only the top 5 genres\n",
    "top_5_genres_data = genres_ratings[genres_ratings['genres'].isin(top_5_genres)]\n",
    "\n",
    "# Create dummy variables for the top 5 genres\n",
    "genres_dummies = pd.get_dummies(top_5_genres_data['genres'])\n",
    "\n",
    "# Combine with ratings\n",
    "genres_dummies_with_ratings = pd.concat([genres_dummies, top_5_genres_data['rating']], axis=1)\n",
    "\n",
    "# Calculate the correlation matrix\n",
    "correlation_matrix = genres_dummies_with_ratings.corr()\n",
    "\n",
    "# Remove the 'rating' row and column to focus on genre correlations\n",
    "correlation_matrix_genres = correlation_matrix.iloc[:-1, :-1]\n",
    "\n",
    "# Create a heatmap of the correlation matrix\n",
    "plt.figure(figsize=(10, 8))\n",
    "sns.heatmap(correlation_matrix_genres, annot=True, cmap='coolwarm', vmin=-1, vmax=1, center=0)\n",
    "plt.title('Correlation Matrix of Top 5 Movie Genres')\n",
    "plt.show()\n",
    "\n",
    "# Print the correlation matrix\n",
    "print(correlation_matrix_genres)"
   ]
  },
  {
   "cell_type": "markdown",
   "id": "9b9d82cc",
   "metadata": {},
   "source": [
    "There seems to be a week negative and positive correlation between the top five. This implies that they do not influence each other's ratings. Users who like one genre are not necessarily inclined to like or dislike another genre. This might also mean that users have diverse tastes, and their preferences for different genres are not strongly linked.\n",
    "For a recommendation system, weak correlations mean that recommending one genre based on another might not be very effective. For example, if Action and Romance have a weak correlation, suggesting a Romance movie to a user who likes Action movies may not be very effective.Hence the need to visualize user preferences."
   ]
  },
  {
   "cell_type": "markdown",
   "id": "cd830c9e",
   "metadata": {},
   "source": [
    "DATA PREPROCESSING\n",
    "\n",
    "We are going to use a technique called collaborative filtering to generate recommendations for users. This technique is based on the premise that similar people like similar things.\n",
    "\n",
    "The first step is to transform our data into a user-item matrix, also known as a \"utility\" matrix. In this matrix, rows represent users and columns represent movies. The beauty of collaborative filtering is that it doesn't require any information about the users or the movies user to generate recommendations.\n",
    "\n",
    "\n",
    "We will come up with a create_X() function which outputs a sparse matrix \n",
    " with four mapper dictionaries:\n",
    "\n",
    "user_mapper: maps user id to user index\n",
    "\n",
    "movie_mapper: maps movie id to movie index\n",
    "\n",
    "user_inv_mapper: maps user index to user id\n",
    "\n",
    "movie_inv_mapper: maps movie index to movie id\n",
    "\n",
    "We need these dictionaries because they map which row/column of the utility matrix corresponds to which user/movie id."
   ]
  },
  {
   "cell_type": "code",
   "execution_count": null,
   "id": "b9c75445",
   "metadata": {},
   "outputs": [],
   "source": [
    "\n",
    "from scipy.sparse import csr_matrix\n",
    "\n",
    "def create_X(df):\n",
    "    \"\"\"\n",
    "    Generates a sparse matrix from ratings dataframe.\n",
    "    \n",
    "    Args:\n",
    "        df: pandas dataframe containing 3 columns (userId, movieId, rating)\n",
    "    \n",
    "    Returns:\n",
    "        X: sparse matrix\n",
    "        user_mapper: dict that maps user id's to user indices\n",
    "        user_inv_mapper: dict that maps user indices to user id's\n",
    "        movie_mapper: dict that maps movie id's to movie indices\n",
    "        movie_inv_mapper: dict that maps movie indices to movie id's\n",
    "    \"\"\"\n",
    "    # Drop rows with NaN values in 'userId' or 'movieId'\n",
    "    df = df.dropna(subset=['userId', 'movieId'])\n",
    "\n",
    "    M = df['userId'].nunique()  # Number of user ID's\n",
    "    N = df['movieId'].nunique()  # Number of movie ID's\n",
    "\n",
    "    user_mapper = dict(zip(np.unique(df[\"userId\"]), list(range(M))))\n",
    "    movie_mapper = dict(zip(np.unique(df[\"movieId\"]), list(range(N))))\n",
    "    \n",
    "    user_inv_mapper = dict(zip(list(range(M)), np.unique(df[\"userId\"])))\n",
    "    movie_inv_mapper = dict(zip(list(range(N)), np.unique(df[\"movieId\"])))\n",
    "    \n",
    "    user_index = [user_mapper[i] for i in df['userId']]\n",
    "    item_index = [movie_mapper[i] for i in df['movieId']]\n",
    "\n",
    "    X = csr_matrix((df[\"rating\"], (user_index, item_index)), shape=(M, N))\n",
    "    \n",
    "    return X, user_mapper, movie_mapper, user_inv_mapper, movie_inv_mapper\n",
    "\n",
    "X, user_mapper, movie_mapper, user_inv_mapper, movie_inv_mapper = create_X(movies_ratings_df_dropped)\n"
   ]
  },
  {
   "cell_type": "code",
   "execution_count": null,
   "id": "a0ecc8a4",
   "metadata": {},
   "outputs": [
    {
     "data": {
      "text/plain": [
       "(610, 9724)"
      ]
     },
     "execution_count": 25,
     "metadata": {},
     "output_type": "execute_result"
    }
   ],
   "source": [
    "X.shape #testing to see that the function is working"
   ]
  },
  {
   "cell_type": "markdown",
   "id": "e1d9e14e",
   "metadata": {},
   "source": [
    "since we're making a collaborative filtering recommendation sysytem, Evaluating sparsity is very important\n",
    "\n",
    "Here, we calculate sparsity by dividing the number of stored elements by total number of elements. The number of stored (non-empty) elements in our matrix (nnz) is equivalent to the number of ratings in our dataset.\n",
    "\n",
    "Sparsity refers to the proportion of missing values in the user-item interaction matrix. A high sparsity level indicates that there are many missing values, meaning that users have interacted with only a small fraction of the available items.\n",
    "\n",
    "Many recommendation algorithms perform poorly on sparse data because they rely on sufficient interactions to learn user preferences and item characteristics effectively. Sparse matrices can lead to overfitting, where the model might learn noise instead of actual patterns\n",
    "\n",
    "Sparse data can make it challenging to recommend items to new users(the cold start problem) who have interacted with very few items, as there is little information to base recommendations on.\n",
    "\n",
    "Similarly, it is difficult to recommend new items that have not been interacted with by many users.\n",
    "\n",
    "if there are too many movies without ratings it is best to use content based filtering."
   ]
  },
  {
   "cell_type": "code",
   "execution_count": null,
   "id": "aa3ff57b",
   "metadata": {},
   "outputs": [
    {
     "name": "stdout",
     "output_type": "stream",
     "text": [
      "Matrix sparsity: 1.7%\n"
     ]
    }
   ],
   "source": [
    "n_total = X.shape[0]*X.shape[1]\n",
    "n_ratings = X.nnz  #checking for non null values in  the sparse matrix\n",
    "sparsity = n_ratings/n_total\n",
    "print(f\"Matrix sparsity: {round(sparsity*100,2)}%\")"
   ]
  },
  {
   "cell_type": "markdown",
   "id": "99046914",
   "metadata": {},
   "source": [
    "Given a sparsity level of 1.7%, collaborative filtering can still be used.\n",
    "\n",
    "\n",
    "csr_matrix.nnz counts the stored values in our sparse matrix. The rest of our cells are empty.\n",
    "\n",
    "The cold start problem is when there are new users and movies in our matrix that do not have any ratings.\n",
    "\n",
    " In our Movielens dataset, all users and movies have at least one rating but in general, it's useful to check which users and movies have few interactions"
   ]
  },
  {
   "cell_type": "code",
   "execution_count": null,
   "id": "e77d6694",
   "metadata": {},
   "outputs": [
    {
     "data": {
      "text/plain": [
       "610"
      ]
     },
     "execution_count": 27,
     "metadata": {},
     "output_type": "execute_result"
    }
   ],
   "source": [
    "n_ratings_per_user = X.getnnz(axis=1)\n",
    "len(n_ratings_per_user)"
   ]
  },
  {
   "cell_type": "code",
   "execution_count": null,
   "id": "79d8f159",
   "metadata": {},
   "outputs": [
    {
     "name": "stdout",
     "output_type": "stream",
     "text": [
      "Most active user rated 2698 movies.\n",
      "Least active user rated 20 movies.\n"
     ]
    }
   ],
   "source": [
    "print(f\"Most active user rated {n_ratings_per_user.max()} movies.\")\n",
    "print(f\"Least active user rated {n_ratings_per_user.min()} movies.\")"
   ]
  },
  {
   "cell_type": "code",
   "execution_count": null,
   "id": "ba423fb8",
   "metadata": {},
   "outputs": [
    {
     "data": {
      "text/plain": [
       "9724"
      ]
     },
     "execution_count": 29,
     "metadata": {},
     "output_type": "execute_result"
    }
   ],
   "source": [
    "n_ratings_per_movie = X.getnnz(axis=0)\n",
    "len(n_ratings_per_movie)"
   ]
  },
  {
   "cell_type": "code",
   "execution_count": null,
   "id": "09d93d39",
   "metadata": {},
   "outputs": [
    {
     "name": "stdout",
     "output_type": "stream",
     "text": [
      "Most rated movie has 329 ratings.\n",
      "Least rated movie has 1 ratings.\n"
     ]
    }
   ],
   "source": [
    "print(f\"Most rated movie has {n_ratings_per_movie.max()} ratings.\")\n",
    "print(f\"Least rated movie has {n_ratings_per_movie.min()} ratings.\")"
   ]
  },
  {
   "cell_type": "code",
   "execution_count": null,
   "id": "5d30cc39",
   "metadata": {},
   "outputs": [
    {
     "data": {
      "image/png": "[encoded data removed]",
      "text/plain": [
       "<Figure size 1152x288 with 2 Axes>"
      ]
     },
     "metadata": {
      "needs_background": "light"
     },
     "output_type": "display_data"
    }
   ],
   "source": [
    "plt.figure(figsize=(16,4))\n",
    "plt.subplot(1,2,1)\n",
    "sns.kdeplot(n_ratings_per_user, shade=True)\n",
    "plt.xlim(0)\n",
    "plt.title(\"Number of Ratings Per User\", fontsize=14)\n",
    "plt.xlabel(\"number of ratings per user\")\n",
    "plt.ylabel(\"density\")\n",
    "plt.subplot(1,2,2)\n",
    "sns.kdeplot(n_ratings_per_movie, shade=True)\n",
    "plt.xlim(0)\n",
    "plt.title(\"Number of Ratings Per Movie\", fontsize=14)\n",
    "plt.xlabel(\"number of ratings per movie\")\n",
    "plt.ylabel(\"density\")\n",
    "plt.show()"
   ]
  },
  {
   "cell_type": "markdown",
   "id": "3c164869",
   "metadata": {},
   "source": [
    "Both plots indicate a high level of sparsity in the dataset, as most movies have only a few ratings and most users have rated only a few movies.\n",
    "\n",
    "High sparsity can pose challenges for collaborative filtering algorithms, which rely on user-movie interactions to make recommendations.\n",
    "\n",
    "The data follows a long-tail distribution, common in recommender systems, where a small number of items (movies) and users are highly active, while the majority are not.\n",
    "\n",
    "Collaborative filtering can still be effective but may need techniques to handle sparsity, such as matrix factorization, regularization, or making a hybrid model"
   ]
  },
  {
   "cell_type": "markdown",
   "id": "e3f139cf",
   "metadata": {},
   "source": [
    "MODELLING\n",
    "\n",
    " User-item Recommendations with k-Nearest Neighbors\n",
    " \n",
    " A user-item recommendation system for a collaborative filtering movie recommender uses historical user interactions (like movie ratings) to suggest new movies. The core idea is that similar users tend to like similar items.\n",
    "KNN helps in identifying similar users by computing distances (similarities) in a high-dimensional space of user ratings. \n",
    "\n",
    "Once the nearest neighbors are found, the system predicts a user’s rating for a movie based on the ratings given by these neighbors.\n",
    "\n",
    "This method leverages the collective preferences of users, making it a powerful approach for personalized recommendations in a collaborative filtering system\n",
    "\n",
    " This will be our baseline model that we can improve on as we deem fit."
   ]
  },
  {
   "cell_type": "code",
   "execution_count": null,
   "id": "91cadaa6",
   "metadata": {},
   "outputs": [
    {
     "name": "stdout",
     "output_type": "stream",
     "text": [
      "RMSE: 3.4748651929484997\n"
     ]
    }
   ],
   "source": [
    "\n",
    "from sklearn.model_selection import train_test_split\n",
    "from sklearn.metrics import mean_squared_error\n",
    "from sklearn.neighbors import NearestNeighbors\n",
    "from scipy.sparse import csr_matrix\n",
    "\n",
    "\n",
    "# Aggregate duplicate ratings by taking the mean\n",
    "final_df = final_df.groupby(['userId', 'movieId'], as_index=False).mean()\n",
    "\n",
    "# Pivot the DataFrame to create a user-item matrix\n",
    "user_item_matrix = final_df.pivot(index='userId', columns='movieId', values='rating')\n",
    "\n",
    "# Fill missing values with 0 \n",
    "user_item_matrix.fillna(0, inplace=True)\n",
    "\n",
    "# Convert the user-item matrix to a sparse matrix\n",
    "user_item_sparse = csr_matrix(user_item_matrix)\n",
    "\n",
    "# Split data into training and test sets\n",
    "train_data, test_data = train_test_split(final_df, test_size=0.2, random_state=42)\n",
    "\n",
    "# Fit the KNN model\n",
    "model_knn = NearestNeighbors(metric='cosine', algorithm='brute')\n",
    "model_knn.fit(user_item_sparse)\n",
    "\n",
    "# Function to predict ratings\n",
    "def knn_predict(user_id, movie_id):\n",
    "    if movie_id not in user_item_matrix.columns:\n",
    "        return user_item_matrix.mean().mean()  # return the global mean if the movie is not in the training set\n",
    "    \n",
    "    if user_id not in user_item_matrix.index:\n",
    "        return user_item_matrix.mean().mean()  # return the global mean if the user is not in the training set\n",
    "    \n",
    "    user_index = user_item_matrix.index.get_loc(user_id)\n",
    "    movie_index = user_item_matrix.columns.get_loc(movie_id)\n",
    "\n",
    "    distances, indices = model_knn.kneighbors(user_item_sparse[user_index], n_neighbors=5)\n",
    "    neighbors_ratings = user_item_matrix.iloc[indices[0], movie_index]\n",
    "    if np.count_nonzero(neighbors_ratings) > 0:\n",
    "        prediction = np.dot(distances[0], neighbors_ratings) / np.sum(distances[0])\n",
    "    else:\n",
    "        prediction = user_item_matrix.mean().mean()  # return the global mean if no neighbors have rated the movie\n",
    "\n",
    "    return prediction\n",
    "\n",
    "# Make predictions on the test set\n",
    "test_data = test_data.copy()  # Create a copy of the test data\n",
    "test_data['prediction'] = test_data.apply(lambda x: knn_predict(x['userId'], x['movieId']), axis=1)\n",
    "\n",
    "# Compute the RMSE\n",
    "rmse = np.sqrt(mean_squared_error(test_data['rating'], test_data['prediction']))\n",
    "print(f'RMSE: {rmse}')\n"
   ]
  },
  {
   "cell_type": "markdown",
   "id": "2e944fc6",
   "metadata": {},
   "source": [
    "it gives an RMSE OF 3.474 but we can try and hyperparameter tune asnd see if we can get a lower RMSE on our model.\n",
    "We will use a grid search to find tghe best parameters for our model"
   ]
  },
  {
   "cell_type": "code",
   "execution_count": null,
   "id": "dd5a4cbc",
   "metadata": {},
   "outputs": [
    {
     "name": "stdout",
     "output_type": "stream",
     "text": [
      "Best RMSE: 3.4748651929484997\n",
      "Best Parameters: {'n_neighbors': 5, 'metric': 'cosine'}\n"
     ]
    }
   ],
   "source": [
    "\n",
    "\n",
    "\n",
    "# Aggregate duplicate ratings by taking the mean\n",
    "final_df = final_df.groupby(['userId', 'movieId'], as_index=False).mean()\n",
    "\n",
    "# Pivot the DataFrame to create a user-item matrix\n",
    "user_item_matrix = final_df.pivot(index='userId', columns='movieId', values='rating')\n",
    "\n",
    "# Fill missing values with 0\n",
    "user_item_matrix.fillna(0, inplace=True)\n",
    "\n",
    "# Convert the user-item matrix to a sparse matrix\n",
    "user_item_sparse = csr_matrix(user_item_matrix)\n",
    "\n",
    "# Define a range of parameters to test\n",
    "param_grid = {\n",
    "    'n_neighbors': [5, 10, 15],\n",
    "    'metric': ['cosine', 'euclidean']\n",
    "}\n",
    "\n",
    "best_rmse = float('inf')\n",
    "best_params = None\n",
    "\n",
    "for n_neighbors in param_grid['n_neighbors']:\n",
    "    for metric in param_grid['metric']:\n",
    "        # Split data into training and test sets\n",
    "        train_data, test_data = train_test_split(final_df, test_size=0.2, random_state=42)\n",
    "\n",
    "        # Fit the KNN model with current parameters\n",
    "        model_knn = NearestNeighbors(n_neighbors=n_neighbors, metric=metric, algorithm='brute')\n",
    "        model_knn.fit(user_item_sparse)\n",
    "\n",
    "        # Function to predict ratings\n",
    "        def knn_predict(user_id, movie_id):\n",
    "            if movie_id not in user_item_matrix.columns:\n",
    "                return user_item_matrix.mean().mean()  # return the global mean if the movie is not in the training set\n",
    "\n",
    "            if user_id not in user_item_matrix.index:\n",
    "                return user_item_matrix.mean().mean()  # return the global mean if the user is not in the training set\n",
    "\n",
    "            user_index = user_item_matrix.index.get_loc(user_id)\n",
    "            movie_index = user_item_matrix.columns.get_loc(movie_id)\n",
    "\n",
    "            distances, indices = model_knn.kneighbors(user_item_sparse[user_index], n_neighbors=n_neighbors)\n",
    "            neighbors_ratings = user_item_matrix.iloc[indices[0], movie_index]\n",
    "            if np.count_nonzero(neighbors_ratings) > 0:\n",
    "                prediction = np.dot(distances[0], neighbors_ratings) / np.sum(distances[0])\n",
    "            else:\n",
    "                prediction = user_item_matrix.mean().mean()  # return the global mean if no neighbors have rated the movie\n",
    "\n",
    "            return prediction\n",
    "\n",
    "        # Make predictions on the test set\n",
    "        test_data = test_data.copy()  # Create a copy of the test data\n",
    "        test_data['prediction'] = test_data.apply(lambda x: knn_predict(x['userId'], x['movieId']), axis=1)\n",
    "\n",
    "        # Compute the RMSE\n",
    "        rmse = np.sqrt(mean_squared_error(test_data['rating'], test_data['prediction']))\n",
    "\n",
    "        # Update best parameters if current RMSE is better\n",
    "        if rmse < best_rmse:\n",
    "            best_rmse = rmse\n",
    "            best_params = {'n_neighbors': n_neighbors, 'metric': metric}\n",
    "\n",
    "print(f'Best RMSE: {best_rmse}')\n",
    "print(f'Best Parameters: {best_params}')\n"
   ]
  },
  {
   "cell_type": "markdown",
   "id": "4c7f43ec",
   "metadata": {},
   "source": [
    "we now train the model using the best hyperparameters ie 'n_neighbors': 5, 'metric': 'cosine"
   ]
  },
  {
   "cell_type": "code",
   "execution_count": null,
   "id": "21cc871b",
   "metadata": {},
   "outputs": [
    {
     "name": "stdout",
     "output_type": "stream",
     "text": [
      "Best BASELINE RMSE: 3.6569020597466326\n"
     ]
    }
   ],
   "source": [
    "\n",
    "\n",
    "# Aggregate duplicate ratings by taking the mean\n",
    "final_df = final_df.groupby(['userId', 'movieId'], as_index=False).mean()\n",
    "\n",
    "# Pivot the DataFrame to create a user-item matrix\n",
    "user_item_matrix = final_df.pivot(index='userId', columns='movieId', values='rating')\n",
    "\n",
    "# Fill missing values with 0\n",
    "user_item_matrix.fillna(0, inplace=True)\n",
    "\n",
    "# Convert the user-item matrix to a sparse matrix\n",
    "user_item_sparse = csr_matrix(user_item_matrix)\n",
    "\n",
    "# Define a range of parameters to test\n",
    "param_grid = {\n",
    "    'n_neighbors': [5],\n",
    "    'metric': ['cosine']\n",
    "}\n",
    "\n",
    "best_rmse = float('inf')\n",
    "best_params = None\n",
    "\n",
    "for n_neighbors in param_grid['n_neighbors']:\n",
    "    for metric in param_grid['metric']:\n",
    "        # Split data into training and test sets\n",
    "        train_data, test_data = train_test_split(final_df, test_size=0.2, random_state=42)\n",
    "\n",
    "        # Fit the KNN model with current parameters\n",
    "        model_knn = NearestNeighbors(n_neighbors=n_neighbors, metric=metric, algorithm='brute')\n",
    "        model_knn.fit(user_item_sparse)\n",
    "\n",
    "        # Function to predict ratings\n",
    "        def knn_predict(user_id, movie_id):\n",
    "            if movie_id not in user_item_matrix.columns:\n",
    "                return user_item_matrix.mean().mean()  # return the global mean if the movie is not in the training set\n",
    "\n",
    "            if user_id not in user_item_matrix.index:\n",
    "                return user_item_matrix.mean().mean()  # return the global mean if the user is not in the training set\n",
    "\n",
    "            user_index = user_item_matrix.index.get_loc(user_id)\n",
    "            movie_index = user_item_matrix.columns.get_loc(movie_id)\n",
    "\n",
    "            distances, indices = model_knn.kneighbors(user_item_sparse[user_index], n_neighbors=n_neighbors)\n",
    "            neighbors_ratings = user_item_matrix.iloc[indices[0], movie_index]\n",
    "            if np.count_nonzero(neighbors_ratings) > 0:\n",
    "                prediction = np.dot(distances[0], neighbors_ratings) / np.sum(distances[0])\n",
    "            else:\n",
    "                prediction = user_item_matrix.mean().mean()  # return the global mean if no neighbors have rated the movie\n",
    "\n",
    "            return prediction\n",
    "\n",
    "        # Make predictions on the test set\n",
    "        test_data = test_data.copy()  # Create a copy of the test data\n",
    "        test_data['prediction'] = test_data.apply(lambda x: knn_predict(x['userId'], x['movieId']), axis=1)\n",
    "\n",
    "        # Compute the RMSE\n",
    "        baseline_rmse = np.sqrt(mean_squared_error(test_data['rating'], test_data['prediction']))\n",
    "        # Update best parameters if current RMSE is better\n",
    "        if rmse < best_rmse:\n",
    "            best_rmse = rmse\n",
    "            best_params = {'n_neighbors': n_neighbors, 'metric': metric}\n",
    "        \n",
    "\n",
    "print(f'Best BASELINE RMSE: {best_rmse}')\n"
   ]
  },
  {
   "cell_type": "markdown",
   "id": "a6242ee3",
   "metadata": {},
   "source": [
    "KNN BASICS\n",
    "We will now try to hyperparameter tune our model using KNN Basics to see if we will be able to reduce the RMSE\n",
    "KNN helps create personalized recommendations by leveraging the collective preferences of similar users or items, it is therefore a preferred choice for collaborative filtering in this case."
   ]
  },
  {
   "cell_type": "code",
   "execution_count": null,
   "id": "a2036d83",
   "metadata": {},
   "outputs": [
    {
     "name": "stdout",
     "output_type": "stream",
     "text": [
      "Computing the msd similarity matrix...\n",
      "Done computing similarity matrix.\n",
      "Computing the msd similarity matrix...\n",
      "Done computing similarity matrix.\n",
      "Computing the msd similarity matrix...\n",
      "Done computing similarity matrix.\n",
      "Computing the msd similarity matrix...\n",
      "Done computing similarity matrix.\n",
      "Computing the msd similarity matrix...\n",
      "Done computing similarity matrix.\n",
      "Evaluating RMSE of algorithm KNNBasic on 5 split(s).\n",
      "\n",
      "                  Fold 1  Fold 2  Fold 3  Fold 4  Fold 5  Mean    Std     \n",
      "RMSE (testset)    0.9428  0.9467  0.9447  0.9524  0.9495  0.9472  0.0034  \n",
      "Fit time          0.24    0.25    0.27    0.25    0.32    0.26    0.03    \n",
      "Test time         2.03    2.22    2.23    2.72    2.80    2.40    0.30    \n",
      "RMSE:  [0.94276825 0.9467098  0.94472376 0.95237803 0.94952252]\n",
      "Mean KNN_1 RMSE:  0.9472204711409218\n"
     ]
    }
   ],
   "source": [
    "from surprise import Dataset, Reader, KNNBasic\n",
    "from surprise.model_selection import cross_validate\n",
    "\n",
    "# Load the dataset\n",
    "reader = Reader(rating_scale=(1, 5))\n",
    "data = Dataset.load_from_df(ratings_df[['userId', 'movieId', 'rating']], reader)\n",
    "\n",
    "# Define the algorithm\n",
    "model_1 = KNNBasic()\n",
    "\n",
    "# Run 5-fold cross-validation\n",
    "knn1_results = cross_validate(model_1, data, measures=['RMSE'], cv=5, verbose=True)\n",
    "\n",
    "# Print results\n",
    "print(\"RMSE: \", knn1_results['test_rmse'])\n",
    "print(\"Mean KNN_1 RMSE: \", sum(knn1_results['test_rmse']) / len(knn1_results['test_rmse']))\n"
   ]
  },
  {
   "cell_type": "code",
   "execution_count": null,
   "id": "51ffd080",
   "metadata": {},
   "outputs": [
    {
     "data": {
      "text/plain": [
       "0.9472204711409218"
      ]
     },
     "execution_count": 36,
     "metadata": {},
     "output_type": "execute_result"
    }
   ],
   "source": [
    "knn_rmse = knn1_results['test_rmse'].mean()\n",
    "knn_rmse"
   ]
  },
  {
   "cell_type": "markdown",
   "id": "e780aa8b",
   "metadata": {},
   "source": [
    " SVD\n",
    "\n",
    "After establishing our baseline model and exploring the KNN algorithm, we decided to experiment with the Singular Value Decomposition (SVD) algorithm. We hoped that SVD would enhance our model’s accuracy and reduce the RMSE. The `surprise` library implements a variant of SVD known as Funk's SVD, which relies on matrix factorization. This technique decomposes a user-item matrix (in our case, a user-movie ratings matrix) into latent factor matrices. Additionally, errors are minimized using stochastic gradient descent, allowing us to fine-tune hyper-parameters such as regularization and learning rate. We also adjusted hyper-parameters including the number of factors and epochs."
   ]
  },
  {
   "cell_type": "code",
   "execution_count": null,
   "id": "45645698",
   "metadata": {},
   "outputs": [
    {
     "name": "stdout",
     "output_type": "stream",
     "text": [
      "Evaluating RMSE of algorithm SVD on 5 split(s).\n",
      "\n",
      "                  Fold 1  Fold 2  Fold 3  Fold 4  Fold 5  Mean    Std     \n",
      "RMSE (testset)    0.8782  0.8798  0.8714  0.8716  0.8709  0.8744  0.0038  \n",
      "Fit time          6.29    6.72    6.44    6.04    7.13    6.52    0.38    \n",
      "Test time         0.18    0.29    0.21    0.20    0.28    0.23    0.04    \n",
      "RMSE:  [0.8781943  0.87980082 0.87141834 0.87162247 0.87092092]\n",
      "Mean SVD RMSE:  0.8743913702102555\n"
     ]
    }
   ],
   "source": [
    "from surprise import Dataset, Reader, SVD\n",
    "e\n",
    "\n",
    "# Load the dataset\n",
    "reader = Reader(rating_scale=(1, 5))\n",
    "data = Dataset.load_from_df(ratings_df[['userId', 'movieId', 'rating']], reader)\n",
    "\n",
    "# Define the algorithm\n",
    "model_2 = SVD()\n",
    "\n",
    "# Run 5-fold cross-validation\n",
    "svd_results = cross_validate(model_2, data, measures=['RMSE'], cv=5, verbose=True)\n",
    "\n",
    "# Print results\n",
    "print(\"RMSE: \", svd_results['test_rmse'])\n",
    "print(\"Mean SVD RMSE: \", sum(svd_results['test_rmse']) / len(svd_results['test_rmse']))\n"
   ]
  },
  {
   "cell_type": "code",
   "execution_count": null,
   "id": "38ca9125",
   "metadata": {},
   "outputs": [
    {
     "data": {
      "text/plain": [
       "0.8743913702102555"
      ]
     },
     "execution_count": 38,
     "metadata": {},
     "output_type": "execute_result"
    }
   ],
   "source": [
    "svd_rmse = svd_results['test_rmse'].mean()\n",
    "svd_rmse"
   ]
  },
  {
   "cell_type": "markdown",
   "id": "610b19c0",
   "metadata": {},
   "source": [
    "we will try one more model the non negative matrix factorisation(NMF)\n",
    "\n",
    "NMF (Non-negative Matrix Factorization) in collaborative filtering decomposes the user-item interaction matrix into two lower-dimensional matrices with non-negative values.\n",
    "\n",
    " This helps to identify latent features that represent user preferences and item characteristics, enabling the recommender system to predict missing ratings and make personalized recommendations based on the learned patterns.\n",
    "\n"
   ]
  },
  {
   "cell_type": "code",
   "execution_count": null,
   "id": "4b207a80",
   "metadata": {},
   "outputs": [
    {
     "name": "stdout",
     "output_type": "stream",
     "text": [
      "Evaluating RMSE of algorithm NMF on 5 split(s).\n",
      "\n",
      "                  Fold 1  Fold 2  Fold 3  Fold 4  Fold 5  Mean    Std     \n",
      "RMSE (testset)    0.9271  0.9103  0.9141  0.9244  0.9255  0.9203  0.0068  \n",
      "Fit time          8.17    9.11    9.25    8.12    9.03    8.74    0.49    \n",
      "Test time         0.23    0.26    0.28    0.25    0.16    0.24    0.04    \n",
      "RMSE:  [0.92712719 0.91030196 0.9141313  0.92440918 0.92547504]\n",
      "Mean NMF RMSE:  0.9202889352255322\n"
     ]
    }
   ],
   "source": [
    "\n",
    "\n",
    "# Load the dataset\n",
    "reader = Reader(rating_scale=(1, 5))\n",
    "data = Dataset.load_from_df(ratings_df[['userId', 'movieId', 'rating']], reader)\n",
    "\n",
    "# Define the algorithm\n",
    "model_3 = NMF()\n",
    "\n",
    "# Run 5-fold cross-validation\n",
    "nmf_results = cross_validate(model_3, data, measures=['RMSE'], cv=5, verbose=True)\n",
    "\n",
    "# Print results\n",
    "print(\"RMSE: \", nmf_results['test_rmse'])\n",
    "print(\"Mean NMF RMSE: \", sum(nmf_results['test_rmse']) / len(nmf_results['test_rmse']))\n"
   ]
  },
  {
   "cell_type": "code",
   "execution_count": null,
   "id": "83b23995",
   "metadata": {},
   "outputs": [
    {
     "data": {
      "text/plain": [
       "0.9202889352255322"
      ]
     },
     "execution_count": 40,
     "metadata": {},
     "output_type": "execute_result"
    }
   ],
   "source": [
    "nmf_rmse = nmf_results['test_rmse'].mean()\n",
    "nmf_rmse"
   ]
  },
  {
   "cell_type": "markdown",
   "id": "bf330fd6",
   "metadata": {},
   "source": [
    "MODEL PERFOMANCE EVALUATION\n",
    "We will now compare all our model's perfomance and visualize and deploy the one with witth the lowest RMSE."
   ]
  },
  {
   "cell_type": "code",
   "execution_count": null,
   "id": "feb85128",
   "metadata": {},
   "outputs": [
    {
     "data": {
      "image/png": "[encoded data removed]",
      "text/plain": [
       "<Figure size 864x576 with 1 Axes>"
      ]
     },
     "metadata": {
      "needs_background": "light"
     },
     "output_type": "display_data"
    }
   ],
   "source": [
    "\n",
    "\n",
    "# Data\n",
    "objects = ('Baseline', 'KNN', 'NMF', 'SVD')\n",
    "y_pos = np.arange(len(objects))\n",
    "performance = [baseline_rmse, knn_rmse, svd_rmse, nmf_rmse]\n",
    "\n",
    "# Plot\n",
    "plt.figure(figsize=(12, 8))\n",
    "plt.bar(y_pos, performance, align='center', alpha=0.5, color=['red', 'blue', 'blue', 'green'])\n",
    "plt.xticks(y_pos, objects)\n",
    "plt.ylabel('Error')\n",
    "plt.title('Model Performance')\n",
    "plt.show()\n"
   ]
  },
  {
   "cell_type": "markdown",
   "id": "da0476a7",
   "metadata": {},
   "source": [
    "Based on the graph showing the RMSE (Root Mean Square Error) for different models, here's an interpretation and recommendation:\n",
    "\n",
    "\n",
    "-Baseline model: Has the highest RMSE of about 3.5, indicating poor performance.\n",
    "\n",
    "-KNN (K-Nearest Neighbors): Shows significant improvement with an RMSE of about 0.95.\n",
    "\n",
    "-NMF (Non-negative Matrix Factorization): Performs slightly better than KNN with an RMSE of about 0.9.\n",
    " \n",
    " -SVD (Singular Value Decomposition): Has the lowest RMSE of about 0.95, very close to NMF.\n",
    "\n",
    "Recommendation:\n",
    "WE will  deploy the NMF or SVD model for the following reasons:\n",
    "\n",
    "-Both NMF and SVD have the lowest RMSE, indicating they make the most accurate predictions among the models tested.\n",
    "\n",
    "-The performance difference between NMF and SVD is minimal, so either could be a good choice.\n",
    "\n",
    "-Both models show substantial improvement over the baseline, reducing error by about 74%.\n",
    "\n",
    "-If we had to choose one, NMF appears to have a marginally lower RMSE than SVD, though the difference is small.\n",
    "\n",
    "\n"
   ]
  },
  {
   "cell_type": "markdown",
   "id": "a0a7db17",
   "metadata": {},
   "source": [
    "TESTING THE MODEL'S ACCURACY  ON OUR DATASET"
   ]
  },
  {
   "cell_type": "code",
   "execution_count": null,
   "id": "c6c41ea5",
   "metadata": {},
   "outputs": [
    {
     "name": "stdout",
     "output_type": "stream",
     "text": [
      "Actual rating: 5.0\n",
      "NMF predicted rating: 4.913582416578755\n",
      "SVD predicted rating: 4.208781464107733\n",
      "RMSE: 0.9322\n",
      "RMSE: 0.8829\n",
      "NMF RMSE on test set: 0.9321974930897657\n",
      "SVD RMSE on test set: 0.8828944998359705\n"
     ]
    }
   ],
   "source": [
    "from surprise import Dataset, Reader, SVD, NMF\n",
    "from surprise.model_selection import train_test_split\n",
    "from surprise import accuracy\n",
    "\n",
    "# Load the dataset\n",
    "reader = Reader(rating_scale=(1, 5))\n",
    "data = Dataset.load_from_df(ratings_df[['userId', 'movieId', 'rating']], reader)\n",
    "\n",
    "# Split the data into training and test sets\n",
    "trainset, testset = train_test_split(data, test_size=0.25,  random_state=42)\n",
    "\n",
    "# Train the NMF model\n",
    "nmf = NMF()\n",
    "nmf.fit(trainset)\n",
    "\n",
    "# Train the SVD model\n",
    "svd = SVD()\n",
    "svd.fit(trainset)\n",
    "\n",
    "# Predict rating for user 1 and movie 1 using NMF\n",
    "user_id = 610\n",
    "movie_id = 168248\n",
    "actual_rating = ratings_df[(ratings_df['userId'] == user_id) & (ratings_df['movieId'] == movie_id)]['rating'].values[0]\n",
    "nmf_pred = nmf.predict(user_id, movie_id).est\n",
    "\n",
    "# Predict rating for user 1 and movie 1 using SVD\n",
    "svd_pred = svd.predict(user_id, movie_id).est\n",
    "\n",
    "# Print results\n",
    "print(f'Actual rating: {actual_rating}')\n",
    "print(f'NMF predicted rating: {nmf_pred}')\n",
    "print(f'SVD predicted rating: {svd_pred}')\n",
    "\n",
    "# Evaluate the accuracy (RMSE) of both models on the test set\n",
    "nmf_predictions = nmf.test(testset)\n",
    "svd_predictions = svd.test(testset)\n",
    "\n",
    "nmf_rmse = accuracy.rmse(nmf_predictions)\n",
    "svd_rmse = accuracy.rmse(svd_predictions)\n",
    "\n",
    "print(f'NMF RMSE on test set: {nmf_rmse}')\n",
    "print(f'SVD RMSE on test set: {svd_rmse}')\n"
   ]
  },
  {
   "cell_type": "markdown",
   "id": "dfbf3e05",
   "metadata": {},
   "source": [
    "\n",
    "\n",
    "The above  code snippet demonstrates the prediction and evaluation process for our collaborative filtering recommendation system using two different algorithms: Non-negative Matrix Factorization (NMF) and Singular Value Decomposition (SVD).\n",
    "\n",
    "\n",
    "\n",
    "We're making predictions for a specific user (ID: 610) and movie (ID: 168248) using both NMF and SVD models:\n",
    "\n",
    " We first retrieve the actual rating from our dataset.\n",
    "\n",
    " Then we use the trained NMF model to predict the rating.\n",
    "\n",
    " Similarly, we use the trained SVD model to predict the rating.\n",
    "\n",
    " Finally, we print and compare these predictions with the actual rating.\n",
    "\n",
    "This allows us to see how well each model performs for this particular user-movie combination.\n",
    "\n",
    "\n",
    "\n",
    "To get a more comprehensive view of model performance:\n",
    "\n",
    " We use both models to make predictions on the entire test set.\n",
    "\n",
    " We calculate the Root Mean Square Error (RMSE) for each model using these predictions.\n",
    "\n",
    " The RMSE gives us a measure of the average prediction error for each model.\n",
    "\n",
    "A lower RMSE indicates better overall performance of the model across the test set.\n",
    "\n",
    "\n",
    "\n"
   ]
  },
  {
   "cell_type": "markdown",
   "id": "b5d4506e",
   "metadata": {},
   "source": [
    "Based on these results, we recommend using the SVD (Singular Value Decomposition) model for our recommendation system. Here's why:\n",
    "\n",
    " SVD has a lower overall RMSE (0.8828) compared to NMF (0.9231), indicating better average performance across the entire test set.\n",
    "\n",
    " While NMF performed better for the single example we looked at, the lower RMSE of SVD suggests it generalizes better across a wide range of user-movie pairs.\n",
    "\n",
    " The SVD model shows about a 5.7% improvement in RMSE compared to the NMF model, which is significant in the context of recommendation systems.\n"
   ]
  },
  {
   "cell_type": "markdown",
   "id": "7497a7d6",
   "metadata": {},
   "source": [
    "HOW WILL IT RECOMMEND MOVIES TO NEW USERS?"
   ]
  },
  {
   "cell_type": "code",
   "execution_count": null,
   "id": "def817cc",
   "metadata": {},
   "outputs": [
    {
     "name": "stdout",
     "output_type": "stream",
     "text": [
      "Top 10 recommendations for the new user:\n",
      "                                                  title  predicted_rating\n",
      "277                    Shawshank Redemption, The (1994)          4.377080\n",
      "602   Dr. Strangelove or: How I Learned to Stop Worr...          4.297422\n",
      "2226                                  Fight Club (1999)          4.287027\n",
      "46                           Usual Suspects, The (1995)          4.255996\n",
      "905                                 12 Angry Men (1957)          4.254554\n",
      "863              Monty Python and the Holy Grail (1975)          4.249887\n",
      "6315                               Departed, The (2006)          4.249162\n",
      "975                               Cool Hand Luke (1967)          4.244908\n",
      "3622  Amelie (Fabuleux destin d'Amélie Poulain, Le) ...          4.243768\n",
      "2462                        Boondock Saints, The (2000)          4.235380\n"
     ]
    }
   ],
   "source": [
    "from surprise import Dataset, Reader, SVD\n",
    "\n",
    "\n",
    "# Ensure final_df contains unique movie IDs and titles\n",
    "all_movies = final_df[['movieId', 'title']].drop_duplicates()\n",
    "\n",
    "# Load the dataset\n",
    "reader = Reader(rating_scale=(1, 5))\n",
    "data = Dataset.load_from_df(ratings_df[['userId', 'movieId', 'rating']], reader)\n",
    "\n",
    "# Train-test split\n",
    "trainset, testset = train_test_split(data, test_size=0.25, random_state=43)\n",
    "\n",
    "# Train the SVD model\n",
    "svd = SVD()\n",
    "svd.fit(trainset)\n",
    "\n",
    "# Define new user ID\n",
    "new_user_id = 'new_user'\n",
    "\n",
    "# Get all unique movie IDs from final_df\n",
    "all_movie_ids = all_movies['movieId'].tolist()\n",
    "\n",
    "# Predict ratings for all movies for the new user\n",
    "predictions = [svd.predict(new_user_id, movie_id) for movie_id in all_movie_ids]\n",
    "\n",
    "# Convert predictions to a DataFrame\n",
    "pred_df = pd.DataFrame({\n",
    "    'movieId': all_movie_ids,\n",
    "    'predicted_rating': [pred.est for pred in predictions]\n",
    "})\n",
    "\n",
    "# Merge predictions with movie titles\n",
    "recommendations = pred_df.merge(all_movies, on='movieId')\n",
    "\n",
    "# Sort by predicted rating in descending order\n",
    "recommendations = recommendations.sort_values(by='predicted_rating', ascending=False)\n",
    "\n",
    "# Get top-N recommendations\n",
    "top_n = 10\n",
    "top_recommendations = recommendations.head(top_n)\n",
    "\n",
    "print(f\"Top {top_n} recommendations for the new user:\")\n",
    "print(top_recommendations[['title', 'predicted_rating']])\n"
   ]
  },
  {
   "cell_type": "markdown",
   "id": "2b3c6d30",
   "metadata": {},
   "source": [
    "This is how it will recommend to new users \n",
    "\n",
    "\n",
    "For new users without any rating history, the SVD model relies on the following:\n",
    "\n",
    "The model uses the average patterns it learned from existing users.\n",
    "\n",
    " It considers general popularity or quality of movies based on overall ratings.\n",
    "\n",
    " The SVD model uses latent factors that capture underlying characteristics of movies and user preferences.\n",
    "\n",
    "\n",
    "\n",
    "This approach has some limitations for new users:\n",
    "\n",
    " Cold Start Problem: Recommendations might be generic since we have no specific information about the new user's preferences.\n",
    "\n",
    " Initial recommendations are based on overall popularity and average user behavior.\n",
    "\n",
    "Popular or highly-rated movies might dominate the recommendations.\n",
    "\n",
    "\n",
    "\n",
    "To get more personalized recommendations, the new user should:\n",
    "\n",
    " Rate some movies to provide initial preference data.\n",
    "\n",
    " Interact with the system to generate more user-specific data.\n",
    "\n",
    "\n",
    "As the user interacts more with the system, the recommendations will become increasingly personalized and accurate"
   ]
  },
  {
   "cell_type": "markdown",
   "id": "66adfdc6",
   "metadata": {},
   "source": [
    "MODEL DEPLOYMENT\n",
    "\n",
    "We will first save our SVD model as pickle file "
   ]
  },
  {
   "cell_type": "code",
   "execution_count": null,
   "id": "9048f960",
   "metadata": {},
   "outputs": [],
   "source": [
    "# Save the model to a pickle file\n",
    "with open('svd_model.pkl', 'wb') as f:\n",
    "        pickle.dump(svd, f)"
   ]
  },
  {
   "cell_type": "markdown",
   "id": "83cbbdf4",
   "metadata": {},
   "source": [
    "Model Dployment "
   ]
  },
  {
   "cell_type": "markdown",
   "id": "2f4e6777",
   "metadata": {},
   "source": [
    "Recommendations \n",
    "\n",
    "1. Implement a feedback mechanism where users can rate the relevance of the recommendations they receive. Use this feedback to continuously refine and adjust the recommendation algorithms.\n",
    "\n",
    "2. Continue utilizing the SVD model as the primary recommendation engine. Its superior performance and accuracy in recommending movies makes it the best choice for ensuring that users receive relevant suggestions\n",
    "\n",
    "3. Ensure that the recommendation system is scalable to handle an increasing number of users and movie entries. Consider using cloud-based solutions or distributed computing if needed.\n",
    "\n",
    "4. Regularly evaluate the recommendation system with updated data and metrics to ensure it adapts to changing user preferences and content.\n",
    "\n",
    "\n"
   ]
  },
  {
   "cell_type": "markdown",
   "id": "98275ce4",
   "metadata": {},
   "source": [
    "\n",
    "\n",
    " Conclusions\n",
    "\n",
    "1. Model Performance: The SVD model outperformed other tested models, providing a solid foundation for accurate recommendations.\n",
    "\n",
    "2. Addressing User Dissatisfaction: The new recommendation system is poised to significantly improve the relevance of movie suggestions, directly addressing the customer feedback received on Google Play Store.\n",
    "\n",
    "\n",
    "3. The use of collaborative filtering through SVD demonstrates the power of leveraging collective user behavior in order to make  personalized recommendations.\n",
    "\n",
    "4. Alignment with Objectives: The chosen approach aligns well with the specific objectives, particularly in terms of recommendation accuracy and personalization.\n",
    "\n"
   ]
  }
 ],
 "metadata": {
  "kernelspec": {
   "display_name": "Python 3 (ipykernel)",
   "language": "python",
   "name": "python3"
  },
  "language_info": {
   "codemirror_mode": {
    "name": "ipython",
    "version": 3
   },
   "file_extension": ".py",
   "mimetype": "text/x-python",
   "name": "python",
   "nbconvert_exporter": "python",
   "pygments_lexer": "ipython3",
   "version": "3.8.5"
  }
 },
 "nbformat": 4,
 "nbformat_minor": 5
}
