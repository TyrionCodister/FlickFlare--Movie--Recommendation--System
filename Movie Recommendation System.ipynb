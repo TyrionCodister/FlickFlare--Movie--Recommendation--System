{
 "cells": [
  {
   "cell_type": "markdown",
   "id": "16c7d370-1b19-491d-af8f-7cccab8d3bb3",
   "metadata": {},
   "source": [
    "# **FLICKFLARE**\n",
    "\n",
    "\n",
    "![FlickFlareLogo](Images_Movie_Recommendation_System/FlickFlareLogo.PNG)\n",
    "\n",
    "\n",
    "\n",
    "\n",
    "\n",
    "\n",
    "\n"
   ]
  },
  {
   "cell_type": "markdown",
   "id": "21f42321-8185-40c5-ac9c-a0c6699b52f9",
   "metadata": {},
   "source": [
    "### **Project Phase 4**\n",
    "\n",
    "### **Authors**\n",
    "#### Kelvin Mwaura\n",
    "#### Abigael Nyabaga\n",
    "#### Prossy Nansubuga"
   ]
  },
  {
   "cell_type": "markdown",
   "id": "04bfcc4f-a72a-4e19-a538-567cd591fef0",
   "metadata": {},
   "source": [
    "# **Movie Recommender System**\n",
    "## **Overview: FlickFlare**\n",
    "\n",
    "FlickFlare is a cutting-edge movie streaming platform designed to bring a diverse and expansive collection of films directly to your screen. Whether you're a fan of classic cinema, indie gems, or the latest blockbuster hits, FlickFlare has something for everyone.\n",
    "\n",
    "To enhance user satisfaction and ensure that our movie recommendations align with user interests, we are introducing a sophisticated movie recommender system. This system will leverage user ratings and genre preferences to suggest the top 5 movies tailored to individual tastes."
   ]
  },
  {
   "cell_type": "markdown",
   "id": "e9e916a6-c4e3-4f05-b6e0-c6b47147bdb5",
   "metadata": {},
   "source": [
    "## **Business Understanding**\n",
    "### **Problem Statement**\n",
    "\n",
    "FlickFlare, a movie streaming company, received feedback from users on the Google Play Store indicating that the movies recommended to them did not match their interests, leading to customer dissatisfaction.\n",
    "\n",
    "To address this issue, FlickFlare has approached us, RODATA-a data analytics company, to build a movie recommender system. This system will aid in suggesting the top 5 movies to users based on their ratings and preferred genres."
   ]
  },
  {
   "cell_type": "markdown",
   "id": "24577d77-92e5-48d1-8f2a-18679682ddfd",
   "metadata": {},
   "source": [
    "## **Objectives**\n",
    "\n",
    "###  **Main Objective**\n",
    "\n",
    "    To build a movie recommender system that suggests top movies to streaming users based on movie ratings and preferred genres.\n",
    "\n",
    "### Specific Objectives\n",
    "1. **Recommendation Accuracy**: Design an algorithm to precisely identify and recommend the top five movies that match user ratings and preferred genres, ensuring high relevance to individual preferences.\n",
    "2. **Boosting User Interaction**: Develop a recommendation system aimed at significantly enhancing user engagement by providing personalized movie suggestions, leading to increased interaction and longer viewing times.\n",
    "3. **Customized Movie Suggestions**: Create tailored recommendations that align with each user's unique interests and viewing patterns.\n",
    "4. **Improving Recommendation Precision**: Enhance the algorithm's accuracy over time by incorporating user feedback and continuously refining the recommendation process to better match user preferences."
   ]
  },
  {
   "cell_type": "markdown",
   "id": "5bb2316b-3624-468a-a2b2-5015fd6d15b9",
   "metadata": {},
   "source": [
    "### **Metric for Success**\n",
    "To achieve the success metrics for the recommendation system, below is structured approach that we shall use to ensure we meet both the Recommendation Accuracy and User Interaction goals\n",
    "\n",
    "1. **Recommendation Accuracy**\n",
    "   \n",
    "    Goal: Achieve at least 80% accuracy in recommending the top five movies.\n",
    "    Steps:\n",
    "        Prepare Data: Clean and preprocess movie ratings and genre data.\n",
    "        Modeling: Use collaborative filtering, content-based filtering, or a hybrid approach.\n",
    "        Evaluate: Measure accuracy with precision, recall, and top-K metrics.\n",
    "        Tune and Validate: Optimize parameters and use cross-validation.\n",
    "        Test: Deploy and test with users, adjust based on feedback.\n",
    "\n",
    "3. **User Interaction**\n",
    "\n",
    "    Goal: Increase user engagement (interaction rates and average viewing time) by at least 20% within three months.\n",
    "    Steps:\n",
    "        Track Metrics: Define and monitor current engagement metrics.\n",
    "        Deploy System: Launch the recommendation system and promote new features.\n",
    "        Measure Impact: Compare pre- and post-deployment metrics.\n",
    "        Optimize: Use user feedback to refine the system.\n",
    "        Report: Create reports on engagement improvements and adjust strategies as needed.\n"
   ]
  },
  {
   "cell_type": "markdown",
   "id": "d01c1240-9919-4c67-85ca-508e23622bd7",
   "metadata": {},
   "source": [
    "### **Data Understanding**\n",
    "\n",
    "The data used has been sourced from the MovieLens dataset from the GroupLens research lab at the University of Minnesota.\n",
    "\n",
    "It contains 100,836 ratings and 3,683 tag applications across 9,742 movies. These data were created by 610 users.\n",
    "\n",
    "The dataset is distributed among four CSV files:\n",
    "\n",
    "    links.csv\n",
    "    movies.csv\n",
    "    ratings.csv\n",
    "    tags.csv\n",
    "\n",
    "1. **movies.csv**\n",
    "\n",
    "Each line of this file after the header row represents one movie and has the following columns:\n",
    "\n",
    "    movieId: Unique ID for each movie\n",
    "    title: Name of the movie followed by its year of release\n",
    "    genres: Categories that a movie might fall into, separated by |\n",
    "\n",
    "2. **links.csv**\n",
    "\n",
    "This file contains identifiers that can be used to link this data to other data sources like IMDb. Each line of this file after the header row represents one IMDb link and has the following columns:\n",
    "\n",
    "    movieId: Unique ID for each movie as used by MovieLens\n",
    "    imdbId: Unique ID for each movie as used by IMDb\n",
    "    tmdbId: Unique ID for each movie as used by The Movie Database (TMDb)\n",
    "\n",
    "3. **tags.csv**\n",
    "\n",
    "Each line of this file after the header row represents one tag applied to one movie by one user and has the following columns:\n",
    "\n",
    "    userId: Unique ID for each user\n",
    "    movieId: Unique ID for each movie\n",
    "    tag: User-generated metadata about the movie in the form of short, meaningful phrases\n",
    "    timestamp: Time when the tag was provided by the user\n",
    "\n",
    "4. **ratings.csv**\n",
    "\n",
    "Each line of this file after the header row represents one rating and has the following columns:\n",
    "\n",
    "    userId: Unique ID for each user\n",
    "    movieId: Unique ID for each movie\n",
    "    rating: Rating given by the user for the movie. Ratings are made on a 5-star scale with 0.5 increments\n",
    "    timestamp: Time when the rating was given"
   ]
  },
  {
   "cell_type": "code",
   "execution_count": 1,
   "id": "9b24fe7f-2d60-4aa9-9bbb-02d9f5f118a4",
   "metadata": {},
   "outputs": [
    {
     "name": "stdout",
     "output_type": "stream",
     "text": [
      "Tags DataFrame:\n",
      "   userId  movieId              tag   timestamp\n",
      "0       2    60756            funny  1445714994\n",
      "1       2    60756  Highly quotable  1445714996\n",
      "2       2    60756     will ferrell  1445714992\n",
      "3       2    89774     Boxing story  1445715207\n",
      "4       2    89774              MMA  1445715200\n",
      "\n",
      "Movies DataFrame:\n",
      "   movieId                               title  \\\n",
      "0        1                    Toy Story (1995)   \n",
      "1        2                      Jumanji (1995)   \n",
      "2        3             Grumpier Old Men (1995)   \n",
      "3        4            Waiting to Exhale (1995)   \n",
      "4        5  Father of the Bride Part II (1995)   \n",
      "\n",
      "                                        genres  \n",
      "0  Adventure|Animation|Children|Comedy|Fantasy  \n",
      "1                   Adventure|Children|Fantasy  \n",
      "2                               Comedy|Romance  \n",
      "3                         Comedy|Drama|Romance  \n",
      "4                                       Comedy  \n",
      "\n",
      "Ratings DataFrame:\n",
      "   userId  movieId  rating  timestamp\n",
      "0       1        1     4.0  964982703\n",
      "1       1        3     4.0  964981247\n",
      "2       1        6     4.0  964982224\n",
      "3       1       47     5.0  964983815\n",
      "4       1       50     5.0  964982931\n",
      "\n",
      "Links DataFrame:\n",
      "   movieId  imdbId   tmdbId\n",
      "0        1  114709    862.0\n",
      "1        2  113497   8844.0\n",
      "2        3  113228  15602.0\n",
      "3        4  114885  31357.0\n",
      "4        5  113041  11862.0\n"
     ]
    }
   ],
   "source": [
    "import pandas as pd\n",
    "import matplotlib.pyplot as plt\n",
    "import seaborn as sns\n",
    "\n",
    "# Reading the different datasets into pandas DataFrames\n",
    "tags_df = pd.read_csv('tags.csv')\n",
    "movies_df = pd.read_csv('movies.csv')\n",
    "ratings_df = pd.read_csv('ratings.csv')\n",
    "links_df = pd.read_csv('links.csv')\n",
    "\n",
    "# Displaying the first few rows of each DataFrame to confirm successful loading\n",
    "print(\"Tags DataFrame:\")\n",
    "print(tags_df.head())\n",
    "\n",
    "print(\"\\nMovies DataFrame:\")\n",
    "print(movies_df.head())\n",
    "\n",
    "print(\"\\nRatings DataFrame:\")\n",
    "print(ratings_df.head())\n",
    "\n",
    "print(\"\\nLinks DataFrame:\")\n",
    "print(links_df.head())\n"
   ]
  },
  {
   "cell_type": "code",
   "execution_count": 2,
   "id": "30784254",
   "metadata": {},
   "outputs": [
    {
     "name": "stdout",
     "output_type": "stream",
     "text": [
      "3683\n"
     ]
    }
   ],
   "source": [
    "value_counts = tags_df['tag'].count()\n",
    "print(value_counts)\n"
   ]
  },
  {
   "cell_type": "markdown",
   "id": "e0aaf31d-399f-43ca-9867-289949b8838a",
   "metadata": {},
   "source": [
    "### **Inspect and Handle Missing Values**\n",
    "\n",
    "    Check for Missing Values: We will determine if there are any missing values in the DataFrames."
   ]
  },
  {
   "cell_type": "code",
   "execution_count": 3,
   "id": "e9fbbc2d-ddce-4dee-b562-e61d1679e2fb",
   "metadata": {},
   "outputs": [
    {
     "name": "stdout",
     "output_type": "stream",
     "text": [
      "Missing values in tags_df:\n",
      "userId       0\n",
      "movieId      0\n",
      "tag          0\n",
      "timestamp    0\n",
      "dtype: int64\n",
      "\n",
      "Missing values in movies_df:\n",
      "movieId    0\n",
      "title      0\n",
      "genres     0\n",
      "dtype: int64\n",
      "\n",
      "Missing values in ratings_df:\n",
      "userId       0\n",
      "movieId      0\n",
      "rating       0\n",
      "timestamp    0\n",
      "dtype: int64\n",
      "\n",
      "Missing values in links_df:\n",
      "movieId    0\n",
      "imdbId     0\n",
      "tmdbId     8\n",
      "dtype: int64\n"
     ]
    }
   ],
   "source": [
    "print(\"Missing values in tags_df:\")\n",
    "print(tags_df.isnull().sum())\n",
    "\n",
    "print(\"\\nMissing values in movies_df:\")\n",
    "print(movies_df.isnull().sum())\n",
    "\n",
    "print(\"\\nMissing values in ratings_df:\")\n",
    "print(ratings_df.isnull().sum())\n",
    "\n",
    "print(\"\\nMissing values in links_df:\")\n",
    "print(links_df.isnull().sum())\n"
   ]
  },
  {
   "cell_type": "markdown",
   "id": "d95d9e7c-0698-4b74-ac0f-29132fffc3a5",
   "metadata": {},
   "source": [
    "### **Review Missing Data:**\n",
    "\n",
    "**Implications of Missing tmdbId Values:**\n",
    "\n",
    "1. **Data Integrity:** The missing tmdbId values mean that there are some records where the unique identifier for movies is absent. This can lead to incomplete information when attempting to link or fetch movie details.\n",
    "\n",
    "2. **Potential Issues in Analysis:** If we need to perform operations like merging with other datasets that use tmdbId, these records will not match and may result in missing data or errors in your analysis.\n",
    "\n",
    "3. **Impact on Model Training:** For machine learning models or recommendations, missing identifiers can lead to incomplete data for feature engineering, which can affect model performance and accuracy.\n",
    "\n",
    "**Steps Taken to Handle Missing Values:**\n",
    "\n",
    "1. Identified Missing Records:\n",
    "2. Dropping Rows with Missing tmdbId"
   ]
  },
  {
   "cell_type": "code",
   "execution_count": 4,
   "id": "9046611b-8d91-4dab-9cea-359fe81e4367",
   "metadata": {},
   "outputs": [
    {
     "name": "stdout",
     "output_type": "stream",
     "text": [
      "\n",
      "Records with missing tmdbId:\n",
      "      movieId  imdbId  tmdbId\n",
      "624       791  113610     NaN\n",
      "843      1107  102336     NaN\n",
      "2141     2851   81454     NaN\n",
      "3027     4051   56600     NaN\n",
      "5532    26587   92337     NaN\n",
      "5854    32600  377059     NaN\n",
      "6059    40697  105946     NaN\n",
      "7382    79299  874957     NaN\n"
     ]
    }
   ],
   "source": [
    "missing_tmdb_ids = links_df[links_df['tmdbId'].isnull()]\n",
    "print(\"\\nRecords with missing tmdbId:\")\n",
    "print(missing_tmdb_ids)\n"
   ]
  },
  {
   "cell_type": "code",
   "execution_count": 5,
   "id": "5b6e06ca-af0a-420c-835a-2ad976c74168",
   "metadata": {},
   "outputs": [
    {
     "name": "stdout",
     "output_type": "stream",
     "text": [
      "\n",
      "Missing values in tags_df:\n",
      "userId       0\n",
      "movieId      0\n",
      "tag          0\n",
      "timestamp    0\n",
      "dtype: int64\n",
      "\n",
      "Missing values in movies_df:\n",
      "movieId    0\n",
      "title      0\n",
      "genres     0\n",
      "dtype: int64\n",
      "\n",
      "Missing values in ratings_df:\n",
      "userId       0\n",
      "movieId      0\n",
      "rating       0\n",
      "timestamp    0\n",
      "dtype: int64\n",
      "\n",
      "Missing values in links_df:\n",
      "movieId    0\n",
      "imdbId     0\n",
      "tmdbId     8\n",
      "dtype: int64\n"
     ]
    }
   ],
   "source": [
    "# Check for any remaining missing values in all DataFrames\n",
    "print(\"\\nMissing values in tags_df:\")\n",
    "print(tags_df.isnull().sum())\n",
    "\n",
    "print(\"\\nMissing values in movies_df:\")\n",
    "print(movies_df.isnull().sum())\n",
    "\n",
    "print(\"\\nMissing values in ratings_df:\")\n",
    "print(ratings_df.isnull().sum())\n",
    "\n",
    "print(\"\\nMissing values in links_df:\")\n",
    "print(links_df.isnull().sum())\n"
   ]
  },
  {
   "cell_type": "code",
   "execution_count": 6,
   "id": "8c28ebf4-f274-4e0a-a437-50e761066e63",
   "metadata": {},
   "outputs": [
    {
     "name": "stdout",
     "output_type": "stream",
     "text": [
      "\n",
      "Duplicates in tags_df:\n",
      "0\n",
      "\n",
      "Duplicates in movies_df:\n",
      "0\n",
      "\n",
      "Duplicates in ratings_df:\n",
      "0\n",
      "\n",
      "Duplicates in links_df:\n",
      "0\n"
     ]
    }
   ],
   "source": [
    "# Check for duplicates in all DataFrames\n",
    "print(\"\\nDuplicates in tags_df:\")\n",
    "print(tags_df.duplicated().sum())\n",
    "\n",
    "print(\"\\nDuplicates in movies_df:\")\n",
    "print(movies_df.duplicated().sum())\n",
    "\n",
    "print(\"\\nDuplicates in ratings_df:\")\n",
    "print(ratings_df.duplicated().sum())\n",
    "\n",
    "print(\"\\nDuplicates in links_df:\")\n",
    "print(links_df.duplicated().sum())\n",
    "\n",
    "# Remove duplicates if found\n",
    "tags_df.drop_duplicates(inplace=True)\n",
    "movies_df.drop_duplicates(inplace=True)\n",
    "ratings_df.drop_duplicates(inplace=True)\n",
    "links_df.drop_duplicates(inplace=True)\n"
   ]
  },
  {
   "cell_type": "code",
   "execution_count": 7,
   "id": "6feac652-d667-45dc-8479-d4f86f1b4c94",
   "metadata": {},
   "outputs": [
    {
     "name": "stdout",
     "output_type": "stream",
     "text": [
      "\n",
      "Data types in tags_df:\n",
      "userId        int64\n",
      "movieId       int64\n",
      "tag          object\n",
      "timestamp     int64\n",
      "dtype: object\n",
      "\n",
      "Data types in movies_df:\n",
      "movieId     int64\n",
      "title      object\n",
      "genres     object\n",
      "dtype: object\n",
      "\n",
      "Data types in ratings_df:\n",
      "userId         int64\n",
      "movieId        int64\n",
      "rating       float64\n",
      "timestamp      int64\n",
      "dtype: object\n",
      "\n",
      "Data types in links_df:\n",
      "movieId      int64\n",
      "imdbId       int64\n",
      "tmdbId     float64\n",
      "dtype: object\n"
     ]
    }
   ],
   "source": [
    "#Check and Fix Data Types: Ensure columns have the correct data types\n",
    "print(\"\\nData types in tags_df:\")\n",
    "print(tags_df.dtypes)\n",
    "\n",
    "print(\"\\nData types in movies_df:\")\n",
    "print(movies_df.dtypes)\n",
    "\n",
    "print(\"\\nData types in ratings_df:\")\n",
    "print(ratings_df.dtypes)\n",
    "\n",
    "print(\"\\nData types in links_df:\")\n",
    "print(links_df.dtypes)\n",
    "\n"
   ]
  },
  {
   "cell_type": "markdown",
   "id": "9ce51382-fd07-46de-92d8-900df6349f85",
   "metadata": {},
   "source": [
    "**Convert timestamp into datetime object**\n",
    "\n",
    "Purpose: Converts timestamps from Unix epoch time (seconds since 1970-01-01) to datetime objects.\n",
    "\n",
    "Parameter unit='s': Specifies that the timestamps are in seconds. If your timestamps are in milliseconds, you would use unit='ms'.\n",
    "\n",
    "The function below is designed to convert timestamp values into datetime objects, which is useful for time-based analysis."
   ]
  },
  {
   "cell_type": "code",
   "execution_count": 8,
   "id": "0c42c9c0-139d-4ab5-aaf0-365d7972c3a7",
   "metadata": {},
   "outputs": [],
   "source": [
    "import pandas as pd\n",
    "\n",
    "# Convert timestamps to datetime\n",
    "tags_df['timestamp'] = pd.to_datetime(tags_df['timestamp'], unit='s')\n",
    "ratings_df['timestamp'] = pd.to_datetime(ratings_df['timestamp'], unit='s')\n",
    "\n"
   ]
  },
  {
   "cell_type": "markdown",
   "id": "bb0f0518-5458-4ec9-aeb3-279c38801bb9",
   "metadata": {},
   "source": [
    "**Expand genres Column**\n",
    "\n",
    "We shall expand the genres column in movies_df into separate binary columns:"
   ]
  },
  {
   "cell_type": "code",
   "execution_count": 9,
   "id": "11b8b998-fe91-4ce0-ba27-efb09dc0a5a6",
   "metadata": {},
   "outputs": [
    {
     "name": "stdout",
     "output_type": "stream",
     "text": [
      "Movies DataFrame with expanded genres:\n",
      "   movieId                               title  \\\n",
      "0        1                    Toy Story (1995)   \n",
      "1        2                      Jumanji (1995)   \n",
      "2        3             Grumpier Old Men (1995)   \n",
      "3        4            Waiting to Exhale (1995)   \n",
      "4        5  Father of the Bride Part II (1995)   \n",
      "\n",
      "                                        genres  (no genres listed)  Action  \\\n",
      "0  Adventure|Animation|Children|Comedy|Fantasy                   0       0   \n",
      "1                   Adventure|Children|Fantasy                   0       0   \n",
      "2                               Comedy|Romance                   0       0   \n",
      "3                         Comedy|Drama|Romance                   0       0   \n",
      "4                                       Comedy                   0       0   \n",
      "\n",
      "   Adventure  Animation  Children  Comedy  Crime  ...  Film-Noir  Horror  \\\n",
      "0          1          1         1       1      0  ...          0       0   \n",
      "1          1          0         1       0      0  ...          0       0   \n",
      "2          0          0         0       1      0  ...          0       0   \n",
      "3          0          0         0       1      0  ...          0       0   \n",
      "4          0          0         0       1      0  ...          0       0   \n",
      "\n",
      "   IMAX  Musical  Mystery  Romance  Sci-Fi  Thriller  War  Western  \n",
      "0     0        0        0        0       0         0    0        0  \n",
      "1     0        0        0        0       0         0    0        0  \n",
      "2     0        0        0        1       0         0    0        0  \n",
      "3     0        0        0        1       0         0    0        0  \n",
      "4     0        0        0        0       0         0    0        0  \n",
      "\n",
      "[5 rows x 23 columns]\n"
     ]
    }
   ],
   "source": [
    "# Split genres into separate columns\n",
    "genres_expanded = movies_df['genres'].str.get_dummies(sep='|')\n",
    "\n",
    "# Concatenate the expanded genres columns with the original DataFrame\n",
    "movies_df = pd.concat([movies_df, genres_expanded], axis=1)\n",
    "\n",
    "print(\"Movies DataFrame with expanded genres:\")\n",
    "print(movies_df.head())\n",
    "\n"
   ]
  },
  {
   "cell_type": "markdown",
   "id": "110471d5-a734-492f-9505-ee14e963e037",
   "metadata": {},
   "source": [
    "**Join DataFrames**\n",
    "\n",
    "We shall now join movies_df with tags_df and ratings_df, and include links_df:"
   ]
  },
  {
   "cell_type": "code",
   "execution_count": 10,
   "id": "0c83ef00-5425-4e14-8afd-b5222cf8140d",
   "metadata": {},
   "outputs": [
    {
     "name": "stdout",
     "output_type": "stream",
     "text": [
      "\n",
      "Movies and Tags DataFrame:\n",
      "   movieId             title                                       genres  \\\n",
      "0        1  Toy Story (1995)  Adventure|Animation|Children|Comedy|Fantasy   \n",
      "1        1  Toy Story (1995)  Adventure|Animation|Children|Comedy|Fantasy   \n",
      "2        1  Toy Story (1995)  Adventure|Animation|Children|Comedy|Fantasy   \n",
      "3        2    Jumanji (1995)                   Adventure|Children|Fantasy   \n",
      "4        2    Jumanji (1995)                   Adventure|Children|Fantasy   \n",
      "\n",
      "   (no genres listed)  Action  Adventure  Animation  Children  Comedy  Crime  \\\n",
      "0                   0       0          1          1         1       1      0   \n",
      "1                   0       0          1          1         1       1      0   \n",
      "2                   0       0          1          1         1       1      0   \n",
      "3                   0       0          1          0         1       0      0   \n",
      "4                   0       0          1          0         1       0      0   \n",
      "\n",
      "   ...  Musical  Mystery  Romance  Sci-Fi  Thriller  War  Western  userId  \\\n",
      "0  ...        0        0        0       0         0    0        0   336.0   \n",
      "1  ...        0        0        0       0         0    0        0   474.0   \n",
      "2  ...        0        0        0       0         0    0        0   567.0   \n",
      "3  ...        0        0        0       0         0    0        0    62.0   \n",
      "4  ...        0        0        0       0         0    0        0    62.0   \n",
      "\n",
      "                tag           timestamp  \n",
      "0             pixar 2006-02-04 09:36:04  \n",
      "1             pixar 2006-01-14 02:47:05  \n",
      "2               fun 2018-05-02 18:33:33  \n",
      "3           fantasy 2018-06-12 22:52:09  \n",
      "4  magic board game 2018-06-12 22:52:12  \n",
      "\n",
      "[5 rows x 26 columns]\n",
      "\n",
      "Movies and Ratings DataFrame:\n",
      "   movieId             title                                       genres  \\\n",
      "0        1  Toy Story (1995)  Adventure|Animation|Children|Comedy|Fantasy   \n",
      "1        1  Toy Story (1995)  Adventure|Animation|Children|Comedy|Fantasy   \n",
      "2        1  Toy Story (1995)  Adventure|Animation|Children|Comedy|Fantasy   \n",
      "3        1  Toy Story (1995)  Adventure|Animation|Children|Comedy|Fantasy   \n",
      "4        1  Toy Story (1995)  Adventure|Animation|Children|Comedy|Fantasy   \n",
      "\n",
      "   (no genres listed)  Action  Adventure  Animation  Children  Comedy  Crime  \\\n",
      "0                   0       0          1          1         1       1      0   \n",
      "1                   0       0          1          1         1       1      0   \n",
      "2                   0       0          1          1         1       1      0   \n",
      "3                   0       0          1          1         1       1      0   \n",
      "4                   0       0          1          1         1       1      0   \n",
      "\n",
      "   ...  Musical  Mystery  Romance  Sci-Fi  Thriller  War  Western  userId  \\\n",
      "0  ...        0        0        0       0         0    0        0     1.0   \n",
      "1  ...        0        0        0       0         0    0        0     5.0   \n",
      "2  ...        0        0        0       0         0    0        0     7.0   \n",
      "3  ...        0        0        0       0         0    0        0    15.0   \n",
      "4  ...        0        0        0       0         0    0        0    17.0   \n",
      "\n",
      "   rating           timestamp  \n",
      "0     4.0 2000-07-30 18:45:03  \n",
      "1     4.0 1996-11-08 06:36:02  \n",
      "2     4.5 2005-01-25 06:52:26  \n",
      "3     2.5 2017-11-13 12:59:30  \n",
      "4     4.5 2011-05-18 05:28:03  \n",
      "\n",
      "[5 rows x 26 columns]\n",
      "\n",
      "Movies and Links DataFrame:\n",
      "   movieId                               title  \\\n",
      "0        1                    Toy Story (1995)   \n",
      "1        2                      Jumanji (1995)   \n",
      "2        3             Grumpier Old Men (1995)   \n",
      "3        4            Waiting to Exhale (1995)   \n",
      "4        5  Father of the Bride Part II (1995)   \n",
      "\n",
      "                                        genres  (no genres listed)  Action  \\\n",
      "0  Adventure|Animation|Children|Comedy|Fantasy                   0       0   \n",
      "1                   Adventure|Children|Fantasy                   0       0   \n",
      "2                               Comedy|Romance                   0       0   \n",
      "3                         Comedy|Drama|Romance                   0       0   \n",
      "4                                       Comedy                   0       0   \n",
      "\n",
      "   Adventure  Animation  Children  Comedy  Crime  ...  IMAX  Musical  Mystery  \\\n",
      "0          1          1         1       1      0  ...     0        0        0   \n",
      "1          1          0         1       0      0  ...     0        0        0   \n",
      "2          0          0         0       1      0  ...     0        0        0   \n",
      "3          0          0         0       1      0  ...     0        0        0   \n",
      "4          0          0         0       1      0  ...     0        0        0   \n",
      "\n",
      "   Romance  Sci-Fi  Thriller  War  Western  imdbId   tmdbId  \n",
      "0        0       0         0    0        0  114709    862.0  \n",
      "1        0       0         0    0        0  113497   8844.0  \n",
      "2        1       0         0    0        0  113228  15602.0  \n",
      "3        1       0         0    0        0  114885  31357.0  \n",
      "4        0       0         0    0        0  113041  11862.0  \n",
      "\n",
      "[5 rows x 25 columns]\n"
     ]
    }
   ],
   "source": [
    "# Join movies_df with tags_df on 'movieId'\n",
    "movies_tags_df = pd.merge(movies_df, tags_df, on='movieId', how='left')\n",
    "\n",
    "# Join movies_df with ratings_df on 'movieId'\n",
    "movies_ratings_df = pd.merge(movies_df, ratings_df, on='movieId', how='left')\n",
    "\n",
    "# Join movies_df with links_df on 'movieId'\n",
    "movies_links_df = pd.merge(movies_df, links_df, on='movieId', how='left')\n",
    "\n",
    "# Print shapes and sample data for verification\n",
    "print(\"\\nMovies and Tags DataFrame:\")\n",
    "print(movies_tags_df.head())\n",
    "print(\"\\nMovies and Ratings DataFrame:\")\n",
    "print(movies_ratings_df.head())\n",
    "print(\"\\nMovies and Links DataFrame:\")\n",
    "print(movies_links_df.head())\n"
   ]
  },
  {
   "cell_type": "markdown",
   "id": "f55c3bc8-f98e-4553-93eb-0c91d94c0238",
   "metadata": {},
   "source": [
    "Handle Missing Values after merging\n",
    "\n",
    "After merging, there might be missing values if the joined DataFrames had entries not present in movies_df. You might want to handle these, especially for tmdbId in links_df"
   ]
  },
  {
   "cell_type": "code",
   "execution_count": 11,
   "id": "ec67da0e-2874-4b7a-b31b-46e2f581edfe",
   "metadata": {},
   "outputs": [
    {
     "name": "stdout",
     "output_type": "stream",
     "text": [
      "Missing values in Movies and Links DataFrame:\n",
      "movieId               0\n",
      "title                 0\n",
      "genres                0\n",
      "(no genres listed)    0\n",
      "Action                0\n",
      "Adventure             0\n",
      "Animation             0\n",
      "Children              0\n",
      "Comedy                0\n",
      "Crime                 0\n",
      "Documentary           0\n",
      "Drama                 0\n",
      "Fantasy               0\n",
      "Film-Noir             0\n",
      "Horror                0\n",
      "IMAX                  0\n",
      "Musical               0\n",
      "Mystery               0\n",
      "Romance               0\n",
      "Sci-Fi                0\n",
      "Thriller              0\n",
      "War                   0\n",
      "Western               0\n",
      "imdbId                0\n",
      "tmdbId                8\n",
      "dtype: int64\n"
     ]
    }
   ],
   "source": [
    "# Check for missing values\n",
    "print(\"Missing values in Movies and Links DataFrame:\")\n",
    "print(movies_links_df.isnull().sum())\n",
    "\n",
    "# Handle missing values as needed (e.g., fill with default value or drop)\n",
    "# Example: Drop rows where 'tmdbId' is missing\n",
    "movies_links_df.dropna(subset=['tmdbId'], inplace=True)\n"
   ]
  },
  {
   "cell_type": "code",
   "execution_count": 12,
   "id": "5b5e62c1-5bad-4f4f-9b50-94e54184a494",
   "metadata": {},
   "outputs": [
    {
     "name": "stdout",
     "output_type": "stream",
     "text": [
      "Missing values in Movies and Links DataFrame:\n",
      "movieId               0\n",
      "title                 0\n",
      "genres                0\n",
      "(no genres listed)    0\n",
      "Action                0\n",
      "Adventure             0\n",
      "Animation             0\n",
      "Children              0\n",
      "Comedy                0\n",
      "Crime                 0\n",
      "Documentary           0\n",
      "Drama                 0\n",
      "Fantasy               0\n",
      "Film-Noir             0\n",
      "Horror                0\n",
      "IMAX                  0\n",
      "Musical               0\n",
      "Mystery               0\n",
      "Romance               0\n",
      "Sci-Fi                0\n",
      "Thriller              0\n",
      "War                   0\n",
      "Western               0\n",
      "imdbId                0\n",
      "tmdbId                0\n",
      "dtype: int64\n"
     ]
    }
   ],
   "source": [
    "# Check for missing values\n",
    "print(\"Missing values in Movies and Links DataFrame:\")\n",
    "print(movies_links_df.isnull().sum())\n",
    "\n",
    "# Handle missing values as needed (e.g., fill with default value or drop)\n",
    "# Example: Drop rows where 'tmdbId' is missing\n",
    "movies_links_df.dropna(subset=['tmdbId'], inplace=True)\n"
   ]
  },
  {
   "cell_type": "code",
   "execution_count": 13,
   "id": "acb1b5cf-1ff6-4547-8a93-9165e86d8ecc",
   "metadata": {},
   "outputs": [
    {
     "name": "stdout",
     "output_type": "stream",
     "text": [
      "Duplicate columns:\n",
      "Index([], dtype='object')\n"
     ]
    }
   ],
   "source": [
    "# Check for duplicate column names\n",
    "print(\"Duplicate columns:\")\n",
    "print(movies_links_df.columns[movies_links_df.columns.duplicated()])\n"
   ]
  },
  {
   "cell_type": "code",
   "execution_count": 14,
   "id": "a9422f38-98c2-4e70-b5c0-71cbe8872e7a",
   "metadata": {},
   "outputs": [
    {
     "name": "stdout",
     "output_type": "stream",
     "text": [
      "Columns after removing duplicates:\n",
      "Index(['movieId', 'title', 'genres', '(no genres listed)', 'Action',\n",
      "       'Adventure', 'Animation', 'Children', 'Comedy', 'Crime', 'Documentary',\n",
      "       'Drama', 'Fantasy', 'Film-Noir', 'Horror', 'IMAX', 'Musical', 'Mystery',\n",
      "       'Romance', 'Sci-Fi', 'Thriller', 'War', 'Western', 'imdbId', 'tmdbId'],\n",
      "      dtype='object')\n",
      "\n",
      "Sample data from cleaned DataFrame:\n",
      "   movieId                               title  \\\n",
      "0        1                    Toy Story (1995)   \n",
      "1        2                      Jumanji (1995)   \n",
      "2        3             Grumpier Old Men (1995)   \n",
      "3        4            Waiting to Exhale (1995)   \n",
      "4        5  Father of the Bride Part II (1995)   \n",
      "\n",
      "                                        genres  (no genres listed)  Action  \\\n",
      "0  Adventure|Animation|Children|Comedy|Fantasy                   0       0   \n",
      "1                   Adventure|Children|Fantasy                   0       0   \n",
      "2                               Comedy|Romance                   0       0   \n",
      "3                         Comedy|Drama|Romance                   0       0   \n",
      "4                                       Comedy                   0       0   \n",
      "\n",
      "   Adventure  Animation  Children  Comedy  Crime  ...  IMAX  Musical  Mystery  \\\n",
      "0          1          1         1       1      0  ...     0        0        0   \n",
      "1          1          0         1       0      0  ...     0        0        0   \n",
      "2          0          0         0       1      0  ...     0        0        0   \n",
      "3          0          0         0       1      0  ...     0        0        0   \n",
      "4          0          0         0       1      0  ...     0        0        0   \n",
      "\n",
      "   Romance  Sci-Fi  Thriller  War  Western  imdbId   tmdbId  \n",
      "0        0       0         0    0        0  114709    862.0  \n",
      "1        0       0         0    0        0  113497   8844.0  \n",
      "2        1       0         0    0        0  113228  15602.0  \n",
      "3        1       0         0    0        0  114885  31357.0  \n",
      "4        0       0         0    0        0  113041  11862.0  \n",
      "\n",
      "[5 rows x 25 columns]\n"
     ]
    }
   ],
   "source": [
    "import pandas as pd\n",
    "\n",
    "# Remove duplicate genre columns\n",
    "# Find duplicated columns\n",
    "duplicate_columns = movies_links_df.columns[movies_links_df.columns.duplicated()]\n",
    "\n",
    "# Drop duplicated columns\n",
    "movies_links_df = movies_links_df.loc[:, ~movies_links_df.columns.duplicated()]\n",
    "\n",
    "# Verify the DataFrame\n",
    "print(\"Columns after removing duplicates:\")\n",
    "print(movies_links_df.columns)\n",
    "print(\"\\nSample data from cleaned DataFrame:\")\n",
    "print(movies_links_df.head())\n"
   ]
  },
  {
   "cell_type": "code",
   "execution_count": 15,
   "id": "63fc761c-49f9-4790-af3e-2c6357abcf40",
   "metadata": {},
   "outputs": [
    {
     "name": "stdout",
     "output_type": "stream",
     "text": [
      "Final shape of DataFrame: (9734, 25)\n"
     ]
    }
   ],
   "source": [
    "print(\"Final shape of DataFrame:\", movies_links_df.shape)\n"
   ]
  },
  {
   "cell_type": "code",
   "execution_count": 16,
   "id": "aef13925-e158-4279-a962-735e0c6c5868",
   "metadata": {},
   "outputs": [
    {
     "name": "stdout",
     "output_type": "stream",
     "text": [
      "Columns after removing duplicates:\n",
      "Index(['movieId', 'title', 'genres', '(no genres listed)', 'Action',\n",
      "       'Adventure', 'Animation', 'Children', 'Comedy', 'Crime', 'Documentary',\n",
      "       'Drama', 'Fantasy', 'Film-Noir', 'Horror', 'IMAX', 'Musical', 'Mystery',\n",
      "       'Romance', 'Sci-Fi', 'Thriller', 'War', 'Western', 'imdbId', 'tmdbId'],\n",
      "      dtype='object')\n"
     ]
    }
   ],
   "source": [
    "print(\"Columns after removing duplicates:\")\n",
    "print(movies_links_df.columns)\n"
   ]
  },
  {
   "cell_type": "code",
   "execution_count": 17,
   "id": "0948e7e4-6eb1-43c0-8f8c-b5fe0cf31dfd",
   "metadata": {},
   "outputs": [
    {
     "name": "stdout",
     "output_type": "stream",
     "text": [
      "Final shape of DataFrame: (9734, 25)\n",
      "Sample data from cleaned DataFrame:\n"
     ]
    },
    {
     "data": {
      "text/html": [
       "<div>\n",
       "<style scoped>\n",
       "    .dataframe tbody tr th:only-of-type {\n",
       "        vertical-align: middle;\n",
       "    }\n",
       "\n",
       "    .dataframe tbody tr th {\n",
       "        vertical-align: top;\n",
       "    }\n",
       "\n",
       "    .dataframe thead th {\n",
       "        text-align: right;\n",
       "    }\n",
       "</style>\n",
       "<table border=\"1\" class=\"dataframe\">\n",
       "  <thead>\n",
       "    <tr style=\"text-align: right;\">\n",
       "      <th></th>\n",
       "      <th>movieId</th>\n",
       "      <th>title</th>\n",
       "      <th>genres</th>\n",
       "      <th>(no genres listed)</th>\n",
       "      <th>Action</th>\n",
       "      <th>Adventure</th>\n",
       "      <th>Animation</th>\n",
       "      <th>Children</th>\n",
       "      <th>Comedy</th>\n",
       "      <th>Crime</th>\n",
       "      <th>...</th>\n",
       "      <th>IMAX</th>\n",
       "      <th>Musical</th>\n",
       "      <th>Mystery</th>\n",
       "      <th>Romance</th>\n",
       "      <th>Sci-Fi</th>\n",
       "      <th>Thriller</th>\n",
       "      <th>War</th>\n",
       "      <th>Western</th>\n",
       "      <th>imdbId</th>\n",
       "      <th>tmdbId</th>\n",
       "    </tr>\n",
       "  </thead>\n",
       "  <tbody>\n",
       "    <tr>\n",
       "      <th>0</th>\n",
       "      <td>1</td>\n",
       "      <td>Toy Story (1995)</td>\n",
       "      <td>Adventure|Animation|Children|Comedy|Fantasy</td>\n",
       "      <td>0</td>\n",
       "      <td>0</td>\n",
       "      <td>1</td>\n",
       "      <td>1</td>\n",
       "      <td>1</td>\n",
       "      <td>1</td>\n",
       "      <td>0</td>\n",
       "      <td>...</td>\n",
       "      <td>0</td>\n",
       "      <td>0</td>\n",
       "      <td>0</td>\n",
       "      <td>0</td>\n",
       "      <td>0</td>\n",
       "      <td>0</td>\n",
       "      <td>0</td>\n",
       "      <td>0</td>\n",
       "      <td>114709</td>\n",
       "      <td>862.0</td>\n",
       "    </tr>\n",
       "    <tr>\n",
       "      <th>1</th>\n",
       "      <td>2</td>\n",
       "      <td>Jumanji (1995)</td>\n",
       "      <td>Adventure|Children|Fantasy</td>\n",
       "      <td>0</td>\n",
       "      <td>0</td>\n",
       "      <td>1</td>\n",
       "      <td>0</td>\n",
       "      <td>1</td>\n",
       "      <td>0</td>\n",
       "      <td>0</td>\n",
       "      <td>...</td>\n",
       "      <td>0</td>\n",
       "      <td>0</td>\n",
       "      <td>0</td>\n",
       "      <td>0</td>\n",
       "      <td>0</td>\n",
       "      <td>0</td>\n",
       "      <td>0</td>\n",
       "      <td>0</td>\n",
       "      <td>113497</td>\n",
       "      <td>8844.0</td>\n",
       "    </tr>\n",
       "    <tr>\n",
       "      <th>2</th>\n",
       "      <td>3</td>\n",
       "      <td>Grumpier Old Men (1995)</td>\n",
       "      <td>Comedy|Romance</td>\n",
       "      <td>0</td>\n",
       "      <td>0</td>\n",
       "      <td>0</td>\n",
       "      <td>0</td>\n",
       "      <td>0</td>\n",
       "      <td>1</td>\n",
       "      <td>0</td>\n",
       "      <td>...</td>\n",
       "      <td>0</td>\n",
       "      <td>0</td>\n",
       "      <td>0</td>\n",
       "      <td>1</td>\n",
       "      <td>0</td>\n",
       "      <td>0</td>\n",
       "      <td>0</td>\n",
       "      <td>0</td>\n",
       "      <td>113228</td>\n",
       "      <td>15602.0</td>\n",
       "    </tr>\n",
       "    <tr>\n",
       "      <th>3</th>\n",
       "      <td>4</td>\n",
       "      <td>Waiting to Exhale (1995)</td>\n",
       "      <td>Comedy|Drama|Romance</td>\n",
       "      <td>0</td>\n",
       "      <td>0</td>\n",
       "      <td>0</td>\n",
       "      <td>0</td>\n",
       "      <td>0</td>\n",
       "      <td>1</td>\n",
       "      <td>0</td>\n",
       "      <td>...</td>\n",
       "      <td>0</td>\n",
       "      <td>0</td>\n",
       "      <td>0</td>\n",
       "      <td>1</td>\n",
       "      <td>0</td>\n",
       "      <td>0</td>\n",
       "      <td>0</td>\n",
       "      <td>0</td>\n",
       "      <td>114885</td>\n",
       "      <td>31357.0</td>\n",
       "    </tr>\n",
       "    <tr>\n",
       "      <th>4</th>\n",
       "      <td>5</td>\n",
       "      <td>Father of the Bride Part II (1995)</td>\n",
       "      <td>Comedy</td>\n",
       "      <td>0</td>\n",
       "      <td>0</td>\n",
       "      <td>0</td>\n",
       "      <td>0</td>\n",
       "      <td>0</td>\n",
       "      <td>1</td>\n",
       "      <td>0</td>\n",
       "      <td>...</td>\n",
       "      <td>0</td>\n",
       "      <td>0</td>\n",
       "      <td>0</td>\n",
       "      <td>0</td>\n",
       "      <td>0</td>\n",
       "      <td>0</td>\n",
       "      <td>0</td>\n",
       "      <td>0</td>\n",
       "      <td>113041</td>\n",
       "      <td>11862.0</td>\n",
       "    </tr>\n",
       "  </tbody>\n",
       "</table>\n",
       "<p>5 rows × 25 columns</p>\n",
       "</div>"
      ],
      "text/plain": [
       "   movieId                               title  \\\n",
       "0        1                    Toy Story (1995)   \n",
       "1        2                      Jumanji (1995)   \n",
       "2        3             Grumpier Old Men (1995)   \n",
       "3        4            Waiting to Exhale (1995)   \n",
       "4        5  Father of the Bride Part II (1995)   \n",
       "\n",
       "                                        genres  (no genres listed)  Action  \\\n",
       "0  Adventure|Animation|Children|Comedy|Fantasy                   0       0   \n",
       "1                   Adventure|Children|Fantasy                   0       0   \n",
       "2                               Comedy|Romance                   0       0   \n",
       "3                         Comedy|Drama|Romance                   0       0   \n",
       "4                                       Comedy                   0       0   \n",
       "\n",
       "   Adventure  Animation  Children  Comedy  Crime  ...  IMAX  Musical  Mystery  \\\n",
       "0          1          1         1       1      0  ...     0        0        0   \n",
       "1          1          0         1       0      0  ...     0        0        0   \n",
       "2          0          0         0       1      0  ...     0        0        0   \n",
       "3          0          0         0       1      0  ...     0        0        0   \n",
       "4          0          0         0       1      0  ...     0        0        0   \n",
       "\n",
       "   Romance  Sci-Fi  Thriller  War  Western  imdbId   tmdbId  \n",
       "0        0       0         0    0        0  114709    862.0  \n",
       "1        0       0         0    0        0  113497   8844.0  \n",
       "2        1       0         0    0        0  113228  15602.0  \n",
       "3        1       0         0    0        0  114885  31357.0  \n",
       "4        0       0         0    0        0  113041  11862.0  \n",
       "\n",
       "[5 rows x 25 columns]"
      ]
     },
     "execution_count": 17,
     "metadata": {},
     "output_type": "execute_result"
    }
   ],
   "source": [
    "print(\"Final shape of DataFrame:\", movies_links_df.shape)\n",
    "print(\"Sample data from cleaned DataFrame:\")\n",
    "movies_links_df.head()\n"
   ]
  },
  {
   "cell_type": "code",
   "execution_count": 18,
   "id": "5e2d1c0e",
   "metadata": {},
   "outputs": [
    {
     "data": {
      "text/plain": [
       "movieId                 int64\n",
       "title                  object\n",
       "genres                 object\n",
       "(no genres listed)      int64\n",
       "Action                  int64\n",
       "Adventure               int64\n",
       "Animation               int64\n",
       "Children                int64\n",
       "Comedy                  int64\n",
       "Crime                   int64\n",
       "Documentary             int64\n",
       "Drama                   int64\n",
       "Fantasy                 int64\n",
       "Film-Noir               int64\n",
       "Horror                  int64\n",
       "IMAX                    int64\n",
       "Musical                 int64\n",
       "Mystery                 int64\n",
       "Romance                 int64\n",
       "Sci-Fi                  int64\n",
       "Thriller                int64\n",
       "War                     int64\n",
       "Western                 int64\n",
       "imdbId                  int64\n",
       "tmdbId                float64\n",
       "dtype: object"
      ]
     },
     "execution_count": 18,
     "metadata": {},
     "output_type": "execute_result"
    }
   ],
   "source": [
    "movies_links_df.dtypes"
   ]
  },
  {
   "cell_type": "markdown",
   "id": "7c9aeb89",
   "metadata": {},
   "source": [
    "### **Exploratory Data Analysis (EDA):**\n",
    "Conduct EDA to understand distributions and relationships in your data.\n",
    "\n",
    "\n",
    "**Handling Outliers**\n",
    "\n",
    "To gain deeper insights into our movie dataset, we can extend our analysis to consider outliers in the number of ratings each movie has received. By identifying movies that have an unusually high or low number of ratings, we can uncover patterns related to their popularity. This analysis helps us pinpoint movies that either stand out as exceptionally popular or are less frequently rated, providing valuable information for refining our recommendation system and enhancing user satisfaction.\n",
    "\n",
    "**Purpose of the Analysis:**\n",
    "to identify outliers in the number of ratings each movie has received. This helps understand which movies are unusually popular or less frequently rated."
   ]
  },
  {
   "cell_type": "markdown",
   "id": "fe717f6c",
   "metadata": {},
   "source": [
    "First we will check for outliers in the ratings of  the movies."
   ]
  },
  {
   "cell_type": "code",
   "execution_count": 19,
   "id": "f16b1d01",
   "metadata": {},
   "outputs": [
    {
     "data": {
      "image/png": "[encoded data removed]",
      "text/plain": [
       "<Figure size 800x600 with 1 Axes>"
      ]
     },
     "metadata": {},
     "output_type": "display_data"
    }
   ],
   "source": [
    "import seaborn as sns\n",
    "import matplotlib.pyplot as plt\n",
    "\n",
    "# Plotting box plot to check for outliers in ratings\n",
    "plt.figure(figsize=(8, 6))\n",
    "sns.boxplot(x='rating', data=ratings_df)\n",
    "plt.title('Box Plot of Movie Ratings')\n",
    "plt.xlabel('Rating')\n",
    "plt.show()"
   ]
  },
  {
   "cell_type": "markdown",
   "id": "587a62d0",
   "metadata": {},
   "source": [
    "This indicates the presence of outliers in our ratings dataset, specifically with ratings between 0 and 1.5. We will investigate this further by focusing on the ratings for a specific movie and examining the outliers in those ratings."
   ]
  },
  {
   "cell_type": "code",
   "execution_count": 20,
   "id": "8b796483",
   "metadata": {},
   "outputs": [
    {
     "name": "stdout",
     "output_type": "stream",
     "text": [
      "   movieId                               title  \\\n",
      "0        1                    Toy Story (1995)   \n",
      "1        2                      Jumanji (1995)   \n",
      "2        3             Grumpier Old Men (1995)   \n",
      "3        4            Waiting to Exhale (1995)   \n",
      "4        5  Father of the Bride Part II (1995)   \n",
      "\n",
      "                                        genres  (no genres listed)  Action  \\\n",
      "0  Adventure|Animation|Children|Comedy|Fantasy                   0       0   \n",
      "1                   Adventure|Children|Fantasy                   0       0   \n",
      "2                               Comedy|Romance                   0       0   \n",
      "3                         Comedy|Drama|Romance                   0       0   \n",
      "4                                       Comedy                   0       0   \n",
      "\n",
      "   Adventure  Animation  Children  Comedy  Crime  ...  Horror  IMAX  Musical  \\\n",
      "0          1          1         1       1      0  ...       0     0        0   \n",
      "1          1          0         1       0      0  ...       0     0        0   \n",
      "2          0          0         0       1      0  ...       0     0        0   \n",
      "3          0          0         0       1      0  ...       0     0        0   \n",
      "4          0          0         0       1      0  ...       0     0        0   \n",
      "\n",
      "   Mystery  Romance  Sci-Fi  Thriller  War  Western  rating_count  \n",
      "0        0        0       0         0    0        0           215  \n",
      "1        0        0       0         0    0        0           110  \n",
      "2        0        1       0         0    0        0            52  \n",
      "3        0        1       0         0    0        0             7  \n",
      "4        0        0       0         0    0        0            49  \n",
      "\n",
      "[5 rows x 24 columns]\n"
     ]
    }
   ],
   "source": [
    "# Calculate the number of ratings each movie has received\n",
    "movie_rating_counts = ratings_df['movieId'].value_counts().reset_index()\n",
    "movie_rating_counts.columns = ['movieId', 'rating_count']\n",
    "\n",
    "# Merge with movies_df to get movie titles\n",
    "movies_with_counts = pd.merge(movies_df, movie_rating_counts, on='movieId')\n",
    "\n",
    "# Display the first few rows\n",
    "print(movies_with_counts.head())"
   ]
  },
  {
   "cell_type": "code",
   "execution_count": 21,
   "id": "87d3cd5a",
   "metadata": {},
   "outputs": [
    {
     "name": "stdout",
     "output_type": "stream",
     "text": [
      "Number of outliers: 1179\n",
      "Number of non-outliers: 8545\n"
     ]
    }
   ],
   "source": [
    "# Calculate Q1 (25th percentile) and Q3 (75th percentile) for rating counts\n",
    "Q1 = movies_with_counts['rating_count'].quantile(0.25)\n",
    "Q3 = movies_with_counts['rating_count'].quantile(0.75)\n",
    "\n",
    "# Calculate IQR\n",
    "IQR = Q3 - Q1\n",
    "\n",
    "# Determine the bounds for outliers\n",
    "lower_bound = Q1 - 1.5 * IQR\n",
    "upper_bound = Q3 + 1.5 * IQR\n",
    "\n",
    "# Identify outliers\n",
    "outliers = movies_with_counts[(movies_with_counts['rating_count'] < lower_bound) | (movies_with_counts['rating_count'] > upper_bound)]\n",
    "non_outliers = movies_with_counts[(movies_with_counts['rating_count'] >= lower_bound) & (movies_with_counts['rating_count'] <= upper_bound)]\n",
    "\n",
    "# Count the number of outliers and non-outliers\n",
    "outlier_count = len(outliers)\n",
    "non_outlier_count = len(non_outliers)\n",
    "\n",
    "print(f\"Number of outliers: {outlier_count}\")\n",
    "print(f\"Number of non-outliers: {non_outlier_count}\")"
   ]
  },
  {
   "cell_type": "markdown",
   "id": "0ca9d363",
   "metadata": {},
   "source": [
    "This shows the presence of outliers in our movies_with_counts dataset."
   ]
  },
  {
   "cell_type": "markdown",
   "id": "6d4000f5",
   "metadata": {},
   "source": [
    "While the majority of movie ratings are within a normal range, there are a significant number of outliers, which are further illustrated in the bar graph."
   ]
  },
  {
   "cell_type": "code",
   "execution_count": 22,
   "id": "28553ad9",
   "metadata": {},
   "outputs": [
    {
     "data": {
      "image/png": "[encoded data removed]",
      "text/plain": [
       "<Figure size 1000x600 with 1 Axes>"
      ]
     },
     "metadata": {},
     "output_type": "display_data"
    }
   ],
   "source": [
    "# Data for the bar graph\n",
    "data = {'Category': ['Non-Outliers', 'Outliers'], 'Count': [non_outlier_count, outlier_count]}\n",
    "\n",
    "# Create DataFrame for the bar graph\n",
    "outlier_df = pd.DataFrame(data)\n",
    "\n",
    "# Plotting the bar graph\n",
    "plt.figure(figsize=(10, 6))\n",
    "sns.barplot(x='Category', y='Count', data=outlier_df, palette='viridis')\n",
    "plt.title('Count of Outliers vs Non-Outliers in Number of Movie Ratings', fontsize=16)\n",
    "plt.xlabel('Category', fontsize=14)\n",
    "plt.ylabel('Count', fontsize=14)\n",
    "plt.xticks(fontsize=12)\n",
    "plt.yticks(fontsize=12)\n",
    "plt.show()"
   ]
  },
  {
   "cell_type": "markdown",
   "id": "5c17ea48",
   "metadata": {},
   "source": [
    "The number of outliers seem to be very litte as compaired  to the non-outliers. To further see the effect outliers have on our data we will plot the distribution of ratings with outliers and for those without outliers."
   ]
  },
  {
   "cell_type": "code",
   "execution_count": 24,
   "id": "5b497baf",
   "metadata": {},
   "outputs": [
    {
     "data": {
      "image/png": "[encoded data removed]",
      "text/plain": [
       "<Figure size 1200x600 with 1 Axes>"
      ]
     },
     "metadata": {},
     "output_type": "display_data"
    }
   ],
   "source": [
    "import seaborn as sns\n",
    "import matplotlib.pyplot as plt\n",
    "\n",
    "# Plotting the distribution of ratings with and without outliers\n",
    "plt.figure(figsize=(12, 6))\n",
    "\n",
    "# Plot ratings distribution including outliers\n",
    "sns.histplot(movies_with_counts['rating_count'], kde=True, color='blue', label='With Outliers')\n",
    "\n",
    "# Exclude outliers and plot again\n",
    "df_no_outliers = movies_with_counts[~movies_with_counts['movieId'].isin(outliers['movieId'])]\n",
    "sns.histplot(df_no_outliers['rating_count'], kde=True, color='red', label='Without Outliers')\n",
    "\n",
    "plt.title('Distribution of Ratings With and Without Outliers')\n",
    "plt.xlabel('Rating Count')\n",
    "plt.ylabel('Frequency')\n",
    "plt.legend()\n",
    "plt.show()\n",
    "\n"
   ]
  },
  {
   "cell_type": "markdown",
   "id": "fd4e3494",
   "metadata": {},
   "source": [
    "Our data contains outliers that we cannot remove due to their sensitivity and importance to our analysis. The graph above illustrates the distribution of ratings both with and without these outliers. The distributions appear to be only slightly different, indicating that removing the outliers may not be necessary."
   ]
  },
  {
   "cell_type": "markdown",
   "id": "c9fbd2dd-1df7-4582-9cea-4bc455d04b52",
   "metadata": {},
   "source": [
    "**Univariate Analysis**\n",
    "\n",
    "Our key features for univariate analysis:\n",
    ">genres: To analyze the distribution of different genres.\n",
    "\n",
    ">tag: To analyze the frequency and distribution of different tags.\n",
    "\n",
    ">rating: To analyze the distribution of ratings given by users.\n",
    "\n",
    "These columns are essential for univariate analysis as they provide valuable insights into the distribution and characteristics of genres, tags, and ratings within the dataset."
   ]
  },
  {
   "cell_type": "code",
   "execution_count": null,
   "id": "ae378d7e",
   "metadata": {},
   "outputs": [],
   "source": [
    "# Univariate Analysis for Genres\n",
    "plt.figure(figsize=(10, 7))\n",
    "genre_counts = movies_df.iloc[:, 3:].sum().sort_values(ascending=False)\n",
    "sns.barplot(x=genre_counts.index, y=genre_counts.values, palette=\"viridis\")\n",
    "plt.xticks(rotation=90)\n",
    "plt.title('Distribution of Movie Genres')\n",
    "plt.ylabel('Number of Movies')\n",
    "plt.xlabel('Genres')\n",
    "plt.show()\n"
   ]
  },
  {
   "cell_type": "markdown",
   "id": "df603188",
   "metadata": {},
   "source": [
    "The genre with the highest number of movies produced is the **Drama** gener which suggests that it is likely the most watched genre."
   ]
  },
  {
   "cell_type": "code",
   "execution_count": null,
   "id": "ba8ec797",
   "metadata": {},
   "outputs": [],
   "source": [
    "# Univariate Analysis for Ratings\n",
    "plt.figure(figsize=(8, 7))\n",
    "sns.histplot(movies_ratings_df['rating'], bins=10, kde=True)\n",
    "plt.title('Distribution of Movie Ratings')\n",
    "plt.xlabel('Rating')\n",
    "plt.ylabel('Frequency')\n",
    "plt.show()"
   ]
  },
  {
   "cell_type": "markdown",
   "id": "7c5c6b43",
   "metadata": {},
   "source": [
    "This suggests that most movies have a rating of 4."
   ]
  },
  {
   "cell_type": "code",
   "execution_count": null,
   "id": "45180b01",
   "metadata": {},
   "outputs": [],
   "source": [
    "v"
   ]
  },
  {
   "cell_type": "code",
   "execution_count": null,
   "id": "b8e1492e",
   "metadata": {},
   "outputs": [],
   "source": [
    "# Univariate Analysis for Tags\n",
    "plt.figure(figsize=(10, 7))\n",
    "tag_counts = movies_tags_df['tag'].value_counts().head(20)  # Top 20 tags\n",
    "sns.barplot(x=tag_counts.index, y=tag_counts.values, palette=\"viridis\")\n",
    "plt.xticks(rotation=90)\n",
    "plt.title('Top 20 Tags')\n",
    "plt.xlabel('Number of Occurrences')\n",
    "plt.ylabel('Tags')\n",
    "plt.show()"
   ]
  },
  {
   "cell_type": "code",
   "execution_count": null,
   "id": "db45b2d2",
   "metadata": {},
   "outputs": [],
   "source": [
    "value_counts = tags_df[''].value_counts()\n",
    "print(value_counts)\n"
   ]
  },
  {
   "cell_type": "markdown",
   "id": "74db95ad",
   "metadata": {},
   "source": [
    "The graph suggests that most movies have the tag 'In Netflix Queue' showing that most people prefer movies that are hosted by Netflix streaming service."
   ]
  },
  {
   "cell_type": "markdown",
   "id": "68dba646",
   "metadata": {},
   "source": [
    "**Bivariate Analysis**\n",
    "\n",
    "To understand the relationship between user preferences and movie recommendations, we need to :\n",
    "1. **visualize the top ten movies**:This is done by grouping movies according to their ratings and compairing movie title of top rated movies ie.with a rating of 5, against the number of ratings it was given.\n",
    "2. **Create a correlation matrix:** to show the correlation between movie genres. This would be useful in recommending a different genre of movies to a person if the movie genres have a high positive correlation.\n",
    "3. **Compaire individuals preference:** This enables further personalization movie recommendation."
   ]
  },
  {
   "cell_type": "code",
   "execution_count": null,
   "id": "f6d73414",
   "metadata": {},
   "outputs": [],
   "source": [
    "# Filter movies with a rating of 5\n",
    "top_rated_movies = movies_ratings_df[movies_ratings_df['rating'] == 5]\n",
    "\n",
    "# Group by movie title and count the number of occurrences\n",
    "top_rated_movies_counts = top_rated_movies.groupby('title').size().reset_index(name='count')\n",
    "\n",
    "# Sort movies by count in descending order\n",
    "top_rated_movies_sorted = top_rated_movies_counts.sort_values(by='count', ascending=False)\n",
    "\n",
    "# Limit to top 10 movies\n",
    "top_10_rated_movies = top_rated_movies_sorted.head(10)\n",
    "\n",
    "# Plot the top 10 movies with a rating of 5\n",
    "plt.figure(figsize=(12, 8))\n",
    "sns.barplot(x='count', y='title', data=top_10_rated_movies, palette='viridis')\n",
    "plt.xlabel('Number of 5 Ratings')\n",
    "plt.ylabel('Movie Title')\n",
    "plt.title('Top 10 Movies with Rating of 5')\n",
    "plt.show()"
   ]
  },
  {
   "cell_type": "code",
   "execution_count": null,
   "id": "8a3441ee",
   "metadata": {},
   "outputs": [],
   "source": [
    "import seaborn as sns\n",
    "import matplotlib.pyplot as plt\n",
    "\n",
    "# Plotting box plot to check for outliers in ratings\n",
    "plt.figure(figsize=(8, 6))\n",
    "sns.boxplot(x='rating', data=ratings_df)\n",
    "plt.title('Box Plot of Movie Ratings')\n",
    "plt.xlabel('Rating')\n",
    "plt.show()"
   ]
  },
  {
   "cell_type": "markdown",
   "id": "a2dc4e4a",
   "metadata": {},
   "source": [
    "we use the correlation matrix to identify which genres are typically rated similarly by users. For example, if Action and Thriller have a high positive correlation, it might suggest that users who enjoy Action movies also enjoy Thrillers."
   ]
  },
  {
   "cell_type": "code",
   "execution_count": null,
   "id": "249672ad",
   "metadata": {},
   "outputs": [],
   "source": [
    "# Calculate the correlation matrix\n",
    "correlation_matrix = movies_ratings_df[['Drama', 'Comedy', 'Thriller', 'Action', 'Romance']].corr()\n",
    "\n",
    "# Plot the heatmap\n",
    "plt.figure(figsize=(10, 8))\n",
    "sns.heatmap(correlation_matrix, annot=True, cmap='viridis', fmt='.2f', vmin=-1, vmax=1)\n",
    "plt.title('Correlation Matrix of Ratings for Different Genres')\n",
    "plt.show()"
   ]
  },
  {
   "cell_type": "markdown",
   "id": "9b9d82cc",
   "metadata": {},
   "source": [
    "There seems to be a week negative and positive correlation between the top five. This implies that they do not influence each other's ratings. Users who like one genre are not necessarily inclined to like or dislike another genre. This might also mean that users have diverse tastes, and their preferences for different genres are not strongly linked.\n",
    "For a recommendation system, weak correlations mean that recommending one genre based on another might not be very effective. For example, if Action and Romance have a weak correlation, suggesting a Romance movie to a user who likes Action movies may not be very effective.Hence the need to visualize user preferences."
   ]
  },
  {
   "cell_type": "markdown",
   "id": "20cbf9b3",
   "metadata": {},
   "source": [
    "To create tailored recommendations that align with each user's unique interests and viewing patterns.we will visualize a user preferences.this shows individual users' preferences for different genres of movies."
   ]
  },
  {
   "cell_type": "code",
   "execution_count": null,
   "id": "3b639cf8",
   "metadata": {},
   "outputs": [],
   "source": [
    "# Select relevant columns\n",
    "data = movies_tags_df[['userId', 'Drama', 'Comedy', 'Thriller', 'Action', 'Romance']]\n",
    "\n",
    "# Replace NaN with 0 in genre columns\n",
    "data = data.fillna(0)\n",
    "\n",
    "# Calculate user preferences by averaging the genre columns\n",
    "user_preferences = data.groupby('userId').mean().reset_index()\n",
    "\n",
    "# Define genre columns\n",
    "genre_columns = ['Drama', 'Comedy', 'Thriller', 'Action', 'Romance']\n",
    "\n",
    "# Keep only userId and genre columns\n",
    "preferences = user_preferences[['userId'] + genre_columns]\n",
    "\n",
    "# Set userId as the index\n",
    "preferences.set_index('userId', inplace=True)\n",
    "# Reduce the number of users to 5\n",
    "preferences = preferences.head(10)"
   ]
  },
  {
   "cell_type": "code",
   "execution_count": null,
   "id": "ea13c965",
   "metadata": {},
   "outputs": [],
   "source": [
    "import matplotlib.pyplot as plt\n",
    "import seaborn as sns\n",
    "\n",
    "plt.figure(figsize=(12, 8))\n",
    "sns.heatmap(preferences, annot=True, cmap='viridis', vmin=0, vmax=1, cbar=True)\n",
    "plt.title('User Preferences by Genre')\n",
    "plt.xlabel('Genres')\n",
    "plt.ylabel('Users')\n",
    "plt.show()\n"
   ]
  },
  {
   "cell_type": "markdown",
   "id": "957661a2",
   "metadata": {},
   "source": [
    "From the above visualization we can personalize users gener preference by looking at users history for example user 5 prefers action movies compared to the Drama movies. We therefore recommend more action movies to user5."
   ]
  },
  {
   "cell_type": "code",
   "execution_count": null,
   "id": "b6077364",
   "metadata": {},
   "outputs": [],
   "source": []
  }
 ],
 "metadata": {
  "kernelspec": {
   "display_name": "Python 3 (ipykernel)",
   "language": "python",
   "name": "python3"
  },
  "language_info": {
   "codemirror_mode": {
    "name": "ipython",
    "version": 3
   },
   "file_extension": ".py",
   "mimetype": "text/x-python",
   "name": "python",
   "nbconvert_exporter": "python",
   "pygments_lexer": "ipython3",
   "version": "3.11.5"
  }
 },
 "nbformat": 4,
 "nbformat_minor": 5
}
