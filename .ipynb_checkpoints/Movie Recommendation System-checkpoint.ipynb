{
 "cells": [
  {
   "cell_type": "markdown",
   "id": "16c7d370-1b19-491d-af8f-7cccab8d3bb3",
   "metadata": {},
   "source": [
    "# **FLICKFLARE**\n",
    "\n",
    "\n",
    "![FlickFlareLogo](Desktop/moringa/DataScience%20Projects%202024/ml-latest-small/Phase-4-Project/Images_Movie_Recommendation_System/FlickFlareLogo.PNG)\n",
    "\n",
    "\n",
    "\n",
    "\n",
    "\n",
    "\n",
    "\n"
   ]
  },
  {
   "cell_type": "markdown",
   "id": "21f42321-8185-40c5-ac9c-a0c6699b52f9",
   "metadata": {},
   "source": [
    "### **Project Phase 4**\n",
    "\n",
    "### **Authors**\n",
    "#### Kelvin Mwaura\n",
    "#### Abigael Nyabaga\n",
    "#### Prossy Nansubuga"
   ]
  },
  {
   "cell_type": "markdown",
   "id": "04bfcc4f-a72a-4e19-a538-567cd591fef0",
   "metadata": {},
   "source": [
    "# **Movie Recommender System**\n",
    "## **Overview: FlickFlare**\n",
    "\n",
    "FlickFlare is a cutting-edge movie streaming platform designed to bring a diverse and expansive collection of films directly to your screen. Whether you're a fan of classic cinema, indie gems, or the latest blockbuster hits, FlickFlare has something for everyone.\n",
    "\n",
    "To enhance user satisfaction and ensure that our movie recommendations align with user interests, we are introducing a sophisticated movie recommender system. This system will leverage user ratings and genre preferences to suggest the top 5 movies tailored to individual tastes."
   ]
  },
  {
   "cell_type": "markdown",
   "id": "e9e916a6-c4e3-4f05-b6e0-c6b47147bdb5",
   "metadata": {},
   "source": [
    "## **Business Understanding**\n",
    "### **Problem Statement**\n",
    "\n",
    "FlickFlare, a movie streaming company, received feedback from users on the Google Play Store indicating that the movies recommended to them did not match their interests, leading to customer dissatisfaction.\n",
    "\n",
    "To address this issue, FlickFlare has approached us, RODATA-a data analytics company, to build a movie recommender system. This system will aid in suggesting the top 5 movies to users based on their ratings and preferred genres."
   ]
  },
  {
   "cell_type": "markdown",
   "id": "24577d77-92e5-48d1-8f2a-18679682ddfd",
   "metadata": {},
   "source": [
    "## **Objectives**\n",
    "\n",
    "###  **Main Objective**\n",
    "\n",
    "    To build a movie recommender system that suggests top movies to streaming users based on movie ratings and preferred genres.\n",
    "\n",
    "### Specific Objectives\n",
    "1. **Recommendation Accuracy**: Design an algorithm to precisely identify and recommend the top five movies that match user ratings and preferred genres, ensuring high relevance to individual preferences.\n",
    "2. **Boosting User Interaction**: Develop a recommendation system aimed at significantly enhancing user engagement by providing personalized movie suggestions, leading to increased interaction and longer viewing times.\n",
    "3. **Customized Movie Suggestions**: Create tailored recommendations that align with each user's unique interests and viewing patterns.\n",
    "4. **Improving Recommendation Precision**: Enhance the algorithm's accuracy over time by incorporating user feedback and continuously refining the recommendation process to better match user preferences."
   ]
  },
  {
   "cell_type": "markdown",
   "id": "5bb2316b-3624-468a-a2b2-5015fd6d15b9",
   "metadata": {},
   "source": [
    "### **Metric for Success**\n",
    "To achieve the success metrics for the recommendation system, below is structured approach that we shall use to ensure we meet both the Recommendation Accuracy and User Interaction goals\n",
    "\n",
    "1. **Recommendation Accuracy**\n",
    "   \n",
    "    Goal: Achieve at least 80% accuracy in recommending the top five movies.\n",
    "    Steps:\n",
    "        Prepare Data: Clean and preprocess movie ratings and genre data.\n",
    "        Modeling: Use collaborative filtering, content-based filtering, or a hybrid approach.\n",
    "        Evaluate: Measure accuracy with precision, recall, and top-K metrics.\n",
    "        Tune and Validate: Optimize parameters and use cross-validation.\n",
    "        Test: Deploy and test with users, adjust based on feedback.\n",
    "\n",
    "3. **User Interaction**\n",
    "\n",
    "    Goal: Increase user engagement (interaction rates and average viewing time) by at least 20% within three months.\n",
    "    Steps:\n",
    "        Track Metrics: Define and monitor current engagement metrics.\n",
    "        Deploy System: Launch the recommendation system and promote new features.\n",
    "        Measure Impact: Compare pre- and post-deployment metrics.\n",
    "        Optimize: Use user feedback to refine the system.\n",
    "        Report: Create reports on engagement improvements and adjust strategies as needed.\n"
   ]
  },
  {
   "cell_type": "markdown",
   "id": "d01c1240-9919-4c67-85ca-508e23622bd7",
   "metadata": {},
   "source": [
    "### **Data Understanding**\n",
    "\n",
    "The data used has been sourced from the MovieLens dataset from the GroupLens research lab at the University of Minnesota.\n",
    "\n",
    "It contains 100,836 ratings and 3,683 tag applications across 9,742 movies. These data were created by 610 users.\n",
    "\n",
    "The dataset is distributed among four CSV files:\n",
    "\n",
    "    links.csv\n",
    "    movies.csv\n",
    "    ratings.csv\n",
    "    tags.csv\n",
    "\n",
    "1. **movies.csv**\n",
    "\n",
    "Each line of this file after the header row represents one movie and has the following columns:\n",
    "\n",
    "    movieId: Unique ID for each movie\n",
    "    title: Name of the movie followed by its year of release\n",
    "    genres: Categories that a movie might fall into, separated by |\n",
    "\n",
    "2. **links.csv**\n",
    "\n",
    "This file contains identifiers that can be used to link this data to other data sources like IMDb. Each line of this file after the header row represents one IMDb link and has the following columns:\n",
    "\n",
    "    movieId: Unique ID for each movie as used by MovieLens\n",
    "    imdbId: Unique ID for each movie as used by IMDb\n",
    "    tmdbId: Unique ID for each movie as used by The Movie Database (TMDb)\n",
    "\n",
    "3. **tags.csv**\n",
    "\n",
    "Each line of this file after the header row represents one tag applied to one movie by one user and has the following columns:\n",
    "\n",
    "    userId: Unique ID for each user\n",
    "    movieId: Unique ID for each movie\n",
    "    tag: User-generated metadata about the movie in the form of short, meaningful phrases\n",
    "    timestamp: Time when the tag was provided by the user\n",
    "\n",
    "4. **ratings.csv**\n",
    "\n",
    "Each line of this file after the header row represents one rating and has the following columns:\n",
    "\n",
    "    userId: Unique ID for each user\n",
    "    movieId: Unique ID for each movie\n",
    "    rating: Rating given by the user for the movie. Ratings are made on a 5-star scale with 0.5 increments\n",
    "    timestamp: Time when the rating was given"
   ]
  },
  {
   "cell_type": "code",
   "execution_count": 1,
   "id": "9b24fe7f-2d60-4aa9-9bbb-02d9f5f118a4",
   "metadata": {},
   "outputs": [
    {
     "name": "stdout",
     "output_type": "stream",
     "text": [
      "Tags DataFrame:\n",
      "   userId  movieId              tag   timestamp\n",
      "0       2    60756            funny  1445714994\n",
      "1       2    60756  Highly quotable  1445714996\n",
      "2       2    60756     will ferrell  1445714992\n",
      "3       2    89774     Boxing story  1445715207\n",
      "4       2    89774              MMA  1445715200\n",
      "\n",
      "Movies DataFrame:\n",
      "   movieId                               title  \\\n",
      "0        1                    Toy Story (1995)   \n",
      "1        2                      Jumanji (1995)   \n",
      "2        3             Grumpier Old Men (1995)   \n",
      "3        4            Waiting to Exhale (1995)   \n",
      "4        5  Father of the Bride Part II (1995)   \n",
      "\n",
      "                                        genres  \n",
      "0  Adventure|Animation|Children|Comedy|Fantasy  \n",
      "1                   Adventure|Children|Fantasy  \n",
      "2                               Comedy|Romance  \n",
      "3                         Comedy|Drama|Romance  \n",
      "4                                       Comedy  \n",
      "\n",
      "Ratings DataFrame:\n",
      "   userId  movieId  rating  timestamp\n",
      "0       1        1     4.0  964982703\n",
      "1       1        3     4.0  964981247\n",
      "2       1        6     4.0  964982224\n",
      "3       1       47     5.0  964983815\n",
      "4       1       50     5.0  964982931\n",
      "\n",
      "Links DataFrame:\n",
      "   movieId  imdbId   tmdbId\n",
      "0        1  114709    862.0\n",
      "1        2  113497   8844.0\n",
      "2        3  113228  15602.0\n",
      "3        4  114885  31357.0\n",
      "4        5  113041  11862.0\n"
     ]
    }
   ],
   "source": [
    "import pandas as pd\n",
    "\n",
    "# Reading the different datasets into pandas DataFrames\n",
    "tags_df = pd.read_csv('tags.csv')\n",
    "movies_df = pd.read_csv('movies.csv')\n",
    "ratings_df = pd.read_csv('ratings.csv')\n",
    "links_df = pd.read_csv('links.csv')\n",
    "\n",
    "# Displaying the first few rows of each DataFrame to confirm successful loading\n",
    "print(\"Tags DataFrame:\")\n",
    "print(tags_df.head())\n",
    "\n",
    "print(\"\\nMovies DataFrame:\")\n",
    "print(movies_df.head())\n",
    "\n",
    "print(\"\\nRatings DataFrame:\")\n",
    "print(ratings_df.head())\n",
    "\n",
    "print(\"\\nLinks DataFrame:\")\n",
    "print(links_df.head())\n"
   ]
  },
  {
   "cell_type": "markdown",
   "id": "e0aaf31d-399f-43ca-9867-289949b8838a",
   "metadata": {},
   "source": [
    "### **Inspect and Handle Missing Values**\n",
    "\n",
    "    Check for Missing Values: We will determine if there are any missing values in the DataFrames."
   ]
  },
  {
   "cell_type": "code",
   "execution_count": 2,
   "id": "e9fbbc2d-ddce-4dee-b562-e61d1679e2fb",
   "metadata": {},
   "outputs": [
    {
     "name": "stdout",
     "output_type": "stream",
     "text": [
      "Missing values in tags_df:\n",
      "userId       0\n",
      "movieId      0\n",
      "tag          0\n",
      "timestamp    0\n",
      "dtype: int64\n",
      "\n",
      "Missing values in movies_df:\n",
      "movieId    0\n",
      "title      0\n",
      "genres     0\n",
      "dtype: int64\n",
      "\n",
      "Missing values in ratings_df:\n",
      "userId       0\n",
      "movieId      0\n",
      "rating       0\n",
      "timestamp    0\n",
      "dtype: int64\n",
      "\n",
      "Missing values in links_df:\n",
      "movieId    0\n",
      "imdbId     0\n",
      "tmdbId     8\n",
      "dtype: int64\n"
     ]
    }
   ],
   "source": [
    "print(\"Missing values in tags_df:\")\n",
    "print(tags_df.isnull().sum())\n",
    "\n",
    "print(\"\\nMissing values in movies_df:\")\n",
    "print(movies_df.isnull().sum())\n",
    "\n",
    "print(\"\\nMissing values in ratings_df:\")\n",
    "print(ratings_df.isnull().sum())\n",
    "\n",
    "print(\"\\nMissing values in links_df:\")\n",
    "print(links_df.isnull().sum())\n"
   ]
  },
  {
   "cell_type": "markdown",
   "id": "d95d9e7c-0698-4b74-ac0f-29132fffc3a5",
   "metadata": {},
   "source": [
    "### **Review Missing Data:**\n",
    "\n",
    "**Implications of Missing tmdbId Values:**\n",
    "\n",
    "1. **Data Integrity:** The missing tmdbId values mean that there are some records where the unique identifier for movies is absent. This can lead to incomplete information when attempting to link or fetch movie details.\n",
    "\n",
    "2. **Potential Issues in Analysis:** If we need to perform operations like merging with other datasets that use tmdbId, these records will not match and may result in missing data or errors in your analysis.\n",
    "\n",
    "3. **Impact on Model Training:** For machine learning models or recommendations, missing identifiers can lead to incomplete data for feature engineering, which can affect model performance and accuracy.\n",
    "\n",
    "**Steps Taken to Handle Missing Values:**\n",
    "\n",
    "1. Identified Missing Records:\n",
    "2. Dropping Rows with Missing tmdbId"
   ]
  },
  {
   "cell_type": "code",
   "execution_count": 5,
   "id": "9046611b-8d91-4dab-9cea-359fe81e4367",
   "metadata": {},
   "outputs": [
    {
     "name": "stdout",
     "output_type": "stream",
     "text": [
      "\n",
      "Records with missing tmdbId:\n",
      "      movieId  imdbId  tmdbId\n",
      "624       791  113610     NaN\n",
      "843      1107  102336     NaN\n",
      "2141     2851   81454     NaN\n",
      "3027     4051   56600     NaN\n",
      "5532    26587   92337     NaN\n",
      "5854    32600  377059     NaN\n",
      "6059    40697  105946     NaN\n",
      "7382    79299  874957     NaN\n"
     ]
    }
   ],
   "source": [
    "missing_tmdb_ids = links_df[links_df['tmdbId'].isnull()]\n",
    "print(\"\\nRecords with missing tmdbId:\")\n",
    "print(missing_tmdb_ids)\n"
   ]
  },
  {
   "cell_type": "code",
   "execution_count": 10,
   "id": "5b6e06ca-af0a-420c-835a-2ad976c74168",
   "metadata": {},
   "outputs": [
    {
     "name": "stdout",
     "output_type": "stream",
     "text": [
      "\n",
      "Missing values in tags_df:\n",
      "userId       0\n",
      "movieId      0\n",
      "tag          0\n",
      "timestamp    0\n",
      "dtype: int64\n",
      "\n",
      "Missing values in movies_df:\n",
      "movieId    0\n",
      "title      0\n",
      "genres     0\n",
      "dtype: int64\n",
      "\n",
      "Missing values in ratings_df:\n",
      "userId       0\n",
      "movieId      0\n",
      "rating       0\n",
      "timestamp    0\n",
      "dtype: int64\n",
      "\n",
      "Missing values in links_df:\n",
      "movieId    0\n",
      "imdbId     0\n",
      "tmdbId     0\n",
      "dtype: int64\n"
     ]
    }
   ],
   "source": [
    "# Check for any remaining missing values in all DataFrames\n",
    "print(\"\\nMissing values in tags_df:\")\n",
    "print(tags_df.isnull().sum())\n",
    "\n",
    "print(\"\\nMissing values in movies_df:\")\n",
    "print(movies_df.isnull().sum())\n",
    "\n",
    "print(\"\\nMissing values in ratings_df:\")\n",
    "print(ratings_df.isnull().sum())\n",
    "\n",
    "print(\"\\nMissing values in links_df:\")\n",
    "print(links_df.isnull().sum())\n"
   ]
  },
  {
   "cell_type": "code",
   "execution_count": 11,
   "id": "8c28ebf4-f274-4e0a-a437-50e761066e63",
   "metadata": {},
   "outputs": [
    {
     "name": "stdout",
     "output_type": "stream",
     "text": [
      "\n",
      "Duplicates in tags_df:\n",
      "0\n",
      "\n",
      "Duplicates in movies_df:\n",
      "0\n",
      "\n",
      "Duplicates in ratings_df:\n",
      "0\n",
      "\n",
      "Duplicates in links_df:\n",
      "0\n"
     ]
    }
   ],
   "source": [
    "# Check for duplicates in all DataFrames\n",
    "print(\"\\nDuplicates in tags_df:\")\n",
    "print(tags_df.duplicated().sum())\n",
    "\n",
    "print(\"\\nDuplicates in movies_df:\")\n",
    "print(movies_df.duplicated().sum())\n",
    "\n",
    "print(\"\\nDuplicates in ratings_df:\")\n",
    "print(ratings_df.duplicated().sum())\n",
    "\n",
    "print(\"\\nDuplicates in links_df:\")\n",
    "print(links_df.duplicated().sum())\n",
    "\n",
    "# Remove duplicates if found\n",
    "tags_df.drop_duplicates(inplace=True)\n",
    "movies_df.drop_duplicates(inplace=True)\n",
    "ratings_df.drop_duplicates(inplace=True)\n",
    "links_df.drop_duplicates(inplace=True)\n"
   ]
  },
  {
   "cell_type": "code",
   "execution_count": 12,
   "id": "6feac652-d667-45dc-8479-d4f86f1b4c94",
   "metadata": {},
   "outputs": [
    {
     "name": "stdout",
     "output_type": "stream",
     "text": [
      "\n",
      "Data types in tags_df:\n",
      "userId        int64\n",
      "movieId       int64\n",
      "tag          object\n",
      "timestamp     int64\n",
      "dtype: object\n",
      "\n",
      "Data types in movies_df:\n",
      "movieId     int64\n",
      "title      object\n",
      "genres     object\n",
      "dtype: object\n",
      "\n",
      "Data types in ratings_df:\n",
      "userId         int64\n",
      "movieId        int64\n",
      "rating       float64\n",
      "timestamp      int64\n",
      "dtype: object\n",
      "\n",
      "Data types in links_df:\n",
      "movieId      int64\n",
      "imdbId       int64\n",
      "tmdbId     float64\n",
      "dtype: object\n"
     ]
    }
   ],
   "source": [
    "#Check and Fix Data Types: Ensure columns have the correct data types\n",
    "print(\"\\nData types in tags_df:\")\n",
    "print(tags_df.dtypes)\n",
    "\n",
    "print(\"\\nData types in movies_df:\")\n",
    "print(movies_df.dtypes)\n",
    "\n",
    "print(\"\\nData types in ratings_df:\")\n",
    "print(ratings_df.dtypes)\n",
    "\n",
    "print(\"\\nData types in links_df:\")\n",
    "print(links_df.dtypes)\n",
    "\n"
   ]
  },
  {
   "cell_type": "markdown",
   "id": "9ce51382-fd07-46de-92d8-900df6349f85",
   "metadata": {},
   "source": [
    "**Convert timestamp into datetime object**\n",
    "\n",
    "Purpose: Converts timestamps from Unix epoch time (seconds since 1970-01-01) to datetime objects.\n",
    "\n",
    "Parameter unit='s': Specifies that the timestamps are in seconds. If your timestamps are in milliseconds, you would use unit='ms'.\n",
    "\n",
    "The function below is designed to convert timestamp values into datetime objects, which is useful for time-based analysis."
   ]
  },
  {
   "cell_type": "code",
   "execution_count": 14,
   "id": "0c42c9c0-139d-4ab5-aaf0-365d7972c3a7",
   "metadata": {},
   "outputs": [],
   "source": [
    "import pandas as pd\n",
    "\n",
    "# Convert timestamps to datetime\n",
    "tags_df['timestamp'] = pd.to_datetime(tags_df['timestamp'], unit='s')\n",
    "ratings_df['timestamp'] = pd.to_datetime(ratings_df['timestamp'], unit='s')\n",
    "\n"
   ]
  },
  {
   "cell_type": "markdown",
   "id": "bb0f0518-5458-4ec9-aeb3-279c38801bb9",
   "metadata": {},
   "source": [
    "**Expand genres Column**\n",
    "\n",
    "We shall expand the genres column in movies_df into separate binary columns:"
   ]
  },
  {
   "cell_type": "code",
   "execution_count": 15,
   "id": "11b8b998-fe91-4ce0-ba27-efb09dc0a5a6",
   "metadata": {},
   "outputs": [
    {
     "name": "stdout",
     "output_type": "stream",
     "text": [
      "Movies DataFrame with expanded genres:\n",
      "   movieId                               title  \\\n",
      "0        1                    Toy Story (1995)   \n",
      "1        2                      Jumanji (1995)   \n",
      "2        3             Grumpier Old Men (1995)   \n",
      "3        4            Waiting to Exhale (1995)   \n",
      "4        5  Father of the Bride Part II (1995)   \n",
      "\n",
      "                                        genres  (no genres listed)  Action  \\\n",
      "0  Adventure|Animation|Children|Comedy|Fantasy                   0       0   \n",
      "1                   Adventure|Children|Fantasy                   0       0   \n",
      "2                               Comedy|Romance                   0       0   \n",
      "3                         Comedy|Drama|Romance                   0       0   \n",
      "4                                       Comedy                   0       0   \n",
      "\n",
      "   Adventure  Animation  Children  Comedy  Crime  ...  Film-Noir  Horror  \\\n",
      "0          1          1         1       1      0  ...          0       0   \n",
      "1          1          0         1       0      0  ...          0       0   \n",
      "2          0          0         0       1      0  ...          0       0   \n",
      "3          0          0         0       1      0  ...          0       0   \n",
      "4          0          0         0       1      0  ...          0       0   \n",
      "\n",
      "   IMAX  Musical  Mystery  Romance  Sci-Fi  Thriller  War  Western  \n",
      "0     0        0        0        0       0         0    0        0  \n",
      "1     0        0        0        0       0         0    0        0  \n",
      "2     0        0        0        1       0         0    0        0  \n",
      "3     0        0        0        1       0         0    0        0  \n",
      "4     0        0        0        0       0         0    0        0  \n",
      "\n",
      "[5 rows x 43 columns]\n"
     ]
    }
   ],
   "source": [
    "# Split genres into separate columns\n",
    "genres_expanded = movies_df['genres'].str.get_dummies(sep='|')\n",
    "\n",
    "# Concatenate the expanded genres columns with the original DataFrame\n",
    "movies_df = pd.concat([movies_df, genres_expanded], axis=1)\n",
    "\n",
    "print(\"Movies DataFrame with expanded genres:\")\n",
    "print(movies_df.head())\n",
    "\n"
   ]
  },
  {
   "cell_type": "markdown",
   "id": "110471d5-a734-492f-9505-ee14e963e037",
   "metadata": {},
   "source": [
    "**Join DataFrames**\n",
    "\n",
    "We shall now join movies_df with tags_df and ratings_df, and include links_df:"
   ]
  },
  {
   "cell_type": "code",
   "execution_count": 16,
   "id": "0c83ef00-5425-4e14-8afd-b5222cf8140d",
   "metadata": {},
   "outputs": [
    {
     "name": "stdout",
     "output_type": "stream",
     "text": [
      "\n",
      "Movies and Tags DataFrame:\n",
      "   movieId             title                                       genres  \\\n",
      "0        1  Toy Story (1995)  Adventure|Animation|Children|Comedy|Fantasy   \n",
      "1        1  Toy Story (1995)  Adventure|Animation|Children|Comedy|Fantasy   \n",
      "2        1  Toy Story (1995)  Adventure|Animation|Children|Comedy|Fantasy   \n",
      "3        2    Jumanji (1995)                   Adventure|Children|Fantasy   \n",
      "4        2    Jumanji (1995)                   Adventure|Children|Fantasy   \n",
      "\n",
      "   (no genres listed)  Action  Adventure  Animation  Children  Comedy  Crime  \\\n",
      "0                   0       0          1          1         1       1      0   \n",
      "1                   0       0          1          1         1       1      0   \n",
      "2                   0       0          1          1         1       1      0   \n",
      "3                   0       0          1          0         1       0      0   \n",
      "4                   0       0          1          0         1       0      0   \n",
      "\n",
      "   ...  Musical  Mystery  Romance  Sci-Fi  Thriller  War  Western  userId  \\\n",
      "0  ...        0        0        0       0         0    0        0   336.0   \n",
      "1  ...        0        0        0       0         0    0        0   474.0   \n",
      "2  ...        0        0        0       0         0    0        0   567.0   \n",
      "3  ...        0        0        0       0         0    0        0    62.0   \n",
      "4  ...        0        0        0       0         0    0        0    62.0   \n",
      "\n",
      "                tag           timestamp  \n",
      "0             pixar 2006-02-04 09:36:04  \n",
      "1             pixar 2006-01-14 02:47:05  \n",
      "2               fun 2018-05-02 18:33:33  \n",
      "3           fantasy 2018-06-12 22:52:09  \n",
      "4  magic board game 2018-06-12 22:52:12  \n",
      "\n",
      "[5 rows x 46 columns]\n",
      "\n",
      "Movies and Ratings DataFrame:\n",
      "   movieId             title                                       genres  \\\n",
      "0        1  Toy Story (1995)  Adventure|Animation|Children|Comedy|Fantasy   \n",
      "1        1  Toy Story (1995)  Adventure|Animation|Children|Comedy|Fantasy   \n",
      "2        1  Toy Story (1995)  Adventure|Animation|Children|Comedy|Fantasy   \n",
      "3        1  Toy Story (1995)  Adventure|Animation|Children|Comedy|Fantasy   \n",
      "4        1  Toy Story (1995)  Adventure|Animation|Children|Comedy|Fantasy   \n",
      "\n",
      "   (no genres listed)  Action  Adventure  Animation  Children  Comedy  Crime  \\\n",
      "0                   0       0          1          1         1       1      0   \n",
      "1                   0       0          1          1         1       1      0   \n",
      "2                   0       0          1          1         1       1      0   \n",
      "3                   0       0          1          1         1       1      0   \n",
      "4                   0       0          1          1         1       1      0   \n",
      "\n",
      "   ...  Musical  Mystery  Romance  Sci-Fi  Thriller  War  Western  userId  \\\n",
      "0  ...        0        0        0       0         0    0        0     1.0   \n",
      "1  ...        0        0        0       0         0    0        0     5.0   \n",
      "2  ...        0        0        0       0         0    0        0     7.0   \n",
      "3  ...        0        0        0       0         0    0        0    15.0   \n",
      "4  ...        0        0        0       0         0    0        0    17.0   \n",
      "\n",
      "   rating           timestamp  \n",
      "0     4.0 2000-07-30 18:45:03  \n",
      "1     4.0 1996-11-08 06:36:02  \n",
      "2     4.5 2005-01-25 06:52:26  \n",
      "3     2.5 2017-11-13 12:59:30  \n",
      "4     4.5 2011-05-18 05:28:03  \n",
      "\n",
      "[5 rows x 46 columns]\n",
      "\n",
      "Movies and Links DataFrame:\n",
      "   movieId                               title  \\\n",
      "0        1                    Toy Story (1995)   \n",
      "1        2                      Jumanji (1995)   \n",
      "2        3             Grumpier Old Men (1995)   \n",
      "3        4            Waiting to Exhale (1995)   \n",
      "4        5  Father of the Bride Part II (1995)   \n",
      "\n",
      "                                        genres  (no genres listed)  Action  \\\n",
      "0  Adventure|Animation|Children|Comedy|Fantasy                   0       0   \n",
      "1                   Adventure|Children|Fantasy                   0       0   \n",
      "2                               Comedy|Romance                   0       0   \n",
      "3                         Comedy|Drama|Romance                   0       0   \n",
      "4                                       Comedy                   0       0   \n",
      "\n",
      "   Adventure  Animation  Children  Comedy  Crime  ...  IMAX  Musical  Mystery  \\\n",
      "0          1          1         1       1      0  ...     0        0        0   \n",
      "1          1          0         1       0      0  ...     0        0        0   \n",
      "2          0          0         0       1      0  ...     0        0        0   \n",
      "3          0          0         0       1      0  ...     0        0        0   \n",
      "4          0          0         0       1      0  ...     0        0        0   \n",
      "\n",
      "   Romance  Sci-Fi  Thriller  War  Western    imdbId   tmdbId  \n",
      "0        0       0         0    0        0  114709.0    862.0  \n",
      "1        0       0         0    0        0  113497.0   8844.0  \n",
      "2        1       0         0    0        0  113228.0  15602.0  \n",
      "3        1       0         0    0        0  114885.0  31357.0  \n",
      "4        0       0         0    0        0  113041.0  11862.0  \n",
      "\n",
      "[5 rows x 45 columns]\n"
     ]
    }
   ],
   "source": [
    "# Join movies_df with tags_df on 'movieId'\n",
    "movies_tags_df = pd.merge(movies_df, tags_df, on='movieId', how='left')\n",
    "\n",
    "# Join movies_df with ratings_df on 'movieId'\n",
    "movies_ratings_df = pd.merge(movies_df, ratings_df, on='movieId', how='left')\n",
    "\n",
    "# Join movies_df with links_df on 'movieId'\n",
    "movies_links_df = pd.merge(movies_df, links_df, on='movieId', how='left')\n",
    "\n",
    "# Print shapes and sample data for verification\n",
    "print(\"\\nMovies and Tags DataFrame:\")\n",
    "print(movies_tags_df.head())\n",
    "print(\"\\nMovies and Ratings DataFrame:\")\n",
    "print(movies_ratings_df.head())\n",
    "print(\"\\nMovies and Links DataFrame:\")\n",
    "print(movies_links_df.head())\n"
   ]
  },
  {
   "cell_type": "markdown",
   "id": "f55c3bc8-f98e-4553-93eb-0c91d94c0238",
   "metadata": {},
   "source": [
    "Handle Missing Values after merging\n",
    "\n",
    "After merging, there might be missing values if the joined DataFrames had entries not present in movies_df. You might want to handle these, especially for tmdbId in links_df"
   ]
  },
  {
   "cell_type": "code",
   "execution_count": 17,
   "id": "ec67da0e-2874-4b7a-b31b-46e2f581edfe",
   "metadata": {},
   "outputs": [
    {
     "name": "stdout",
     "output_type": "stream",
     "text": [
      "Missing values in Movies and Links DataFrame:\n",
      "movieId               0\n",
      "title                 0\n",
      "genres                0\n",
      "(no genres listed)    0\n",
      "Action                0\n",
      "Adventure             0\n",
      "Animation             0\n",
      "Children              0\n",
      "Comedy                0\n",
      "Crime                 0\n",
      "Documentary           0\n",
      "Drama                 0\n",
      "Fantasy               0\n",
      "Film-Noir             0\n",
      "Horror                0\n",
      "IMAX                  0\n",
      "Musical               0\n",
      "Mystery               0\n",
      "Romance               0\n",
      "Sci-Fi                0\n",
      "Thriller              0\n",
      "War                   0\n",
      "Western               0\n",
      "(no genres listed)    0\n",
      "Action                0\n",
      "Adventure             0\n",
      "Animation             0\n",
      "Children              0\n",
      "Comedy                0\n",
      "Crime                 0\n",
      "Documentary           0\n",
      "Drama                 0\n",
      "Fantasy               0\n",
      "Film-Noir             0\n",
      "Horror                0\n",
      "IMAX                  0\n",
      "Musical               0\n",
      "Mystery               0\n",
      "Romance               0\n",
      "Sci-Fi                0\n",
      "Thriller              0\n",
      "War                   0\n",
      "Western               0\n",
      "imdbId                8\n",
      "tmdbId                8\n",
      "dtype: int64\n"
     ]
    }
   ],
   "source": [
    "# Check for missing values\n",
    "print(\"Missing values in Movies and Links DataFrame:\")\n",
    "print(movies_links_df.isnull().sum())\n",
    "\n",
    "# Handle missing values as needed (e.g., fill with default value or drop)\n",
    "# Example: Drop rows where 'tmdbId' is missing\n",
    "movies_links_df.dropna(subset=['tmdbId'], inplace=True)\n"
   ]
  },
  {
   "cell_type": "code",
   "execution_count": 18,
   "id": "5b5e62c1-5bad-4f4f-9b50-94e54184a494",
   "metadata": {},
   "outputs": [
    {
     "name": "stdout",
     "output_type": "stream",
     "text": [
      "Missing values in Movies and Links DataFrame:\n",
      "movieId               0\n",
      "title                 0\n",
      "genres                0\n",
      "(no genres listed)    0\n",
      "Action                0\n",
      "Adventure             0\n",
      "Animation             0\n",
      "Children              0\n",
      "Comedy                0\n",
      "Crime                 0\n",
      "Documentary           0\n",
      "Drama                 0\n",
      "Fantasy               0\n",
      "Film-Noir             0\n",
      "Horror                0\n",
      "IMAX                  0\n",
      "Musical               0\n",
      "Mystery               0\n",
      "Romance               0\n",
      "Sci-Fi                0\n",
      "Thriller              0\n",
      "War                   0\n",
      "Western               0\n",
      "(no genres listed)    0\n",
      "Action                0\n",
      "Adventure             0\n",
      "Animation             0\n",
      "Children              0\n",
      "Comedy                0\n",
      "Crime                 0\n",
      "Documentary           0\n",
      "Drama                 0\n",
      "Fantasy               0\n",
      "Film-Noir             0\n",
      "Horror                0\n",
      "IMAX                  0\n",
      "Musical               0\n",
      "Mystery               0\n",
      "Romance               0\n",
      "Sci-Fi                0\n",
      "Thriller              0\n",
      "War                   0\n",
      "Western               0\n",
      "imdbId                0\n",
      "tmdbId                0\n",
      "dtype: int64\n"
     ]
    }
   ],
   "source": [
    "# Check for missing values\n",
    "print(\"Missing values in Movies and Links DataFrame:\")\n",
    "print(movies_links_df.isnull().sum())\n",
    "\n",
    "# Handle missing values as needed (e.g., fill with default value or drop)\n",
    "# Example: Drop rows where 'tmdbId' is missing\n",
    "movies_links_df.dropna(subset=['tmdbId'], inplace=True)\n"
   ]
  },
  {
   "cell_type": "code",
   "execution_count": 19,
   "id": "acb1b5cf-1ff6-4547-8a93-9165e86d8ecc",
   "metadata": {},
   "outputs": [
    {
     "name": "stdout",
     "output_type": "stream",
     "text": [
      "Duplicate columns:\n",
      "Index(['(no genres listed)', 'Action', 'Adventure', 'Animation', 'Children',\n",
      "       'Comedy', 'Crime', 'Documentary', 'Drama', 'Fantasy', 'Film-Noir',\n",
      "       'Horror', 'IMAX', 'Musical', 'Mystery', 'Romance', 'Sci-Fi', 'Thriller',\n",
      "       'War', 'Western'],\n",
      "      dtype='object')\n"
     ]
    }
   ],
   "source": [
    "# Check for duplicate column names\n",
    "print(\"Duplicate columns:\")\n",
    "print(movies_links_df.columns[movies_links_df.columns.duplicated()])\n"
   ]
  },
  {
   "cell_type": "code",
   "execution_count": 20,
   "id": "a9422f38-98c2-4e70-b5c0-71cbe8872e7a",
   "metadata": {},
   "outputs": [
    {
     "name": "stdout",
     "output_type": "stream",
     "text": [
      "Columns after removing duplicates:\n",
      "Index(['movieId', 'title', 'genres', '(no genres listed)', 'Action',\n",
      "       'Adventure', 'Animation', 'Children', 'Comedy', 'Crime', 'Documentary',\n",
      "       'Drama', 'Fantasy', 'Film-Noir', 'Horror', 'IMAX', 'Musical', 'Mystery',\n",
      "       'Romance', 'Sci-Fi', 'Thriller', 'War', 'Western', 'imdbId', 'tmdbId'],\n",
      "      dtype='object')\n",
      "\n",
      "Sample data from cleaned DataFrame:\n",
      "   movieId                               title  \\\n",
      "0        1                    Toy Story (1995)   \n",
      "1        2                      Jumanji (1995)   \n",
      "2        3             Grumpier Old Men (1995)   \n",
      "3        4            Waiting to Exhale (1995)   \n",
      "4        5  Father of the Bride Part II (1995)   \n",
      "\n",
      "                                        genres  (no genres listed)  Action  \\\n",
      "0  Adventure|Animation|Children|Comedy|Fantasy                   0       0   \n",
      "1                   Adventure|Children|Fantasy                   0       0   \n",
      "2                               Comedy|Romance                   0       0   \n",
      "3                         Comedy|Drama|Romance                   0       0   \n",
      "4                                       Comedy                   0       0   \n",
      "\n",
      "   Adventure  Animation  Children  Comedy  Crime  ...  IMAX  Musical  Mystery  \\\n",
      "0          1          1         1       1      0  ...     0        0        0   \n",
      "1          1          0         1       0      0  ...     0        0        0   \n",
      "2          0          0         0       1      0  ...     0        0        0   \n",
      "3          0          0         0       1      0  ...     0        0        0   \n",
      "4          0          0         0       1      0  ...     0        0        0   \n",
      "\n",
      "   Romance  Sci-Fi  Thriller  War  Western    imdbId   tmdbId  \n",
      "0        0       0         0    0        0  114709.0    862.0  \n",
      "1        0       0         0    0        0  113497.0   8844.0  \n",
      "2        1       0         0    0        0  113228.0  15602.0  \n",
      "3        1       0         0    0        0  114885.0  31357.0  \n",
      "4        0       0         0    0        0  113041.0  11862.0  \n",
      "\n",
      "[5 rows x 25 columns]\n"
     ]
    }
   ],
   "source": [
    "import pandas as pd\n",
    "\n",
    "# Remove duplicate genre columns\n",
    "# Find duplicated columns\n",
    "duplicate_columns = movies_links_df.columns[movies_links_df.columns.duplicated()]\n",
    "\n",
    "# Drop duplicated columns\n",
    "movies_links_df = movies_links_df.loc[:, ~movies_links_df.columns.duplicated()]\n",
    "\n",
    "# Verify the DataFrame\n",
    "print(\"Columns after removing duplicates:\")\n",
    "print(movies_links_df.columns)\n",
    "print(\"\\nSample data from cleaned DataFrame:\")\n",
    "print(movies_links_df.head())\n"
   ]
  },
  {
   "cell_type": "code",
   "execution_count": 21,
   "id": "63fc761c-49f9-4790-af3e-2c6357abcf40",
   "metadata": {},
   "outputs": [
    {
     "name": "stdout",
     "output_type": "stream",
     "text": [
      "Final shape of DataFrame: (9734, 25)\n"
     ]
    }
   ],
   "source": [
    "print(\"Final shape of DataFrame:\", movies_links_df.shape)\n"
   ]
  },
  {
   "cell_type": "code",
   "execution_count": 22,
   "id": "aef13925-e158-4279-a962-735e0c6c5868",
   "metadata": {},
   "outputs": [
    {
     "name": "stdout",
     "output_type": "stream",
     "text": [
      "Columns after removing duplicates:\n",
      "Index(['movieId', 'title', 'genres', '(no genres listed)', 'Action',\n",
      "       'Adventure', 'Animation', 'Children', 'Comedy', 'Crime', 'Documentary',\n",
      "       'Drama', 'Fantasy', 'Film-Noir', 'Horror', 'IMAX', 'Musical', 'Mystery',\n",
      "       'Romance', 'Sci-Fi', 'Thriller', 'War', 'Western', 'imdbId', 'tmdbId'],\n",
      "      dtype='object')\n"
     ]
    }
   ],
   "source": [
    "print(\"Columns after removing duplicates:\")\n",
    "print(movies_links_df.columns)\n"
   ]
  },
  {
   "cell_type": "code",
   "execution_count": 23,
   "id": "0948e7e4-6eb1-43c0-8f8c-b5fe0cf31dfd",
   "metadata": {},
   "outputs": [
    {
     "name": "stdout",
     "output_type": "stream",
     "text": [
      "Final shape of DataFrame: (9734, 25)\n",
      "Sample data from cleaned DataFrame:\n",
      "   movieId                               title  \\\n",
      "0        1                    Toy Story (1995)   \n",
      "1        2                      Jumanji (1995)   \n",
      "2        3             Grumpier Old Men (1995)   \n",
      "3        4            Waiting to Exhale (1995)   \n",
      "4        5  Father of the Bride Part II (1995)   \n",
      "\n",
      "                                        genres  (no genres listed)  Action  \\\n",
      "0  Adventure|Animation|Children|Comedy|Fantasy                   0       0   \n",
      "1                   Adventure|Children|Fantasy                   0       0   \n",
      "2                               Comedy|Romance                   0       0   \n",
      "3                         Comedy|Drama|Romance                   0       0   \n",
      "4                                       Comedy                   0       0   \n",
      "\n",
      "   Adventure  Animation  Children  Comedy  Crime  ...  IMAX  Musical  Mystery  \\\n",
      "0          1          1         1       1      0  ...     0        0        0   \n",
      "1          1          0         1       0      0  ...     0        0        0   \n",
      "2          0          0         0       1      0  ...     0        0        0   \n",
      "3          0          0         0       1      0  ...     0        0        0   \n",
      "4          0          0         0       1      0  ...     0        0        0   \n",
      "\n",
      "   Romance  Sci-Fi  Thriller  War  Western    imdbId   tmdbId  \n",
      "0        0       0         0    0        0  114709.0    862.0  \n",
      "1        0       0         0    0        0  113497.0   8844.0  \n",
      "2        1       0         0    0        0  113228.0  15602.0  \n",
      "3        1       0         0    0        0  114885.0  31357.0  \n",
      "4        0       0         0    0        0  113041.0  11862.0  \n",
      "\n",
      "[5 rows x 25 columns]\n"
     ]
    }
   ],
   "source": [
    "print(\"Final shape of DataFrame:\", movies_links_df.shape)\n",
    "print(\"Sample data from cleaned DataFrame:\")\n",
    "print(movies_links_df.head())\n"
   ]
  },
  {
   "cell_type": "markdown",
   "id": "c9fbd2dd-1df7-4582-9cea-4bc455d04b52",
   "metadata": {},
   "source": [
    "### **Exploratory Data Analysis (EDA):**\n",
    "Conduct EDA to understand distributions and relationships in your data."
   ]
  },
  {
   "cell_type": "code",
   "execution_count": 29,
   "id": "05e094b1-8e2b-4b71-914d-c18dbaa17d69",
   "metadata": {},
   "outputs": [
    {
     "data": {
      "image/png": "[encoded data removed]",
      "text/plain": [
       "<Figure size 1200x600 with 1 Axes>"
      ]
     },
     "metadata": {},
     "output_type": "display_data"
    }
   ],
   "source": [
    "genre_columns = ['Action', 'Adventure', 'Animation', 'Children', 'Comedy', 'Crime', 'Documentary', 'Drama', 'Fantasy', 'Film-Noir', 'Horror', 'IMAX', 'Musical', 'Mystery', 'Romance', 'Sci-Fi', 'Thriller', 'War', 'Western']\n",
    "\n",
    "genre_counts = movies_df[genre_columns].sum().sort_values(ascending=False)\n",
    "\n",
    "plt.figure(figsize=(12, 6))\n",
    "sns.barplot(x=genre_counts.index, y=genre_counts.values)\n",
    "plt.xticks(rotation=90)\n",
    "plt.title('Genre Distribution in Movies')\n",
    "plt.show()\n",
    "\n"
   ]
  },
  {
   "cell_type": "code",
   "execution_count": 30,
   "id": "cfdf08f6-f567-4ffe-8edb-0405fa566f6c",
   "metadata": {},
   "outputs": [
    {
     "name": "stderr",
     "output_type": "stream",
     "text": [
      "C:\\Anaconda\\Lib\\site-packages\\seaborn\\_oldcore.py:1119: FutureWarning: use_inf_as_na option is deprecated and will be removed in a future version. Convert inf values to NaN before operating instead.\n",
      "  with pd.option_context('mode.use_inf_as_na', True):\n"
     ]
    },
    {
     "data": {
      "image/png": "[encoded data removed]",
      "text/plain": [
       "<Figure size 1000x400 with 1 Axes>"
      ]
     },
     "metadata": {},
     "output_type": "display_data"
    }
   ],
   "source": [
    "plt.figure(figsize=(10, 4))\n",
    "sns.histplot(ratings_df['rating'], kde=True)\n",
    "plt.title('Distribution of Ratings')\n",
    "plt.show()\n",
    "\n",
    "\n"
   ]
  },
  {
   "cell_type": "code",
   "execution_count": 25,
   "id": "3621d6a9-944f-4dfb-abf7-834667a7f5c5",
   "metadata": {},
   "outputs": [
    {
     "data": {
      "image/png": "[encoded data removed]",
      "text/plain": [
       "<Figure size 1000x600 with 2 Axes>"
      ]
     },
     "metadata": {},
     "output_type": "display_data"
    }
   ],
   "source": [
    "# Correlation matrix\n",
    "plt.figure(figsize=(10, 6))\n",
    "corr_matrix = ratings_df.corr()\n",
    "sns.heatmap(corr_matrix, annot=True, cmap='coolwarm')\n",
    "plt.title('Correlation Matrix')\n",
    "plt.show()\n"
   ]
  },
  {
   "cell_type": "code",
   "execution_count": null,
   "id": "607e5e29-f434-426b-84dc-a8ad3be54e8b",
   "metadata": {},
   "outputs": [],
   "source": []
  }
 ],
 "metadata": {
  "kernelspec": {
   "display_name": "Python 3 (ipykernel)",
   "language": "python",
   "name": "python3"
  },
  "language_info": {
   "codemirror_mode": {
    "name": "ipython",
    "version": 3
   },
   "file_extension": ".py",
   "mimetype": "text/x-python",
   "name": "python",
   "nbconvert_exporter": "python",
   "pygments_lexer": "ipython3",
   "version": "3.11.7"
  }
 },
 "nbformat": 4,
 "nbformat_minor": 5
}
